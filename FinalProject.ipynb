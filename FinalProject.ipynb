{
  "cells": [
    {
      "cell_type": "markdown",
      "metadata": {
        "id": "g_jmMViSgDI-"
      },
      "source": [
        "#Identifying Game Review Attribution with Alibi Gradients\n",
        "\n",
        "Authors: Jason Phillips & Peeja Khorashadi\n",
        "\n",
        "Date: 05/01/2023\n",
        "\n",
        "CSC 215-01\n",
        "\n",
        "Summary: Utilizing a dataset of Steam reviews for popular games, we are trying to identify the key attributes/words that contribute to a person recommending the game or not.\n",
        "\n",
        "Dataset:https://www.kaggle.com/datasets/arashnic/game-review-dataset\n",
        "\n",
        "Papers Refrenced: https://ieeexplore-ieee-org.proxy.lib.csus.edu/document/9752380 , https://ieeexplore-ieee-org.proxy.lib.csus.edu/document/9950194 , https://www.kaggle.com/code/mehmetlaudatekman/game-review-classification-deep-learning-based , https://github.com/SeldonIO/alibi"
      ]
    },
    {
      "cell_type": "markdown",
      "metadata": {
        "id": "u1sVK1Xmnq9Q"
      },
      "source": [
        "#Import and Define\n",
        "Import necessary libraries and define useful functions"
      ]
    },
    {
      "cell_type": "code",
      "execution_count": null,
      "metadata": {
        "id": "0xbPu9wIpEDz"
      },
      "outputs": [],
      "source": [
        "from google.colab import drive\n",
        "drive.mount('/content/drive')\n",
        "# !pip install tf-explain\n",
        "# !pip install --upgrade gensim\n",
        "#!pip install alibi[tensorflow]\n",
        "!pip install alibi\n",
        "!pip install --upgrade alibi"
      ]
    },
    {
      "cell_type": "code",
      "execution_count": 2,
      "metadata": {
        "id": "9qvTWAdNf_iR",
        "colab": {
          "base_uri": "https://localhost:8080/"
        },
        "outputId": "3fb1fca8-e29d-47f5-f9ad-e57745ccc959"
      },
      "outputs": [
        {
          "output_type": "stream",
          "name": "stdout",
          "text": [
            "Python 3.10.11 (main, Apr  5 2023, 14:15:10) [GCC 9.4.0]\n",
            "Pandas 1.5.3\n",
            "Numpy 1.22.4\n",
            "Scikit-Learn 1.2.2\n",
            "\n",
            "Tensor Flow 2.12.0\n",
            "Keras 2.12.0\n",
            "Imblearn 0.10.1\n"
          ]
        }
      ],
      "source": [
        "#Import and print out the current version of packages.\n",
        "%load_ext tensorboard\n",
        "\n",
        "import tensorflow as tf\n",
        "#import tf_explain\n",
        "import numpy as np\n",
        "import matplotlib.pyplot as plt\n",
        "import sys\n",
        "import sklearn as sk\n",
        "import pandas as pd\n",
        "import shutil\n",
        "import os\n",
        "import imblearn\n",
        "import io\n",
        "import requests\n",
        "import datetime\n",
        "import string\n",
        "import torch\n",
        "import random\n",
        "\n",
        "from alibi.explainers import IntegratedGradients\n",
        "\n",
        "from scipy.stats import zscore\n",
        "from scipy import spatial\n",
        "\n",
        "from collections.abc import Sequence\n",
        "from collections import Counter\n",
        "from numpy import where\n",
        "from matplotlib import pyplot\n",
        "import matplotlib as mpl\n",
        "\n",
        "from imblearn.over_sampling import SMOTE\n",
        "\n",
        "from sklearn.datasets import make_classification\n",
        "from sklearn.model_selection import train_test_split\n",
        "from sklearn import preprocessing\n",
        "from sklearn.neighbors import KNeighborsClassifier\n",
        "from sklearn.linear_model import LogisticRegression\n",
        "from sklearn.svm import LinearSVC\n",
        "from sklearn import metrics\n",
        "from sklearn.metrics import confusion_matrix, classification_report\n",
        "from sklearn.metrics import roc_curve, auc\n",
        "\n",
        "from tensorflow import keras\n",
        "from tensorflow.keras import layers\n",
        "from tensorflow.keras.layers import Input\n",
        "from tensorflow.keras.layers import Dense\n",
        "from tensorflow.keras.models import Model\n",
        "from tensorflow.keras.utils import plot_model\n",
        "from tensorflow.keras.optimizers import Adam\n",
        "\n",
        "from torch.utils.data import TensorDataset, random_split\n",
        "from torch.utils.data import DataLoader, RandomSampler, SequentialSampler\n",
        "\n",
        "from transformers import BertTokenizer, BertModel\n",
        "from transformers import BertForSequenceClassification, AdamW, BertConfig\n",
        "from transformers import get_linear_schedule_with_warmup\n",
        "\n",
        "from keras.models import Sequential\n",
        "from keras.layers import Dense, Activation, Dropout, Flatten, Embedding\n",
        "from keras.layers import Conv2D, MaxPooling2D,LSTM\n",
        "from keras.activations import relu, sigmoid, tanh\n",
        "from keras.callbacks import EarlyStopping\n",
        "from keras.callbacks import ModelCheckpoint\n",
        "from keras import optimizers\n",
        "from keras.utils import to_categorical\n",
        "\n",
        "\n",
        "\n",
        "from gensim.models import Word2Vec, KeyedVectors\n",
        "from nltk.stem.lancaster import LancasterStemmer\n",
        "from nltk.tokenize import RegexpTokenizer\n",
        "from pprint import pprint\n",
        "from IPython.display import HTML\n",
        "\n",
        "import time\n",
        "import datetime\n",
        "\n",
        "def format_time(elapsed):\n",
        "    '''\n",
        "    Takes a time in seconds and returns a string hh:mm:ss\n",
        "    '''\n",
        "    # Round to the nearest second.\n",
        "    elapsed_rounded = int(round((elapsed)))\n",
        "    \n",
        "    # Format as hh:mm:ss\n",
        "    return str(datetime.timedelta(seconds=elapsed_rounded))\n",
        "\n",
        "# Function to calculate the accuracy of our predictions vs labels\n",
        "def flat_accuracy(preds, labels):\n",
        "    pred_flat = np.argmax(preds, axis=1).flatten()\n",
        "    labels_flat = labels.flatten()\n",
        "    return np.sum(pred_flat == labels_flat) / len(labels_flat)\n",
        "\n",
        "# Encode text values to dummy variables(i.e. [1,0,0],[0,1,0],[0,0,1] for red,green,blue)\n",
        "def encode_text_dummy(df, name):\n",
        "    dummies = pd.get_dummies(df[name])\n",
        "    for x in dummies.columns:\n",
        "        dummy_name = \"{}-{}\".format(name, x)\n",
        "        df[dummy_name] = dummies[x]\n",
        "    df.drop(name, axis=1, inplace=True)\n",
        "\n",
        "\n",
        "# Encode text values to indexes(i.e. [1],[2],[3] for red,green,blue).\n",
        "def encode_text_index(df, name):\n",
        "    le = preprocessing.LabelEncoder()\n",
        "    df[name] = le.fit_transform(df[name])\n",
        "    return le.classes_\n",
        "\n",
        "\n",
        "# Encode a numeric column as zscores\n",
        "def encode_numeric_zscore(df, name, mean=None, sd=None):\n",
        "    if mean is None:\n",
        "        mean = df[name].mean()\n",
        "\n",
        "    if sd is None:\n",
        "        sd = df[name].std()\n",
        "\n",
        "    df[name] = (df[name] - mean) / sd\n",
        "\n",
        "\n",
        "# Convert all missing values in the specified column to the median\n",
        "def missing_median(df, name):\n",
        "    med = df[name].median()\n",
        "    df[name] = df[name].fillna(med)\n",
        "\n",
        "\n",
        "# Convert all missing values in the specified column to the default\n",
        "def missing_default(df, name, default_value):\n",
        "    df[name] = df[name].fillna(default_value)\n",
        "\n",
        "\n",
        "# Convert a Pandas dataframe to the x,y inputs that TensorFlow needs\n",
        "def to_xy(df, target):\n",
        "    result = []\n",
        "    for x in df.columns:\n",
        "        if x != target:\n",
        "            result.append(x)\n",
        "    # find out the type of the target column. \n",
        "    target_type = df[target].dtypes\n",
        "    target_type = target_type[0] if isinstance(target_type, Sequence) else target_type\n",
        "    # Encode to int for classification, float otherwise. TensorFlow likes 32 bits.\n",
        "    if target_type in (np.int64, np.int32):\n",
        "        # Classification\n",
        "        dummies = pd.get_dummies(df[target])\n",
        "        return df[result].values.astype(np.float32), dummies.values.astype(np.float32)\n",
        "    else:\n",
        "        # Regression\n",
        "        return df[result].values.astype(np.float32), df[target].values.astype(np.float32)\n",
        "\n",
        "# Nicely formatted time string\n",
        "def hms_string(sec_elapsed):\n",
        "    h = int(sec_elapsed / (60 * 60))\n",
        "    m = int((sec_elapsed % (60 * 60)) / 60)\n",
        "    s = sec_elapsed % 60\n",
        "    return \"{}:{:>02}:{:>05.2f}\".format(h, m, s)\n",
        "\n",
        "\n",
        "# Regression chart.\n",
        "def chart_regression(pred,y,sort=True):\n",
        "    t = pd.DataFrame({'pred' : pred, 'y' : y.flatten()})\n",
        "    if sort:\n",
        "        t.sort_values(by=['y'],inplace=True)\n",
        "    a = plt.plot(t['y'].tolist(),label='expected')\n",
        "    b = plt.plot(t['pred'].tolist(),label='prediction')\n",
        "    plt.ylabel('output')\n",
        "    plt.legend()\n",
        "    plt.show()\n",
        "\n",
        "# Remove all rows where the specified column is +/- sd standard deviations\n",
        "def remove_outliers(df, name, sd):\n",
        "    drop_rows = df.index[(np.abs(df[name] - df[name].mean()) >= (sd * df[name].std()))]\n",
        "    df.drop(drop_rows, axis=0, inplace=True)\n",
        "\n",
        "\n",
        "# Encode a column to a range between normalized_low and normalized_high.\n",
        "def encode_numeric_range(df, name, normalized_low=-1, normalized_high=1,\n",
        "                         data_low=None, data_high=None):\n",
        "    if data_low is None:\n",
        "        data_low = min(df[name])\n",
        "        data_high = max(df[name])\n",
        "\n",
        "    df[name] = ((df[name] - data_low) / (data_high - data_low)) * (normalized_high - normalized_low) + normalized_low\n",
        "\n",
        "# Plot a confusion matrix.\n",
        "# cm is the confusion matrix, names are the names of the classes.\n",
        "def plot_confusion_matrix(cm, names, title='Confusion matrix', cmap=plt.cm.Blues):\n",
        "    plt.imshow(cm, interpolation='nearest', cmap=cmap)\n",
        "    plt.title(title)\n",
        "    plt.colorbar()\n",
        "    tick_marks = np.arange(len(names))\n",
        "    plt.xticks(tick_marks, names, rotation=45)\n",
        "    plt.yticks(tick_marks, names)\n",
        "    plt.tight_layout()\n",
        "    plt.ylabel('True label')\n",
        "    plt.xlabel('Predicted label')\n",
        "    \n",
        "\n",
        "# Plot an ROC. pred - the predictions, y - the expected output.\n",
        "def plot_roc(pred,y):\n",
        "    fpr, tpr, thresholds = roc_curve(y, pred)\n",
        "    roc_auc = auc(fpr, tpr)\n",
        "\n",
        "    plt.figure()\n",
        "    plt.plot(fpr, tpr, label='ROC curve (area = %0.2f)' % roc_auc)\n",
        "    plt.plot([0, 1], [0, 1], 'k--')\n",
        "    plt.xlim([0.0, 1.0])\n",
        "    plt.ylim([0.0, 1.05])\n",
        "    plt.xlabel('False Positive Rate')\n",
        "    plt.ylabel('True Positive Rate')\n",
        "    plt.title('Receiver Operating Characteristic (ROC)')\n",
        "    plt.legend(loc=\"lower right\")\n",
        "    plt.show()\n",
        "\n",
        "def to_sequences(seq_size, data):\n",
        "    x = []\n",
        "    y = []\n",
        "\n",
        "    for i in range(len(data)-SEQUENCE_SIZE-1):\n",
        "        #print(i)\n",
        "        window = data[i:(i+SEQUENCE_SIZE)]\n",
        "        after_window = data[i+SEQUENCE_SIZE]\n",
        "        window = [[x] for x in window]\n",
        "        #print(\"{} - {}\".format(window,after_window))\n",
        "        x.append(window)\n",
        "        y.append(after_window)\n",
        "        \n",
        "    return np.array(x),np.array(y)\n",
        "\n",
        "#Return HTML markup highlighting text with desired color.\n",
        "def  hlstr(string, color='white'):\n",
        "    return f\"<mark style=background-color:{color}>{string} </mark>\"\n",
        "\n",
        "#Scales the colors depending on the attribution.\n",
        "def colorize(attrs, cmap='PiYG'):\n",
        "    cmap_bound = np.abs(attrs).max()\n",
        "    norm = mpl.colors.Normalize(vmin=-cmap_bound, vmax=cmap_bound)\n",
        "    cmap = mpl.cm.get_cmap(cmap)\n",
        "\n",
        "    # now compute hex values of colors\n",
        "    colors = list(map(lambda x: mpl.colors.rgb2hex(cmap(norm(x))), attrs))\n",
        "    return colors\n",
        "\n",
        "\n",
        "print('Python {}'.format(sys.version))\n",
        "print('Pandas {}'.format(pd.__version__))\n",
        "print('Numpy {}'.format(np.__version__))\n",
        "print('Scikit-Learn {}'.format(sk.__version__))\n",
        "print()\n",
        "print('Tensor Flow {}'.format(tf.__version__))\n",
        "print('Keras {}'.format(tf.keras.__version__))\n",
        "print('Imblearn {}'.format(imblearn.__version__))\n",
        "\n",
        "#Remove any files in the log folder for tensorboard\n",
        "#!rm -rf \"/content/drive/MyDrive/Colab Notebooks/logs/\"\n",
        "\n",
        "#Define the log folder for tensorboard\n",
        "log_dir = \"/content/drive/MyDrive/Colab Notebooks/logs/\" + datetime.datetime.now().strftime(\"%Y%m%d-%H%M%S\")"
      ]
    },
    {
      "cell_type": "markdown",
      "metadata": {
        "id": "FNUoEl2lolgi"
      },
      "source": [
        "#Data Preprocessing (Training Dataset)\n",
        "NOTES: \n",
        "\n",
        "**Should we include numbers in the tokenized text?**\n",
        "\n",
        "**Will different genres effect our model?** "
      ]
    },
    {
      "cell_type": "code",
      "execution_count": 44,
      "metadata": {
        "colab": {
          "base_uri": "https://localhost:8080/",
          "height": 0
        },
        "id": "u-eclQzXoxj6",
        "outputId": "700f39b8-0874-4717-a762-52128368f421"
      },
      "outputs": [
        {
          "output_type": "execute_result",
          "data": {
            "text/plain": [
              "       review_id                        title    year  \\\n",
              "0              1  Spooky's Jump Scare Mansion  2016.0   \n",
              "1              2  Spooky's Jump Scare Mansion  2016.0   \n",
              "2              3  Spooky's Jump Scare Mansion  2016.0   \n",
              "3              4  Spooky's Jump Scare Mansion  2015.0   \n",
              "4              5  Spooky's Jump Scare Mansion  2015.0   \n",
              "...          ...                          ...     ...   \n",
              "17489      25535                 EverQuest II  2012.0   \n",
              "17490      25536                 EverQuest II  2017.0   \n",
              "17491      25537                 EverQuest II  2011.0   \n",
              "17492      25538                 EverQuest II     NaN   \n",
              "17493      25539                 EverQuest II     NaN   \n",
              "\n",
              "                                             user_review  user_suggestion  \n",
              "0      I'm scared and hearing creepy voices.  So I'll...                1  \n",
              "1      Best game, more better than Sam Pepper's YouTu...                1  \n",
              "2      A littly iffy on the controls, but once you kn...                1  \n",
              "3      Great game, fun and colorful and all that.A si...                1  \n",
              "4      Not many games have the cute tag right next to...                1  \n",
              "...                                                  ...              ...  \n",
              "17489  Arguably the single greatest mmorp that exists...                1  \n",
              "17490  An older game, to be sure, but has its own cha...                1  \n",
              "17491  When I frist started playing Everquest 2 it wa...                1  \n",
              "17492  cool game. THe only thing that REALLY PISSES M...                1  \n",
              "17493  this game since I was a little kid, always hav...                1  \n",
              "\n",
              "[17494 rows x 5 columns]"
            ],
            "text/html": [
              "\n",
              "  <div id=\"df-d1faa0cf-d90c-4119-a115-6d667d4d98f7\">\n",
              "    <div class=\"colab-df-container\">\n",
              "      <div>\n",
              "<style scoped>\n",
              "    .dataframe tbody tr th:only-of-type {\n",
              "        vertical-align: middle;\n",
              "    }\n",
              "\n",
              "    .dataframe tbody tr th {\n",
              "        vertical-align: top;\n",
              "    }\n",
              "\n",
              "    .dataframe thead th {\n",
              "        text-align: right;\n",
              "    }\n",
              "</style>\n",
              "<table border=\"1\" class=\"dataframe\">\n",
              "  <thead>\n",
              "    <tr style=\"text-align: right;\">\n",
              "      <th></th>\n",
              "      <th>review_id</th>\n",
              "      <th>title</th>\n",
              "      <th>year</th>\n",
              "      <th>user_review</th>\n",
              "      <th>user_suggestion</th>\n",
              "    </tr>\n",
              "  </thead>\n",
              "  <tbody>\n",
              "    <tr>\n",
              "      <th>0</th>\n",
              "      <td>1</td>\n",
              "      <td>Spooky's Jump Scare Mansion</td>\n",
              "      <td>2016.0</td>\n",
              "      <td>I'm scared and hearing creepy voices.  So I'll...</td>\n",
              "      <td>1</td>\n",
              "    </tr>\n",
              "    <tr>\n",
              "      <th>1</th>\n",
              "      <td>2</td>\n",
              "      <td>Spooky's Jump Scare Mansion</td>\n",
              "      <td>2016.0</td>\n",
              "      <td>Best game, more better than Sam Pepper's YouTu...</td>\n",
              "      <td>1</td>\n",
              "    </tr>\n",
              "    <tr>\n",
              "      <th>2</th>\n",
              "      <td>3</td>\n",
              "      <td>Spooky's Jump Scare Mansion</td>\n",
              "      <td>2016.0</td>\n",
              "      <td>A littly iffy on the controls, but once you kn...</td>\n",
              "      <td>1</td>\n",
              "    </tr>\n",
              "    <tr>\n",
              "      <th>3</th>\n",
              "      <td>4</td>\n",
              "      <td>Spooky's Jump Scare Mansion</td>\n",
              "      <td>2015.0</td>\n",
              "      <td>Great game, fun and colorful and all that.A si...</td>\n",
              "      <td>1</td>\n",
              "    </tr>\n",
              "    <tr>\n",
              "      <th>4</th>\n",
              "      <td>5</td>\n",
              "      <td>Spooky's Jump Scare Mansion</td>\n",
              "      <td>2015.0</td>\n",
              "      <td>Not many games have the cute tag right next to...</td>\n",
              "      <td>1</td>\n",
              "    </tr>\n",
              "    <tr>\n",
              "      <th>...</th>\n",
              "      <td>...</td>\n",
              "      <td>...</td>\n",
              "      <td>...</td>\n",
              "      <td>...</td>\n",
              "      <td>...</td>\n",
              "    </tr>\n",
              "    <tr>\n",
              "      <th>17489</th>\n",
              "      <td>25535</td>\n",
              "      <td>EverQuest II</td>\n",
              "      <td>2012.0</td>\n",
              "      <td>Arguably the single greatest mmorp that exists...</td>\n",
              "      <td>1</td>\n",
              "    </tr>\n",
              "    <tr>\n",
              "      <th>17490</th>\n",
              "      <td>25536</td>\n",
              "      <td>EverQuest II</td>\n",
              "      <td>2017.0</td>\n",
              "      <td>An older game, to be sure, but has its own cha...</td>\n",
              "      <td>1</td>\n",
              "    </tr>\n",
              "    <tr>\n",
              "      <th>17491</th>\n",
              "      <td>25537</td>\n",
              "      <td>EverQuest II</td>\n",
              "      <td>2011.0</td>\n",
              "      <td>When I frist started playing Everquest 2 it wa...</td>\n",
              "      <td>1</td>\n",
              "    </tr>\n",
              "    <tr>\n",
              "      <th>17492</th>\n",
              "      <td>25538</td>\n",
              "      <td>EverQuest II</td>\n",
              "      <td>NaN</td>\n",
              "      <td>cool game. THe only thing that REALLY PISSES M...</td>\n",
              "      <td>1</td>\n",
              "    </tr>\n",
              "    <tr>\n",
              "      <th>17493</th>\n",
              "      <td>25539</td>\n",
              "      <td>EverQuest II</td>\n",
              "      <td>NaN</td>\n",
              "      <td>this game since I was a little kid, always hav...</td>\n",
              "      <td>1</td>\n",
              "    </tr>\n",
              "  </tbody>\n",
              "</table>\n",
              "<p>17494 rows × 5 columns</p>\n",
              "</div>\n",
              "      <button class=\"colab-df-convert\" onclick=\"convertToInteractive('df-d1faa0cf-d90c-4119-a115-6d667d4d98f7')\"\n",
              "              title=\"Convert this dataframe to an interactive table.\"\n",
              "              style=\"display:none;\">\n",
              "        \n",
              "  <svg xmlns=\"http://www.w3.org/2000/svg\" height=\"24px\"viewBox=\"0 0 24 24\"\n",
              "       width=\"24px\">\n",
              "    <path d=\"M0 0h24v24H0V0z\" fill=\"none\"/>\n",
              "    <path d=\"M18.56 5.44l.94 2.06.94-2.06 2.06-.94-2.06-.94-.94-2.06-.94 2.06-2.06.94zm-11 1L8.5 8.5l.94-2.06 2.06-.94-2.06-.94L8.5 2.5l-.94 2.06-2.06.94zm10 10l.94 2.06.94-2.06 2.06-.94-2.06-.94-.94-2.06-.94 2.06-2.06.94z\"/><path d=\"M17.41 7.96l-1.37-1.37c-.4-.4-.92-.59-1.43-.59-.52 0-1.04.2-1.43.59L10.3 9.45l-7.72 7.72c-.78.78-.78 2.05 0 2.83L4 21.41c.39.39.9.59 1.41.59.51 0 1.02-.2 1.41-.59l7.78-7.78 2.81-2.81c.8-.78.8-2.07 0-2.86zM5.41 20L4 18.59l7.72-7.72 1.47 1.35L5.41 20z\"/>\n",
              "  </svg>\n",
              "      </button>\n",
              "      \n",
              "  <style>\n",
              "    .colab-df-container {\n",
              "      display:flex;\n",
              "      flex-wrap:wrap;\n",
              "      gap: 12px;\n",
              "    }\n",
              "\n",
              "    .colab-df-convert {\n",
              "      background-color: #E8F0FE;\n",
              "      border: none;\n",
              "      border-radius: 50%;\n",
              "      cursor: pointer;\n",
              "      display: none;\n",
              "      fill: #1967D2;\n",
              "      height: 32px;\n",
              "      padding: 0 0 0 0;\n",
              "      width: 32px;\n",
              "    }\n",
              "\n",
              "    .colab-df-convert:hover {\n",
              "      background-color: #E2EBFA;\n",
              "      box-shadow: 0px 1px 2px rgba(60, 64, 67, 0.3), 0px 1px 3px 1px rgba(60, 64, 67, 0.15);\n",
              "      fill: #174EA6;\n",
              "    }\n",
              "\n",
              "    [theme=dark] .colab-df-convert {\n",
              "      background-color: #3B4455;\n",
              "      fill: #D2E3FC;\n",
              "    }\n",
              "\n",
              "    [theme=dark] .colab-df-convert:hover {\n",
              "      background-color: #434B5C;\n",
              "      box-shadow: 0px 1px 3px 1px rgba(0, 0, 0, 0.15);\n",
              "      filter: drop-shadow(0px 1px 2px rgba(0, 0, 0, 0.3));\n",
              "      fill: #FFFFFF;\n",
              "    }\n",
              "  </style>\n",
              "\n",
              "      <script>\n",
              "        const buttonEl =\n",
              "          document.querySelector('#df-d1faa0cf-d90c-4119-a115-6d667d4d98f7 button.colab-df-convert');\n",
              "        buttonEl.style.display =\n",
              "          google.colab.kernel.accessAllowed ? 'block' : 'none';\n",
              "\n",
              "        async function convertToInteractive(key) {\n",
              "          const element = document.querySelector('#df-d1faa0cf-d90c-4119-a115-6d667d4d98f7');\n",
              "          const dataTable =\n",
              "            await google.colab.kernel.invokeFunction('convertToInteractive',\n",
              "                                                     [key], {});\n",
              "          if (!dataTable) return;\n",
              "\n",
              "          const docLinkHtml = 'Like what you see? Visit the ' +\n",
              "            '<a target=\"_blank\" href=https://colab.research.google.com/notebooks/data_table.ipynb>data table notebook</a>'\n",
              "            + ' to learn more about interactive tables.';\n",
              "          element.innerHTML = '';\n",
              "          dataTable['output_type'] = 'display_data';\n",
              "          await google.colab.output.renderOutput(dataTable, element);\n",
              "          const docLink = document.createElement('div');\n",
              "          docLink.innerHTML = docLinkHtml;\n",
              "          element.appendChild(docLink);\n",
              "        }\n",
              "      </script>\n",
              "    </div>\n",
              "  </div>\n",
              "  "
            ]
          },
          "metadata": {},
          "execution_count": 44
        }
      ],
      "source": [
        "#Read the review dataset from the training folder\n",
        "filename_read = \"https://raw.githubusercontent.com/JasonTPhillipsJr/CSC215/main/Final%20Project/train.csv\"\n",
        "df_train = pd.read_csv(filename_read, sep=',', header=0)\n",
        "df_train"
      ]
    },
    {
      "cell_type": "code",
      "execution_count": 45,
      "metadata": {
        "colab": {
          "base_uri": "https://localhost:8080/"
        },
        "id": "-hi5TsGPsRaC",
        "outputId": "435ef789-6abc-43f0-f456-16cc0c7788c0"
      },
      "outputs": [
        {
          "output_type": "stream",
          "name": "stdout",
          "text": [
            "Number of titles in the dataset: 44\n",
            "[\"Spooky's Jump Scare Mansion\" 'Sakura Clicker' 'WARMODE'\n",
            " 'Fractured Space' 'Dota 2' 'Path of Exile' 'War Thunder'\n",
            " 'Ring of Elysium' 'Team Fortress 2' 'Yu-Gi-Oh! Duel Links' 'SMITE®'\n",
            " 'Brawlhalla' 'World of Tanks Blitz' 'DCS World Steam Edition'\n",
            " 'Heroes & Generals' 'The Elder Scrolls®: Legends™' 'Trove' 'Neverwinter'\n",
            " 'Realm Royale' 'PlanetSide 2' 'Realm of the Mad God' 'Elsword'\n",
            " 'theHunter Classic' 'Eternal Card Game' 'Black Squad'\n",
            " 'Freestyle 2: Street Basketball' 'Bless Online'\n",
            " 'RaceRoom Racing Experience' 'Fallout Shelter'\n",
            " 'Tactical Monsters Rumble Arena' 'Creativerse' 'Dreadnought'\n",
            " 'Infestation: The New Z' 'Shop Heroes' 'Robocraft'\n",
            " 'Business Tour - Board Game with Online Multiplayer'\n",
            " 'Crusaders of the Lost Idols' 'AdventureQuest 3D' 'Realm Grinder'\n",
            " 'World of Guns: Gun Disassembly' 'Bloons TD Battles' 'Cuisine Royale'\n",
            " 'School of Dragons' 'EverQuest II']\n"
          ]
        }
      ],
      "source": [
        "#Print out the different games used in this review.\n",
        "#NOTE: Remove the ® symbol from smite and elder scrolls later.\n",
        "print(\"Number of titles in the dataset: \" + str(df_train['title'].nunique()))\n",
        "print(df_train['title'].unique())"
      ]
    },
    {
      "cell_type": "code",
      "execution_count": 46,
      "metadata": {
        "id": "aHaF5TFHssCI",
        "colab": {
          "base_uri": "https://localhost:8080/",
          "height": 0
        },
        "outputId": "dc4178f5-fc6c-43e8-ec85-e838cf961dd1"
      },
      "outputs": [
        {
          "output_type": "execute_result",
          "data": {
            "text/plain": [
              "                             title  \\\n",
              "0      Spooky's Jump Scare Mansion   \n",
              "1      Spooky's Jump Scare Mansion   \n",
              "2      Spooky's Jump Scare Mansion   \n",
              "3      Spooky's Jump Scare Mansion   \n",
              "4      Spooky's Jump Scare Mansion   \n",
              "...                            ...   \n",
              "17489                 EverQuest II   \n",
              "17490                 EverQuest II   \n",
              "17491                 EverQuest II   \n",
              "17492                 EverQuest II   \n",
              "17493                 EverQuest II   \n",
              "\n",
              "                                             user_review  user_suggestion  \n",
              "0      I'm scared and hearing creepy voices.  So I'll...                1  \n",
              "1      Best game, more better than Sam Pepper's YouTu...                1  \n",
              "2      A littly iffy on the controls, but once you kn...                1  \n",
              "3      Great game, fun and colorful and all that.A si...                1  \n",
              "4      Not many games have the cute tag right next to...                1  \n",
              "...                                                  ...              ...  \n",
              "17489  Arguably the single greatest mmorp that exists...                1  \n",
              "17490  An older game, to be sure, but has its own cha...                1  \n",
              "17491  When I frist started playing Everquest 2 it wa...                1  \n",
              "17492  cool game. THe only thing that REALLY PISSES M...                1  \n",
              "17493  this game since I was a little kid, always hav...                1  \n",
              "\n",
              "[17494 rows x 3 columns]"
            ],
            "text/html": [
              "\n",
              "  <div id=\"df-7d6ce17a-74c2-4ec8-b6e1-ab45286d5e90\">\n",
              "    <div class=\"colab-df-container\">\n",
              "      <div>\n",
              "<style scoped>\n",
              "    .dataframe tbody tr th:only-of-type {\n",
              "        vertical-align: middle;\n",
              "    }\n",
              "\n",
              "    .dataframe tbody tr th {\n",
              "        vertical-align: top;\n",
              "    }\n",
              "\n",
              "    .dataframe thead th {\n",
              "        text-align: right;\n",
              "    }\n",
              "</style>\n",
              "<table border=\"1\" class=\"dataframe\">\n",
              "  <thead>\n",
              "    <tr style=\"text-align: right;\">\n",
              "      <th></th>\n",
              "      <th>title</th>\n",
              "      <th>user_review</th>\n",
              "      <th>user_suggestion</th>\n",
              "    </tr>\n",
              "  </thead>\n",
              "  <tbody>\n",
              "    <tr>\n",
              "      <th>0</th>\n",
              "      <td>Spooky's Jump Scare Mansion</td>\n",
              "      <td>I'm scared and hearing creepy voices.  So I'll...</td>\n",
              "      <td>1</td>\n",
              "    </tr>\n",
              "    <tr>\n",
              "      <th>1</th>\n",
              "      <td>Spooky's Jump Scare Mansion</td>\n",
              "      <td>Best game, more better than Sam Pepper's YouTu...</td>\n",
              "      <td>1</td>\n",
              "    </tr>\n",
              "    <tr>\n",
              "      <th>2</th>\n",
              "      <td>Spooky's Jump Scare Mansion</td>\n",
              "      <td>A littly iffy on the controls, but once you kn...</td>\n",
              "      <td>1</td>\n",
              "    </tr>\n",
              "    <tr>\n",
              "      <th>3</th>\n",
              "      <td>Spooky's Jump Scare Mansion</td>\n",
              "      <td>Great game, fun and colorful and all that.A si...</td>\n",
              "      <td>1</td>\n",
              "    </tr>\n",
              "    <tr>\n",
              "      <th>4</th>\n",
              "      <td>Spooky's Jump Scare Mansion</td>\n",
              "      <td>Not many games have the cute tag right next to...</td>\n",
              "      <td>1</td>\n",
              "    </tr>\n",
              "    <tr>\n",
              "      <th>...</th>\n",
              "      <td>...</td>\n",
              "      <td>...</td>\n",
              "      <td>...</td>\n",
              "    </tr>\n",
              "    <tr>\n",
              "      <th>17489</th>\n",
              "      <td>EverQuest II</td>\n",
              "      <td>Arguably the single greatest mmorp that exists...</td>\n",
              "      <td>1</td>\n",
              "    </tr>\n",
              "    <tr>\n",
              "      <th>17490</th>\n",
              "      <td>EverQuest II</td>\n",
              "      <td>An older game, to be sure, but has its own cha...</td>\n",
              "      <td>1</td>\n",
              "    </tr>\n",
              "    <tr>\n",
              "      <th>17491</th>\n",
              "      <td>EverQuest II</td>\n",
              "      <td>When I frist started playing Everquest 2 it wa...</td>\n",
              "      <td>1</td>\n",
              "    </tr>\n",
              "    <tr>\n",
              "      <th>17492</th>\n",
              "      <td>EverQuest II</td>\n",
              "      <td>cool game. THe only thing that REALLY PISSES M...</td>\n",
              "      <td>1</td>\n",
              "    </tr>\n",
              "    <tr>\n",
              "      <th>17493</th>\n",
              "      <td>EverQuest II</td>\n",
              "      <td>this game since I was a little kid, always hav...</td>\n",
              "      <td>1</td>\n",
              "    </tr>\n",
              "  </tbody>\n",
              "</table>\n",
              "<p>17494 rows × 3 columns</p>\n",
              "</div>\n",
              "      <button class=\"colab-df-convert\" onclick=\"convertToInteractive('df-7d6ce17a-74c2-4ec8-b6e1-ab45286d5e90')\"\n",
              "              title=\"Convert this dataframe to an interactive table.\"\n",
              "              style=\"display:none;\">\n",
              "        \n",
              "  <svg xmlns=\"http://www.w3.org/2000/svg\" height=\"24px\"viewBox=\"0 0 24 24\"\n",
              "       width=\"24px\">\n",
              "    <path d=\"M0 0h24v24H0V0z\" fill=\"none\"/>\n",
              "    <path d=\"M18.56 5.44l.94 2.06.94-2.06 2.06-.94-2.06-.94-.94-2.06-.94 2.06-2.06.94zm-11 1L8.5 8.5l.94-2.06 2.06-.94-2.06-.94L8.5 2.5l-.94 2.06-2.06.94zm10 10l.94 2.06.94-2.06 2.06-.94-2.06-.94-.94-2.06-.94 2.06-2.06.94z\"/><path d=\"M17.41 7.96l-1.37-1.37c-.4-.4-.92-.59-1.43-.59-.52 0-1.04.2-1.43.59L10.3 9.45l-7.72 7.72c-.78.78-.78 2.05 0 2.83L4 21.41c.39.39.9.59 1.41.59.51 0 1.02-.2 1.41-.59l7.78-7.78 2.81-2.81c.8-.78.8-2.07 0-2.86zM5.41 20L4 18.59l7.72-7.72 1.47 1.35L5.41 20z\"/>\n",
              "  </svg>\n",
              "      </button>\n",
              "      \n",
              "  <style>\n",
              "    .colab-df-container {\n",
              "      display:flex;\n",
              "      flex-wrap:wrap;\n",
              "      gap: 12px;\n",
              "    }\n",
              "\n",
              "    .colab-df-convert {\n",
              "      background-color: #E8F0FE;\n",
              "      border: none;\n",
              "      border-radius: 50%;\n",
              "      cursor: pointer;\n",
              "      display: none;\n",
              "      fill: #1967D2;\n",
              "      height: 32px;\n",
              "      padding: 0 0 0 0;\n",
              "      width: 32px;\n",
              "    }\n",
              "\n",
              "    .colab-df-convert:hover {\n",
              "      background-color: #E2EBFA;\n",
              "      box-shadow: 0px 1px 2px rgba(60, 64, 67, 0.3), 0px 1px 3px 1px rgba(60, 64, 67, 0.15);\n",
              "      fill: #174EA6;\n",
              "    }\n",
              "\n",
              "    [theme=dark] .colab-df-convert {\n",
              "      background-color: #3B4455;\n",
              "      fill: #D2E3FC;\n",
              "    }\n",
              "\n",
              "    [theme=dark] .colab-df-convert:hover {\n",
              "      background-color: #434B5C;\n",
              "      box-shadow: 0px 1px 3px 1px rgba(0, 0, 0, 0.15);\n",
              "      filter: drop-shadow(0px 1px 2px rgba(0, 0, 0, 0.3));\n",
              "      fill: #FFFFFF;\n",
              "    }\n",
              "  </style>\n",
              "\n",
              "      <script>\n",
              "        const buttonEl =\n",
              "          document.querySelector('#df-7d6ce17a-74c2-4ec8-b6e1-ab45286d5e90 button.colab-df-convert');\n",
              "        buttonEl.style.display =\n",
              "          google.colab.kernel.accessAllowed ? 'block' : 'none';\n",
              "\n",
              "        async function convertToInteractive(key) {\n",
              "          const element = document.querySelector('#df-7d6ce17a-74c2-4ec8-b6e1-ab45286d5e90');\n",
              "          const dataTable =\n",
              "            await google.colab.kernel.invokeFunction('convertToInteractive',\n",
              "                                                     [key], {});\n",
              "          if (!dataTable) return;\n",
              "\n",
              "          const docLinkHtml = 'Like what you see? Visit the ' +\n",
              "            '<a target=\"_blank\" href=https://colab.research.google.com/notebooks/data_table.ipynb>data table notebook</a>'\n",
              "            + ' to learn more about interactive tables.';\n",
              "          element.innerHTML = '';\n",
              "          dataTable['output_type'] = 'display_data';\n",
              "          await google.colab.output.renderOutput(dataTable, element);\n",
              "          const docLink = document.createElement('div');\n",
              "          docLink.innerHTML = docLinkHtml;\n",
              "          element.appendChild(docLink);\n",
              "        }\n",
              "      </script>\n",
              "    </div>\n",
              "  </div>\n",
              "  "
            ]
          },
          "metadata": {},
          "execution_count": 46
        }
      ],
      "source": [
        "#Drop unnecessary columns\n",
        "df_train = df_train.drop(['review_id', 'year'], axis=1)\n",
        "df_train"
      ]
    },
    {
      "cell_type": "code",
      "execution_count": 47,
      "metadata": {
        "id": "i3aicTs4whjs",
        "colab": {
          "base_uri": "https://localhost:8080/",
          "height": 0
        },
        "outputId": "e341f55b-ae4e-4bdf-9896-3b1425b4914a"
      },
      "outputs": [
        {
          "output_type": "execute_result",
          "data": {
            "text/plain": [
              "Empty DataFrame\n",
              "Columns: [title, user_review, user_suggestion]\n",
              "Index: []"
            ],
            "text/html": [
              "\n",
              "  <div id=\"df-70f9d46e-93da-46a8-9215-a9c2b6967b18\">\n",
              "    <div class=\"colab-df-container\">\n",
              "      <div>\n",
              "<style scoped>\n",
              "    .dataframe tbody tr th:only-of-type {\n",
              "        vertical-align: middle;\n",
              "    }\n",
              "\n",
              "    .dataframe tbody tr th {\n",
              "        vertical-align: top;\n",
              "    }\n",
              "\n",
              "    .dataframe thead th {\n",
              "        text-align: right;\n",
              "    }\n",
              "</style>\n",
              "<table border=\"1\" class=\"dataframe\">\n",
              "  <thead>\n",
              "    <tr style=\"text-align: right;\">\n",
              "      <th></th>\n",
              "      <th>title</th>\n",
              "      <th>user_review</th>\n",
              "      <th>user_suggestion</th>\n",
              "    </tr>\n",
              "  </thead>\n",
              "  <tbody>\n",
              "  </tbody>\n",
              "</table>\n",
              "</div>\n",
              "      <button class=\"colab-df-convert\" onclick=\"convertToInteractive('df-70f9d46e-93da-46a8-9215-a9c2b6967b18')\"\n",
              "              title=\"Convert this dataframe to an interactive table.\"\n",
              "              style=\"display:none;\">\n",
              "        \n",
              "  <svg xmlns=\"http://www.w3.org/2000/svg\" height=\"24px\"viewBox=\"0 0 24 24\"\n",
              "       width=\"24px\">\n",
              "    <path d=\"M0 0h24v24H0V0z\" fill=\"none\"/>\n",
              "    <path d=\"M18.56 5.44l.94 2.06.94-2.06 2.06-.94-2.06-.94-.94-2.06-.94 2.06-2.06.94zm-11 1L8.5 8.5l.94-2.06 2.06-.94-2.06-.94L8.5 2.5l-.94 2.06-2.06.94zm10 10l.94 2.06.94-2.06 2.06-.94-2.06-.94-.94-2.06-.94 2.06-2.06.94z\"/><path d=\"M17.41 7.96l-1.37-1.37c-.4-.4-.92-.59-1.43-.59-.52 0-1.04.2-1.43.59L10.3 9.45l-7.72 7.72c-.78.78-.78 2.05 0 2.83L4 21.41c.39.39.9.59 1.41.59.51 0 1.02-.2 1.41-.59l7.78-7.78 2.81-2.81c.8-.78.8-2.07 0-2.86zM5.41 20L4 18.59l7.72-7.72 1.47 1.35L5.41 20z\"/>\n",
              "  </svg>\n",
              "      </button>\n",
              "      \n",
              "  <style>\n",
              "    .colab-df-container {\n",
              "      display:flex;\n",
              "      flex-wrap:wrap;\n",
              "      gap: 12px;\n",
              "    }\n",
              "\n",
              "    .colab-df-convert {\n",
              "      background-color: #E8F0FE;\n",
              "      border: none;\n",
              "      border-radius: 50%;\n",
              "      cursor: pointer;\n",
              "      display: none;\n",
              "      fill: #1967D2;\n",
              "      height: 32px;\n",
              "      padding: 0 0 0 0;\n",
              "      width: 32px;\n",
              "    }\n",
              "\n",
              "    .colab-df-convert:hover {\n",
              "      background-color: #E2EBFA;\n",
              "      box-shadow: 0px 1px 2px rgba(60, 64, 67, 0.3), 0px 1px 3px 1px rgba(60, 64, 67, 0.15);\n",
              "      fill: #174EA6;\n",
              "    }\n",
              "\n",
              "    [theme=dark] .colab-df-convert {\n",
              "      background-color: #3B4455;\n",
              "      fill: #D2E3FC;\n",
              "    }\n",
              "\n",
              "    [theme=dark] .colab-df-convert:hover {\n",
              "      background-color: #434B5C;\n",
              "      box-shadow: 0px 1px 3px 1px rgba(0, 0, 0, 0.15);\n",
              "      filter: drop-shadow(0px 1px 2px rgba(0, 0, 0, 0.3));\n",
              "      fill: #FFFFFF;\n",
              "    }\n",
              "  </style>\n",
              "\n",
              "      <script>\n",
              "        const buttonEl =\n",
              "          document.querySelector('#df-70f9d46e-93da-46a8-9215-a9c2b6967b18 button.colab-df-convert');\n",
              "        buttonEl.style.display =\n",
              "          google.colab.kernel.accessAllowed ? 'block' : 'none';\n",
              "\n",
              "        async function convertToInteractive(key) {\n",
              "          const element = document.querySelector('#df-70f9d46e-93da-46a8-9215-a9c2b6967b18');\n",
              "          const dataTable =\n",
              "            await google.colab.kernel.invokeFunction('convertToInteractive',\n",
              "                                                     [key], {});\n",
              "          if (!dataTable) return;\n",
              "\n",
              "          const docLinkHtml = 'Like what you see? Visit the ' +\n",
              "            '<a target=\"_blank\" href=https://colab.research.google.com/notebooks/data_table.ipynb>data table notebook</a>'\n",
              "            + ' to learn more about interactive tables.';\n",
              "          element.innerHTML = '';\n",
              "          dataTable['output_type'] = 'display_data';\n",
              "          await google.colab.output.renderOutput(dataTable, element);\n",
              "          const docLink = document.createElement('div');\n",
              "          docLink.innerHTML = docLinkHtml;\n",
              "          element.appendChild(docLink);\n",
              "        }\n",
              "      </script>\n",
              "    </div>\n",
              "  </div>\n",
              "  "
            ]
          },
          "metadata": {},
          "execution_count": 47
        }
      ],
      "source": [
        "#Check if any values are empty or null\n",
        "df_train[df_train.isnull().any(axis=1)]"
      ]
    },
    {
      "cell_type": "code",
      "execution_count": 48,
      "metadata": {
        "id": "uYQvljRgw2h0",
        "colab": {
          "base_uri": "https://localhost:8080/",
          "height": 0
        },
        "outputId": "7b33a5b8-23d2-49e0-efe2-91c28b074787"
      },
      "outputs": [
        {
          "output_type": "execute_result",
          "data": {
            "text/plain": [
              "                             title  \\\n",
              "0      Spooky's Jump Scare Mansion   \n",
              "1      Spooky's Jump Scare Mansion   \n",
              "2      Spooky's Jump Scare Mansion   \n",
              "3      Spooky's Jump Scare Mansion   \n",
              "4      Spooky's Jump Scare Mansion   \n",
              "...                            ...   \n",
              "17489                 EverQuest II   \n",
              "17490                 EverQuest II   \n",
              "17491                 EverQuest II   \n",
              "17492                 EverQuest II   \n",
              "17493                 EverQuest II   \n",
              "\n",
              "                                             user_review  user_suggestion  \\\n",
              "0      I'm scared and hearing creepy voices.  So I'll...                1   \n",
              "1      Best game, more better than Sam Pepper's YouTu...                1   \n",
              "2      A littly iffy on the controls, but once you kn...                1   \n",
              "3      Great game, fun and colorful and all that.A si...                1   \n",
              "4      Not many games have the cute tag right next to...                1   \n",
              "...                                                  ...              ...   \n",
              "17489  Arguably the single greatest mmorp that exists...                1   \n",
              "17490  An older game, to be sure, but has its own cha...                1   \n",
              "17491  When I frist started playing Everquest 2 it wa...                1   \n",
              "17492  cool game. THe only thing that REALLY PISSES M...                1   \n",
              "17493  this game since I was a little kid, always hav...                1   \n",
              "\n",
              "                                               tokenized  \n",
              "0      [i'm, scared, and, hearing, creepy, voices, so...  \n",
              "1      [best, game, more, better, than, sam, pepper's...  \n",
              "2      [a, littly, iffy, on, the, controls, but, once...  \n",
              "3      [great, game, fun, and, colorful, and, all, th...  \n",
              "4      [not, many, games, have, the, cute, tag, right...  \n",
              "...                                                  ...  \n",
              "17489  [arguably, the, single, greatest, mmorp, that,...  \n",
              "17490  [an, older, game, to, be, sure, but, has, its,...  \n",
              "17491  [when, i, frist, started, playing, everquest, ...  \n",
              "17492  [cool, game, the, only, thing, that, really, p...  \n",
              "17493  [this, game, since, i, was, a, little, kid, al...  \n",
              "\n",
              "[17494 rows x 4 columns]"
            ],
            "text/html": [
              "\n",
              "  <div id=\"df-8ba1693b-c9b1-4975-ab9c-7d454b8cff3e\">\n",
              "    <div class=\"colab-df-container\">\n",
              "      <div>\n",
              "<style scoped>\n",
              "    .dataframe tbody tr th:only-of-type {\n",
              "        vertical-align: middle;\n",
              "    }\n",
              "\n",
              "    .dataframe tbody tr th {\n",
              "        vertical-align: top;\n",
              "    }\n",
              "\n",
              "    .dataframe thead th {\n",
              "        text-align: right;\n",
              "    }\n",
              "</style>\n",
              "<table border=\"1\" class=\"dataframe\">\n",
              "  <thead>\n",
              "    <tr style=\"text-align: right;\">\n",
              "      <th></th>\n",
              "      <th>title</th>\n",
              "      <th>user_review</th>\n",
              "      <th>user_suggestion</th>\n",
              "      <th>tokenized</th>\n",
              "    </tr>\n",
              "  </thead>\n",
              "  <tbody>\n",
              "    <tr>\n",
              "      <th>0</th>\n",
              "      <td>Spooky's Jump Scare Mansion</td>\n",
              "      <td>I'm scared and hearing creepy voices.  So I'll...</td>\n",
              "      <td>1</td>\n",
              "      <td>[i'm, scared, and, hearing, creepy, voices, so...</td>\n",
              "    </tr>\n",
              "    <tr>\n",
              "      <th>1</th>\n",
              "      <td>Spooky's Jump Scare Mansion</td>\n",
              "      <td>Best game, more better than Sam Pepper's YouTu...</td>\n",
              "      <td>1</td>\n",
              "      <td>[best, game, more, better, than, sam, pepper's...</td>\n",
              "    </tr>\n",
              "    <tr>\n",
              "      <th>2</th>\n",
              "      <td>Spooky's Jump Scare Mansion</td>\n",
              "      <td>A littly iffy on the controls, but once you kn...</td>\n",
              "      <td>1</td>\n",
              "      <td>[a, littly, iffy, on, the, controls, but, once...</td>\n",
              "    </tr>\n",
              "    <tr>\n",
              "      <th>3</th>\n",
              "      <td>Spooky's Jump Scare Mansion</td>\n",
              "      <td>Great game, fun and colorful and all that.A si...</td>\n",
              "      <td>1</td>\n",
              "      <td>[great, game, fun, and, colorful, and, all, th...</td>\n",
              "    </tr>\n",
              "    <tr>\n",
              "      <th>4</th>\n",
              "      <td>Spooky's Jump Scare Mansion</td>\n",
              "      <td>Not many games have the cute tag right next to...</td>\n",
              "      <td>1</td>\n",
              "      <td>[not, many, games, have, the, cute, tag, right...</td>\n",
              "    </tr>\n",
              "    <tr>\n",
              "      <th>...</th>\n",
              "      <td>...</td>\n",
              "      <td>...</td>\n",
              "      <td>...</td>\n",
              "      <td>...</td>\n",
              "    </tr>\n",
              "    <tr>\n",
              "      <th>17489</th>\n",
              "      <td>EverQuest II</td>\n",
              "      <td>Arguably the single greatest mmorp that exists...</td>\n",
              "      <td>1</td>\n",
              "      <td>[arguably, the, single, greatest, mmorp, that,...</td>\n",
              "    </tr>\n",
              "    <tr>\n",
              "      <th>17490</th>\n",
              "      <td>EverQuest II</td>\n",
              "      <td>An older game, to be sure, but has its own cha...</td>\n",
              "      <td>1</td>\n",
              "      <td>[an, older, game, to, be, sure, but, has, its,...</td>\n",
              "    </tr>\n",
              "    <tr>\n",
              "      <th>17491</th>\n",
              "      <td>EverQuest II</td>\n",
              "      <td>When I frist started playing Everquest 2 it wa...</td>\n",
              "      <td>1</td>\n",
              "      <td>[when, i, frist, started, playing, everquest, ...</td>\n",
              "    </tr>\n",
              "    <tr>\n",
              "      <th>17492</th>\n",
              "      <td>EverQuest II</td>\n",
              "      <td>cool game. THe only thing that REALLY PISSES M...</td>\n",
              "      <td>1</td>\n",
              "      <td>[cool, game, the, only, thing, that, really, p...</td>\n",
              "    </tr>\n",
              "    <tr>\n",
              "      <th>17493</th>\n",
              "      <td>EverQuest II</td>\n",
              "      <td>this game since I was a little kid, always hav...</td>\n",
              "      <td>1</td>\n",
              "      <td>[this, game, since, i, was, a, little, kid, al...</td>\n",
              "    </tr>\n",
              "  </tbody>\n",
              "</table>\n",
              "<p>17494 rows × 4 columns</p>\n",
              "</div>\n",
              "      <button class=\"colab-df-convert\" onclick=\"convertToInteractive('df-8ba1693b-c9b1-4975-ab9c-7d454b8cff3e')\"\n",
              "              title=\"Convert this dataframe to an interactive table.\"\n",
              "              style=\"display:none;\">\n",
              "        \n",
              "  <svg xmlns=\"http://www.w3.org/2000/svg\" height=\"24px\"viewBox=\"0 0 24 24\"\n",
              "       width=\"24px\">\n",
              "    <path d=\"M0 0h24v24H0V0z\" fill=\"none\"/>\n",
              "    <path d=\"M18.56 5.44l.94 2.06.94-2.06 2.06-.94-2.06-.94-.94-2.06-.94 2.06-2.06.94zm-11 1L8.5 8.5l.94-2.06 2.06-.94-2.06-.94L8.5 2.5l-.94 2.06-2.06.94zm10 10l.94 2.06.94-2.06 2.06-.94-2.06-.94-.94-2.06-.94 2.06-2.06.94z\"/><path d=\"M17.41 7.96l-1.37-1.37c-.4-.4-.92-.59-1.43-.59-.52 0-1.04.2-1.43.59L10.3 9.45l-7.72 7.72c-.78.78-.78 2.05 0 2.83L4 21.41c.39.39.9.59 1.41.59.51 0 1.02-.2 1.41-.59l7.78-7.78 2.81-2.81c.8-.78.8-2.07 0-2.86zM5.41 20L4 18.59l7.72-7.72 1.47 1.35L5.41 20z\"/>\n",
              "  </svg>\n",
              "      </button>\n",
              "      \n",
              "  <style>\n",
              "    .colab-df-container {\n",
              "      display:flex;\n",
              "      flex-wrap:wrap;\n",
              "      gap: 12px;\n",
              "    }\n",
              "\n",
              "    .colab-df-convert {\n",
              "      background-color: #E8F0FE;\n",
              "      border: none;\n",
              "      border-radius: 50%;\n",
              "      cursor: pointer;\n",
              "      display: none;\n",
              "      fill: #1967D2;\n",
              "      height: 32px;\n",
              "      padding: 0 0 0 0;\n",
              "      width: 32px;\n",
              "    }\n",
              "\n",
              "    .colab-df-convert:hover {\n",
              "      background-color: #E2EBFA;\n",
              "      box-shadow: 0px 1px 2px rgba(60, 64, 67, 0.3), 0px 1px 3px 1px rgba(60, 64, 67, 0.15);\n",
              "      fill: #174EA6;\n",
              "    }\n",
              "\n",
              "    [theme=dark] .colab-df-convert {\n",
              "      background-color: #3B4455;\n",
              "      fill: #D2E3FC;\n",
              "    }\n",
              "\n",
              "    [theme=dark] .colab-df-convert:hover {\n",
              "      background-color: #434B5C;\n",
              "      box-shadow: 0px 1px 3px 1px rgba(0, 0, 0, 0.15);\n",
              "      filter: drop-shadow(0px 1px 2px rgba(0, 0, 0, 0.3));\n",
              "      fill: #FFFFFF;\n",
              "    }\n",
              "  </style>\n",
              "\n",
              "      <script>\n",
              "        const buttonEl =\n",
              "          document.querySelector('#df-8ba1693b-c9b1-4975-ab9c-7d454b8cff3e button.colab-df-convert');\n",
              "        buttonEl.style.display =\n",
              "          google.colab.kernel.accessAllowed ? 'block' : 'none';\n",
              "\n",
              "        async function convertToInteractive(key) {\n",
              "          const element = document.querySelector('#df-8ba1693b-c9b1-4975-ab9c-7d454b8cff3e');\n",
              "          const dataTable =\n",
              "            await google.colab.kernel.invokeFunction('convertToInteractive',\n",
              "                                                     [key], {});\n",
              "          if (!dataTable) return;\n",
              "\n",
              "          const docLinkHtml = 'Like what you see? Visit the ' +\n",
              "            '<a target=\"_blank\" href=https://colab.research.google.com/notebooks/data_table.ipynb>data table notebook</a>'\n",
              "            + ' to learn more about interactive tables.';\n",
              "          element.innerHTML = '';\n",
              "          dataTable['output_type'] = 'display_data';\n",
              "          await google.colab.output.renderOutput(dataTable, element);\n",
              "          const docLink = document.createElement('div');\n",
              "          docLink.innerHTML = docLinkHtml;\n",
              "          element.appendChild(docLink);\n",
              "        }\n",
              "      </script>\n",
              "    </div>\n",
              "  </div>\n",
              "  "
            ]
          },
          "metadata": {},
          "execution_count": 48
        }
      ],
      "source": [
        "#Tokenize the tweets to get individual words per row.\n",
        "tkr = RegexpTokenizer(\"[a-zA-Záéíóúñ']+\")\n",
        "df_train['tokenized'] = df_train['user_review'].apply(lambda row: [t.lower() for t in tkr.tokenize(row)])\n",
        "df_train"
      ]
    },
    {
      "cell_type": "code",
      "execution_count": 49,
      "metadata": {
        "id": "hUkOWxyVccqy",
        "colab": {
          "base_uri": "https://localhost:8080/",
          "height": 0
        },
        "outputId": "f3a7ae96-1259-4c72-9bb0-518c255bc516"
      },
      "outputs": [
        {
          "output_type": "execute_result",
          "data": {
            "text/plain": [
              "                             title  \\\n",
              "3      Spooky's Jump Scare Mansion   \n",
              "4      Spooky's Jump Scare Mansion   \n",
              "6      Spooky's Jump Scare Mansion   \n",
              "9      Spooky's Jump Scare Mansion   \n",
              "13     Spooky's Jump Scare Mansion   \n",
              "...                            ...   \n",
              "17486                 EverQuest II   \n",
              "17487                 EverQuest II   \n",
              "17488                 EverQuest II   \n",
              "17492                 EverQuest II   \n",
              "17493                 EverQuest II   \n",
              "\n",
              "                                             user_review  user_suggestion  \\\n",
              "3      Great game, fun and colorful and all that.A si...                1   \n",
              "4      Not many games have the cute tag right next to...                1   \n",
              "6      Great game. it's a cute little horror game tha...                1   \n",
              "9      This game with its cute little out of the wall...                1   \n",
              "13     Early Access ReviewGreat game.  It always has ...                1   \n",
              "...                                                  ...              ...   \n",
              "17486  I have always loved this game! I love the idea...                1   \n",
              "17487  After I had played it extensively for four yea...                1   \n",
              "17488  this was the first MMORPG i've ever played but...                0   \n",
              "17492  cool game. THe only thing that REALLY PISSES M...                1   \n",
              "17493  this game since I was a little kid, always hav...                1   \n",
              "\n",
              "                                               tokenized  \n",
              "3      [great, game, fun, and, colorful, and, all, th...  \n",
              "4      [not, many, games, have, the, cute, tag, right...  \n",
              "6      [great, game, it's, a, cute, little, horror, g...  \n",
              "9      [this, game, with, its, cute, little, out, of,...  \n",
              "13     [early, access, reviewgreat, game, it, always,...  \n",
              "...                                                  ...  \n",
              "17486  [i, have, always, loved, this, game, i, love, ...  \n",
              "17487  [after, i, had, played, it, extensively, for, ...  \n",
              "17488  [this, was, the, first, mmorpg, i've, ever, pl...  \n",
              "17492  [cool, game, the, only, thing, that, really, p...  \n",
              "17493  [this, game, since, i, was, a, little, kid, al...  \n",
              "\n",
              "[6682 rows x 4 columns]"
            ],
            "text/html": [
              "\n",
              "  <div id=\"df-b3e036f1-2f0f-4b0a-a05d-535d88db864b\">\n",
              "    <div class=\"colab-df-container\">\n",
              "      <div>\n",
              "<style scoped>\n",
              "    .dataframe tbody tr th:only-of-type {\n",
              "        vertical-align: middle;\n",
              "    }\n",
              "\n",
              "    .dataframe tbody tr th {\n",
              "        vertical-align: top;\n",
              "    }\n",
              "\n",
              "    .dataframe thead th {\n",
              "        text-align: right;\n",
              "    }\n",
              "</style>\n",
              "<table border=\"1\" class=\"dataframe\">\n",
              "  <thead>\n",
              "    <tr style=\"text-align: right;\">\n",
              "      <th></th>\n",
              "      <th>title</th>\n",
              "      <th>user_review</th>\n",
              "      <th>user_suggestion</th>\n",
              "      <th>tokenized</th>\n",
              "    </tr>\n",
              "  </thead>\n",
              "  <tbody>\n",
              "    <tr>\n",
              "      <th>3</th>\n",
              "      <td>Spooky's Jump Scare Mansion</td>\n",
              "      <td>Great game, fun and colorful and all that.A si...</td>\n",
              "      <td>1</td>\n",
              "      <td>[great, game, fun, and, colorful, and, all, th...</td>\n",
              "    </tr>\n",
              "    <tr>\n",
              "      <th>4</th>\n",
              "      <td>Spooky's Jump Scare Mansion</td>\n",
              "      <td>Not many games have the cute tag right next to...</td>\n",
              "      <td>1</td>\n",
              "      <td>[not, many, games, have, the, cute, tag, right...</td>\n",
              "    </tr>\n",
              "    <tr>\n",
              "      <th>6</th>\n",
              "      <td>Spooky's Jump Scare Mansion</td>\n",
              "      <td>Great game. it's a cute little horror game tha...</td>\n",
              "      <td>1</td>\n",
              "      <td>[great, game, it's, a, cute, little, horror, g...</td>\n",
              "    </tr>\n",
              "    <tr>\n",
              "      <th>9</th>\n",
              "      <td>Spooky's Jump Scare Mansion</td>\n",
              "      <td>This game with its cute little out of the wall...</td>\n",
              "      <td>1</td>\n",
              "      <td>[this, game, with, its, cute, little, out, of,...</td>\n",
              "    </tr>\n",
              "    <tr>\n",
              "      <th>13</th>\n",
              "      <td>Spooky's Jump Scare Mansion</td>\n",
              "      <td>Early Access ReviewGreat game.  It always has ...</td>\n",
              "      <td>1</td>\n",
              "      <td>[early, access, reviewgreat, game, it, always,...</td>\n",
              "    </tr>\n",
              "    <tr>\n",
              "      <th>...</th>\n",
              "      <td>...</td>\n",
              "      <td>...</td>\n",
              "      <td>...</td>\n",
              "      <td>...</td>\n",
              "    </tr>\n",
              "    <tr>\n",
              "      <th>17486</th>\n",
              "      <td>EverQuest II</td>\n",
              "      <td>I have always loved this game! I love the idea...</td>\n",
              "      <td>1</td>\n",
              "      <td>[i, have, always, loved, this, game, i, love, ...</td>\n",
              "    </tr>\n",
              "    <tr>\n",
              "      <th>17487</th>\n",
              "      <td>EverQuest II</td>\n",
              "      <td>After I had played it extensively for four yea...</td>\n",
              "      <td>1</td>\n",
              "      <td>[after, i, had, played, it, extensively, for, ...</td>\n",
              "    </tr>\n",
              "    <tr>\n",
              "      <th>17488</th>\n",
              "      <td>EverQuest II</td>\n",
              "      <td>this was the first MMORPG i've ever played but...</td>\n",
              "      <td>0</td>\n",
              "      <td>[this, was, the, first, mmorpg, i've, ever, pl...</td>\n",
              "    </tr>\n",
              "    <tr>\n",
              "      <th>17492</th>\n",
              "      <td>EverQuest II</td>\n",
              "      <td>cool game. THe only thing that REALLY PISSES M...</td>\n",
              "      <td>1</td>\n",
              "      <td>[cool, game, the, only, thing, that, really, p...</td>\n",
              "    </tr>\n",
              "    <tr>\n",
              "      <th>17493</th>\n",
              "      <td>EverQuest II</td>\n",
              "      <td>this game since I was a little kid, always hav...</td>\n",
              "      <td>1</td>\n",
              "      <td>[this, game, since, i, was, a, little, kid, al...</td>\n",
              "    </tr>\n",
              "  </tbody>\n",
              "</table>\n",
              "<p>6682 rows × 4 columns</p>\n",
              "</div>\n",
              "      <button class=\"colab-df-convert\" onclick=\"convertToInteractive('df-b3e036f1-2f0f-4b0a-a05d-535d88db864b')\"\n",
              "              title=\"Convert this dataframe to an interactive table.\"\n",
              "              style=\"display:none;\">\n",
              "        \n",
              "  <svg xmlns=\"http://www.w3.org/2000/svg\" height=\"24px\"viewBox=\"0 0 24 24\"\n",
              "       width=\"24px\">\n",
              "    <path d=\"M0 0h24v24H0V0z\" fill=\"none\"/>\n",
              "    <path d=\"M18.56 5.44l.94 2.06.94-2.06 2.06-.94-2.06-.94-.94-2.06-.94 2.06-2.06.94zm-11 1L8.5 8.5l.94-2.06 2.06-.94-2.06-.94L8.5 2.5l-.94 2.06-2.06.94zm10 10l.94 2.06.94-2.06 2.06-.94-2.06-.94-.94-2.06-.94 2.06-2.06.94z\"/><path d=\"M17.41 7.96l-1.37-1.37c-.4-.4-.92-.59-1.43-.59-.52 0-1.04.2-1.43.59L10.3 9.45l-7.72 7.72c-.78.78-.78 2.05 0 2.83L4 21.41c.39.39.9.59 1.41.59.51 0 1.02-.2 1.41-.59l7.78-7.78 2.81-2.81c.8-.78.8-2.07 0-2.86zM5.41 20L4 18.59l7.72-7.72 1.47 1.35L5.41 20z\"/>\n",
              "  </svg>\n",
              "      </button>\n",
              "      \n",
              "  <style>\n",
              "    .colab-df-container {\n",
              "      display:flex;\n",
              "      flex-wrap:wrap;\n",
              "      gap: 12px;\n",
              "    }\n",
              "\n",
              "    .colab-df-convert {\n",
              "      background-color: #E8F0FE;\n",
              "      border: none;\n",
              "      border-radius: 50%;\n",
              "      cursor: pointer;\n",
              "      display: none;\n",
              "      fill: #1967D2;\n",
              "      height: 32px;\n",
              "      padding: 0 0 0 0;\n",
              "      width: 32px;\n",
              "    }\n",
              "\n",
              "    .colab-df-convert:hover {\n",
              "      background-color: #E2EBFA;\n",
              "      box-shadow: 0px 1px 2px rgba(60, 64, 67, 0.3), 0px 1px 3px 1px rgba(60, 64, 67, 0.15);\n",
              "      fill: #174EA6;\n",
              "    }\n",
              "\n",
              "    [theme=dark] .colab-df-convert {\n",
              "      background-color: #3B4455;\n",
              "      fill: #D2E3FC;\n",
              "    }\n",
              "\n",
              "    [theme=dark] .colab-df-convert:hover {\n",
              "      background-color: #434B5C;\n",
              "      box-shadow: 0px 1px 3px 1px rgba(0, 0, 0, 0.15);\n",
              "      filter: drop-shadow(0px 1px 2px rgba(0, 0, 0, 0.3));\n",
              "      fill: #FFFFFF;\n",
              "    }\n",
              "  </style>\n",
              "\n",
              "      <script>\n",
              "        const buttonEl =\n",
              "          document.querySelector('#df-b3e036f1-2f0f-4b0a-a05d-535d88db864b button.colab-df-convert');\n",
              "        buttonEl.style.display =\n",
              "          google.colab.kernel.accessAllowed ? 'block' : 'none';\n",
              "\n",
              "        async function convertToInteractive(key) {\n",
              "          const element = document.querySelector('#df-b3e036f1-2f0f-4b0a-a05d-535d88db864b');\n",
              "          const dataTable =\n",
              "            await google.colab.kernel.invokeFunction('convertToInteractive',\n",
              "                                                     [key], {});\n",
              "          if (!dataTable) return;\n",
              "\n",
              "          const docLinkHtml = 'Like what you see? Visit the ' +\n",
              "            '<a target=\"_blank\" href=https://colab.research.google.com/notebooks/data_table.ipynb>data table notebook</a>'\n",
              "            + ' to learn more about interactive tables.';\n",
              "          element.innerHTML = '';\n",
              "          dataTable['output_type'] = 'display_data';\n",
              "          await google.colab.output.renderOutput(dataTable, element);\n",
              "          const docLink = document.createElement('div');\n",
              "          docLink.innerHTML = docLinkHtml;\n",
              "          element.appendChild(docLink);\n",
              "        }\n",
              "      </script>\n",
              "    </div>\n",
              "  </div>\n",
              "  "
            ]
          },
          "metadata": {},
          "execution_count": 49
        }
      ],
      "source": [
        "#Drop rows that have more than 150 words\n",
        "df_train=df_train[df_train[\"tokenized\"].str.len() <= 100]\n",
        "df_train=df_train[df_train[\"tokenized\"].str.len() > 3]\n",
        "df_train=df_train[~df_train[\"user_review\"].str.contains(r'[~@#$%^*/\\|<>♥¥™_=+◕ヘ░▄▐☉ʖ]')] \n",
        "df_train"
      ]
    },
    {
      "cell_type": "code",
      "source": [
        "df_train.reset_index(inplace = True)\n",
        "df_train"
      ],
      "metadata": {
        "id": "U_RZyK7W0klr",
        "colab": {
          "base_uri": "https://localhost:8080/",
          "height": 0
        },
        "outputId": "5107b220-611a-415f-c860-bef394c4dfd0"
      },
      "execution_count": 50,
      "outputs": [
        {
          "output_type": "execute_result",
          "data": {
            "text/plain": [
              "      index                        title  \\\n",
              "0         3  Spooky's Jump Scare Mansion   \n",
              "1         4  Spooky's Jump Scare Mansion   \n",
              "2         6  Spooky's Jump Scare Mansion   \n",
              "3         9  Spooky's Jump Scare Mansion   \n",
              "4        13  Spooky's Jump Scare Mansion   \n",
              "...     ...                          ...   \n",
              "6677  17486                 EverQuest II   \n",
              "6678  17487                 EverQuest II   \n",
              "6679  17488                 EverQuest II   \n",
              "6680  17492                 EverQuest II   \n",
              "6681  17493                 EverQuest II   \n",
              "\n",
              "                                            user_review  user_suggestion  \\\n",
              "0     Great game, fun and colorful and all that.A si...                1   \n",
              "1     Not many games have the cute tag right next to...                1   \n",
              "2     Great game. it's a cute little horror game tha...                1   \n",
              "3     This game with its cute little out of the wall...                1   \n",
              "4     Early Access ReviewGreat game.  It always has ...                1   \n",
              "...                                                 ...              ...   \n",
              "6677  I have always loved this game! I love the idea...                1   \n",
              "6678  After I had played it extensively for four yea...                1   \n",
              "6679  this was the first MMORPG i've ever played but...                0   \n",
              "6680  cool game. THe only thing that REALLY PISSES M...                1   \n",
              "6681  this game since I was a little kid, always hav...                1   \n",
              "\n",
              "                                              tokenized  \n",
              "0     [great, game, fun, and, colorful, and, all, th...  \n",
              "1     [not, many, games, have, the, cute, tag, right...  \n",
              "2     [great, game, it's, a, cute, little, horror, g...  \n",
              "3     [this, game, with, its, cute, little, out, of,...  \n",
              "4     [early, access, reviewgreat, game, it, always,...  \n",
              "...                                                 ...  \n",
              "6677  [i, have, always, loved, this, game, i, love, ...  \n",
              "6678  [after, i, had, played, it, extensively, for, ...  \n",
              "6679  [this, was, the, first, mmorpg, i've, ever, pl...  \n",
              "6680  [cool, game, the, only, thing, that, really, p...  \n",
              "6681  [this, game, since, i, was, a, little, kid, al...  \n",
              "\n",
              "[6682 rows x 5 columns]"
            ],
            "text/html": [
              "\n",
              "  <div id=\"df-87788a7e-6961-487d-9349-29e1066d8650\">\n",
              "    <div class=\"colab-df-container\">\n",
              "      <div>\n",
              "<style scoped>\n",
              "    .dataframe tbody tr th:only-of-type {\n",
              "        vertical-align: middle;\n",
              "    }\n",
              "\n",
              "    .dataframe tbody tr th {\n",
              "        vertical-align: top;\n",
              "    }\n",
              "\n",
              "    .dataframe thead th {\n",
              "        text-align: right;\n",
              "    }\n",
              "</style>\n",
              "<table border=\"1\" class=\"dataframe\">\n",
              "  <thead>\n",
              "    <tr style=\"text-align: right;\">\n",
              "      <th></th>\n",
              "      <th>index</th>\n",
              "      <th>title</th>\n",
              "      <th>user_review</th>\n",
              "      <th>user_suggestion</th>\n",
              "      <th>tokenized</th>\n",
              "    </tr>\n",
              "  </thead>\n",
              "  <tbody>\n",
              "    <tr>\n",
              "      <th>0</th>\n",
              "      <td>3</td>\n",
              "      <td>Spooky's Jump Scare Mansion</td>\n",
              "      <td>Great game, fun and colorful and all that.A si...</td>\n",
              "      <td>1</td>\n",
              "      <td>[great, game, fun, and, colorful, and, all, th...</td>\n",
              "    </tr>\n",
              "    <tr>\n",
              "      <th>1</th>\n",
              "      <td>4</td>\n",
              "      <td>Spooky's Jump Scare Mansion</td>\n",
              "      <td>Not many games have the cute tag right next to...</td>\n",
              "      <td>1</td>\n",
              "      <td>[not, many, games, have, the, cute, tag, right...</td>\n",
              "    </tr>\n",
              "    <tr>\n",
              "      <th>2</th>\n",
              "      <td>6</td>\n",
              "      <td>Spooky's Jump Scare Mansion</td>\n",
              "      <td>Great game. it's a cute little horror game tha...</td>\n",
              "      <td>1</td>\n",
              "      <td>[great, game, it's, a, cute, little, horror, g...</td>\n",
              "    </tr>\n",
              "    <tr>\n",
              "      <th>3</th>\n",
              "      <td>9</td>\n",
              "      <td>Spooky's Jump Scare Mansion</td>\n",
              "      <td>This game with its cute little out of the wall...</td>\n",
              "      <td>1</td>\n",
              "      <td>[this, game, with, its, cute, little, out, of,...</td>\n",
              "    </tr>\n",
              "    <tr>\n",
              "      <th>4</th>\n",
              "      <td>13</td>\n",
              "      <td>Spooky's Jump Scare Mansion</td>\n",
              "      <td>Early Access ReviewGreat game.  It always has ...</td>\n",
              "      <td>1</td>\n",
              "      <td>[early, access, reviewgreat, game, it, always,...</td>\n",
              "    </tr>\n",
              "    <tr>\n",
              "      <th>...</th>\n",
              "      <td>...</td>\n",
              "      <td>...</td>\n",
              "      <td>...</td>\n",
              "      <td>...</td>\n",
              "      <td>...</td>\n",
              "    </tr>\n",
              "    <tr>\n",
              "      <th>6677</th>\n",
              "      <td>17486</td>\n",
              "      <td>EverQuest II</td>\n",
              "      <td>I have always loved this game! I love the idea...</td>\n",
              "      <td>1</td>\n",
              "      <td>[i, have, always, loved, this, game, i, love, ...</td>\n",
              "    </tr>\n",
              "    <tr>\n",
              "      <th>6678</th>\n",
              "      <td>17487</td>\n",
              "      <td>EverQuest II</td>\n",
              "      <td>After I had played it extensively for four yea...</td>\n",
              "      <td>1</td>\n",
              "      <td>[after, i, had, played, it, extensively, for, ...</td>\n",
              "    </tr>\n",
              "    <tr>\n",
              "      <th>6679</th>\n",
              "      <td>17488</td>\n",
              "      <td>EverQuest II</td>\n",
              "      <td>this was the first MMORPG i've ever played but...</td>\n",
              "      <td>0</td>\n",
              "      <td>[this, was, the, first, mmorpg, i've, ever, pl...</td>\n",
              "    </tr>\n",
              "    <tr>\n",
              "      <th>6680</th>\n",
              "      <td>17492</td>\n",
              "      <td>EverQuest II</td>\n",
              "      <td>cool game. THe only thing that REALLY PISSES M...</td>\n",
              "      <td>1</td>\n",
              "      <td>[cool, game, the, only, thing, that, really, p...</td>\n",
              "    </tr>\n",
              "    <tr>\n",
              "      <th>6681</th>\n",
              "      <td>17493</td>\n",
              "      <td>EverQuest II</td>\n",
              "      <td>this game since I was a little kid, always hav...</td>\n",
              "      <td>1</td>\n",
              "      <td>[this, game, since, i, was, a, little, kid, al...</td>\n",
              "    </tr>\n",
              "  </tbody>\n",
              "</table>\n",
              "<p>6682 rows × 5 columns</p>\n",
              "</div>\n",
              "      <button class=\"colab-df-convert\" onclick=\"convertToInteractive('df-87788a7e-6961-487d-9349-29e1066d8650')\"\n",
              "              title=\"Convert this dataframe to an interactive table.\"\n",
              "              style=\"display:none;\">\n",
              "        \n",
              "  <svg xmlns=\"http://www.w3.org/2000/svg\" height=\"24px\"viewBox=\"0 0 24 24\"\n",
              "       width=\"24px\">\n",
              "    <path d=\"M0 0h24v24H0V0z\" fill=\"none\"/>\n",
              "    <path d=\"M18.56 5.44l.94 2.06.94-2.06 2.06-.94-2.06-.94-.94-2.06-.94 2.06-2.06.94zm-11 1L8.5 8.5l.94-2.06 2.06-.94-2.06-.94L8.5 2.5l-.94 2.06-2.06.94zm10 10l.94 2.06.94-2.06 2.06-.94-2.06-.94-.94-2.06-.94 2.06-2.06.94z\"/><path d=\"M17.41 7.96l-1.37-1.37c-.4-.4-.92-.59-1.43-.59-.52 0-1.04.2-1.43.59L10.3 9.45l-7.72 7.72c-.78.78-.78 2.05 0 2.83L4 21.41c.39.39.9.59 1.41.59.51 0 1.02-.2 1.41-.59l7.78-7.78 2.81-2.81c.8-.78.8-2.07 0-2.86zM5.41 20L4 18.59l7.72-7.72 1.47 1.35L5.41 20z\"/>\n",
              "  </svg>\n",
              "      </button>\n",
              "      \n",
              "  <style>\n",
              "    .colab-df-container {\n",
              "      display:flex;\n",
              "      flex-wrap:wrap;\n",
              "      gap: 12px;\n",
              "    }\n",
              "\n",
              "    .colab-df-convert {\n",
              "      background-color: #E8F0FE;\n",
              "      border: none;\n",
              "      border-radius: 50%;\n",
              "      cursor: pointer;\n",
              "      display: none;\n",
              "      fill: #1967D2;\n",
              "      height: 32px;\n",
              "      padding: 0 0 0 0;\n",
              "      width: 32px;\n",
              "    }\n",
              "\n",
              "    .colab-df-convert:hover {\n",
              "      background-color: #E2EBFA;\n",
              "      box-shadow: 0px 1px 2px rgba(60, 64, 67, 0.3), 0px 1px 3px 1px rgba(60, 64, 67, 0.15);\n",
              "      fill: #174EA6;\n",
              "    }\n",
              "\n",
              "    [theme=dark] .colab-df-convert {\n",
              "      background-color: #3B4455;\n",
              "      fill: #D2E3FC;\n",
              "    }\n",
              "\n",
              "    [theme=dark] .colab-df-convert:hover {\n",
              "      background-color: #434B5C;\n",
              "      box-shadow: 0px 1px 3px 1px rgba(0, 0, 0, 0.15);\n",
              "      filter: drop-shadow(0px 1px 2px rgba(0, 0, 0, 0.3));\n",
              "      fill: #FFFFFF;\n",
              "    }\n",
              "  </style>\n",
              "\n",
              "      <script>\n",
              "        const buttonEl =\n",
              "          document.querySelector('#df-87788a7e-6961-487d-9349-29e1066d8650 button.colab-df-convert');\n",
              "        buttonEl.style.display =\n",
              "          google.colab.kernel.accessAllowed ? 'block' : 'none';\n",
              "\n",
              "        async function convertToInteractive(key) {\n",
              "          const element = document.querySelector('#df-87788a7e-6961-487d-9349-29e1066d8650');\n",
              "          const dataTable =\n",
              "            await google.colab.kernel.invokeFunction('convertToInteractive',\n",
              "                                                     [key], {});\n",
              "          if (!dataTable) return;\n",
              "\n",
              "          const docLinkHtml = 'Like what you see? Visit the ' +\n",
              "            '<a target=\"_blank\" href=https://colab.research.google.com/notebooks/data_table.ipynb>data table notebook</a>'\n",
              "            + ' to learn more about interactive tables.';\n",
              "          element.innerHTML = '';\n",
              "          dataTable['output_type'] = 'display_data';\n",
              "          await google.colab.output.renderOutput(dataTable, element);\n",
              "          const docLink = document.createElement('div');\n",
              "          docLink.innerHTML = docLinkHtml;\n",
              "          element.appendChild(docLink);\n",
              "        }\n",
              "      </script>\n",
              "    </div>\n",
              "  </div>\n",
              "  "
            ]
          },
          "metadata": {},
          "execution_count": 50
        }
      ]
    },
    {
      "cell_type": "code",
      "source": [
        "#df_test = df_train.sample(frac = .2, random_state = 2)\n",
        "#df_train = df_train.drop(df_test.index)"
      ],
      "metadata": {
        "id": "jpicSec3gP6H"
      },
      "execution_count": 51,
      "outputs": []
    },
    {
      "cell_type": "code",
      "source": [
        "#df_test"
      ],
      "metadata": {
        "id": "b4ZCvB41eRK9"
      },
      "execution_count": 52,
      "outputs": []
    },
    {
      "cell_type": "markdown",
      "metadata": {
        "id": "3HSYgQsupE-J"
      },
      "source": [
        "#Data Preprocessing (Test Dataset) Not used because there are no labels."
      ]
    },
    {
      "cell_type": "code",
      "execution_count": null,
      "metadata": {
        "colab": {
          "base_uri": "https://localhost:8080/"
        },
        "id": "6HTgOPWTpL3z",
        "outputId": "16c4ce5f-3186-48ce-d8d6-9375d99f0a64"
      },
      "outputs": [
        {
          "output_type": "stream",
          "name": "stdout",
          "text": [
            "Test data shape: (8045, 4)\n"
          ]
        },
        {
          "output_type": "execute_result",
          "data": {
            "text/plain": [
              "      review_id                             title    year  \\\n",
              "0          1603  Counter-Strike: Global Offensive  2015.0   \n",
              "1          1604  Counter-Strike: Global Offensive  2018.0   \n",
              "2          1605  Counter-Strike: Global Offensive  2018.0   \n",
              "3          1606  Counter-Strike: Global Offensive  2015.0   \n",
              "4          1607  Counter-Strike: Global Offensive  2015.0   \n",
              "...         ...                               ...     ...   \n",
              "8040      25198                          GUNS UP!  2017.0   \n",
              "8041      25199                          GUNS UP!  2018.0   \n",
              "8042      25200                          GUNS UP!  2018.0   \n",
              "8043      25201                          GUNS UP!  2018.0   \n",
              "8044      25202                          GUNS UP!     NaN   \n",
              "\n",
              "                                            user_review  \n",
              "0     Nice graphics, new maps, weapons and models. B...  \n",
              "1     I would not recommend getting into this at its...  \n",
              "2     Edit 11/12/18I have tried playing CS:GO recent...  \n",
              "3     The game is great. But the community is the wo...  \n",
              "4     I thank TrulyRazor for buying this for me a lo...  \n",
              "...                                                 ...  \n",
              "8040  Early Access ReviewGuns UP!Positive: Good Idea...  \n",
              "8041  After 170 hrs, my review. DO NOT SPEND ANY MON...  \n",
              "8042  Pros:-Fun GameplayCons: -Micro %$#*ing transac...  \n",
              "8043  Actualy saucy, I definetly suggest to players ...  \n",
              "8044  see people that play for 30 minutes and then s...  \n",
              "\n",
              "[8045 rows x 4 columns]"
            ],
            "text/html": [
              "\n",
              "  <div id=\"df-63f9f38d-67c8-447a-bb37-16deb0559259\">\n",
              "    <div class=\"colab-df-container\">\n",
              "      <div>\n",
              "<style scoped>\n",
              "    .dataframe tbody tr th:only-of-type {\n",
              "        vertical-align: middle;\n",
              "    }\n",
              "\n",
              "    .dataframe tbody tr th {\n",
              "        vertical-align: top;\n",
              "    }\n",
              "\n",
              "    .dataframe thead th {\n",
              "        text-align: right;\n",
              "    }\n",
              "</style>\n",
              "<table border=\"1\" class=\"dataframe\">\n",
              "  <thead>\n",
              "    <tr style=\"text-align: right;\">\n",
              "      <th></th>\n",
              "      <th>review_id</th>\n",
              "      <th>title</th>\n",
              "      <th>year</th>\n",
              "      <th>user_review</th>\n",
              "    </tr>\n",
              "  </thead>\n",
              "  <tbody>\n",
              "    <tr>\n",
              "      <th>0</th>\n",
              "      <td>1603</td>\n",
              "      <td>Counter-Strike: Global Offensive</td>\n",
              "      <td>2015.0</td>\n",
              "      <td>Nice graphics, new maps, weapons and models. B...</td>\n",
              "    </tr>\n",
              "    <tr>\n",
              "      <th>1</th>\n",
              "      <td>1604</td>\n",
              "      <td>Counter-Strike: Global Offensive</td>\n",
              "      <td>2018.0</td>\n",
              "      <td>I would not recommend getting into this at its...</td>\n",
              "    </tr>\n",
              "    <tr>\n",
              "      <th>2</th>\n",
              "      <td>1605</td>\n",
              "      <td>Counter-Strike: Global Offensive</td>\n",
              "      <td>2018.0</td>\n",
              "      <td>Edit 11/12/18I have tried playing CS:GO recent...</td>\n",
              "    </tr>\n",
              "    <tr>\n",
              "      <th>3</th>\n",
              "      <td>1606</td>\n",
              "      <td>Counter-Strike: Global Offensive</td>\n",
              "      <td>2015.0</td>\n",
              "      <td>The game is great. But the community is the wo...</td>\n",
              "    </tr>\n",
              "    <tr>\n",
              "      <th>4</th>\n",
              "      <td>1607</td>\n",
              "      <td>Counter-Strike: Global Offensive</td>\n",
              "      <td>2015.0</td>\n",
              "      <td>I thank TrulyRazor for buying this for me a lo...</td>\n",
              "    </tr>\n",
              "    <tr>\n",
              "      <th>...</th>\n",
              "      <td>...</td>\n",
              "      <td>...</td>\n",
              "      <td>...</td>\n",
              "      <td>...</td>\n",
              "    </tr>\n",
              "    <tr>\n",
              "      <th>8040</th>\n",
              "      <td>25198</td>\n",
              "      <td>GUNS UP!</td>\n",
              "      <td>2017.0</td>\n",
              "      <td>Early Access ReviewGuns UP!Positive: Good Idea...</td>\n",
              "    </tr>\n",
              "    <tr>\n",
              "      <th>8041</th>\n",
              "      <td>25199</td>\n",
              "      <td>GUNS UP!</td>\n",
              "      <td>2018.0</td>\n",
              "      <td>After 170 hrs, my review. DO NOT SPEND ANY MON...</td>\n",
              "    </tr>\n",
              "    <tr>\n",
              "      <th>8042</th>\n",
              "      <td>25200</td>\n",
              "      <td>GUNS UP!</td>\n",
              "      <td>2018.0</td>\n",
              "      <td>Pros:-Fun GameplayCons: -Micro %$#*ing transac...</td>\n",
              "    </tr>\n",
              "    <tr>\n",
              "      <th>8043</th>\n",
              "      <td>25201</td>\n",
              "      <td>GUNS UP!</td>\n",
              "      <td>2018.0</td>\n",
              "      <td>Actualy saucy, I definetly suggest to players ...</td>\n",
              "    </tr>\n",
              "    <tr>\n",
              "      <th>8044</th>\n",
              "      <td>25202</td>\n",
              "      <td>GUNS UP!</td>\n",
              "      <td>NaN</td>\n",
              "      <td>see people that play for 30 minutes and then s...</td>\n",
              "    </tr>\n",
              "  </tbody>\n",
              "</table>\n",
              "<p>8045 rows × 4 columns</p>\n",
              "</div>\n",
              "      <button class=\"colab-df-convert\" onclick=\"convertToInteractive('df-63f9f38d-67c8-447a-bb37-16deb0559259')\"\n",
              "              title=\"Convert this dataframe to an interactive table.\"\n",
              "              style=\"display:none;\">\n",
              "        \n",
              "  <svg xmlns=\"http://www.w3.org/2000/svg\" height=\"24px\"viewBox=\"0 0 24 24\"\n",
              "       width=\"24px\">\n",
              "    <path d=\"M0 0h24v24H0V0z\" fill=\"none\"/>\n",
              "    <path d=\"M18.56 5.44l.94 2.06.94-2.06 2.06-.94-2.06-.94-.94-2.06-.94 2.06-2.06.94zm-11 1L8.5 8.5l.94-2.06 2.06-.94-2.06-.94L8.5 2.5l-.94 2.06-2.06.94zm10 10l.94 2.06.94-2.06 2.06-.94-2.06-.94-.94-2.06-.94 2.06-2.06.94z\"/><path d=\"M17.41 7.96l-1.37-1.37c-.4-.4-.92-.59-1.43-.59-.52 0-1.04.2-1.43.59L10.3 9.45l-7.72 7.72c-.78.78-.78 2.05 0 2.83L4 21.41c.39.39.9.59 1.41.59.51 0 1.02-.2 1.41-.59l7.78-7.78 2.81-2.81c.8-.78.8-2.07 0-2.86zM5.41 20L4 18.59l7.72-7.72 1.47 1.35L5.41 20z\"/>\n",
              "  </svg>\n",
              "      </button>\n",
              "      \n",
              "  <style>\n",
              "    .colab-df-container {\n",
              "      display:flex;\n",
              "      flex-wrap:wrap;\n",
              "      gap: 12px;\n",
              "    }\n",
              "\n",
              "    .colab-df-convert {\n",
              "      background-color: #E8F0FE;\n",
              "      border: none;\n",
              "      border-radius: 50%;\n",
              "      cursor: pointer;\n",
              "      display: none;\n",
              "      fill: #1967D2;\n",
              "      height: 32px;\n",
              "      padding: 0 0 0 0;\n",
              "      width: 32px;\n",
              "    }\n",
              "\n",
              "    .colab-df-convert:hover {\n",
              "      background-color: #E2EBFA;\n",
              "      box-shadow: 0px 1px 2px rgba(60, 64, 67, 0.3), 0px 1px 3px 1px rgba(60, 64, 67, 0.15);\n",
              "      fill: #174EA6;\n",
              "    }\n",
              "\n",
              "    [theme=dark] .colab-df-convert {\n",
              "      background-color: #3B4455;\n",
              "      fill: #D2E3FC;\n",
              "    }\n",
              "\n",
              "    [theme=dark] .colab-df-convert:hover {\n",
              "      background-color: #434B5C;\n",
              "      box-shadow: 0px 1px 3px 1px rgba(0, 0, 0, 0.15);\n",
              "      filter: drop-shadow(0px 1px 2px rgba(0, 0, 0, 0.3));\n",
              "      fill: #FFFFFF;\n",
              "    }\n",
              "  </style>\n",
              "\n",
              "      <script>\n",
              "        const buttonEl =\n",
              "          document.querySelector('#df-63f9f38d-67c8-447a-bb37-16deb0559259 button.colab-df-convert');\n",
              "        buttonEl.style.display =\n",
              "          google.colab.kernel.accessAllowed ? 'block' : 'none';\n",
              "\n",
              "        async function convertToInteractive(key) {\n",
              "          const element = document.querySelector('#df-63f9f38d-67c8-447a-bb37-16deb0559259');\n",
              "          const dataTable =\n",
              "            await google.colab.kernel.invokeFunction('convertToInteractive',\n",
              "                                                     [key], {});\n",
              "          if (!dataTable) return;\n",
              "\n",
              "          const docLinkHtml = 'Like what you see? Visit the ' +\n",
              "            '<a target=\"_blank\" href=https://colab.research.google.com/notebooks/data_table.ipynb>data table notebook</a>'\n",
              "            + ' to learn more about interactive tables.';\n",
              "          element.innerHTML = '';\n",
              "          dataTable['output_type'] = 'display_data';\n",
              "          await google.colab.output.renderOutput(dataTable, element);\n",
              "          const docLink = document.createElement('div');\n",
              "          docLink.innerHTML = docLinkHtml;\n",
              "          element.appendChild(docLink);\n",
              "        }\n",
              "      </script>\n",
              "    </div>\n",
              "  </div>\n",
              "  "
            ]
          },
          "metadata": {},
          "execution_count": 15
        }
      ],
      "source": [
        "#Read the review dataset from the training folder\n",
        "filename_read = \"https://raw.githubusercontent.com/JasonTPhillipsJr/CSC215/main/Final%20Project/test.csv\"\n",
        "df_test = pd.read_csv(filename_read, sep=',', header=0)\n",
        "print(\"Test data shape: \" + str(df_test.shape))\n",
        "df_test"
      ]
    },
    {
      "cell_type": "code",
      "execution_count": null,
      "metadata": {
        "colab": {
          "base_uri": "https://localhost:8080/"
        },
        "id": "XGR1vLMZpwoH",
        "outputId": "372be560-d6f8-40ba-8ac1-397fc96aaff4"
      },
      "outputs": [
        {
          "output_type": "stream",
          "name": "stdout",
          "text": [
            "Number of titles in the dataset: 20\n",
            "['Counter-Strike: Global Offensive' 'World of Warships' 'Star Trek Online'\n",
            " 'Paladins®' 'Shadowverse CCG' 'Tree of Savior (English Ver.)'\n",
            " 'VEGA Conflict' 'Minion Masters' 'The Lord of the Rings Online™'\n",
            " 'Fishing Planet' 'Crush Crush' 'Dungeon Defenders II'\n",
            " 'Governor of Poker 3' 'Digimon Masters Online' 'Shakes and Fidget'\n",
            " 'Champions Online' 'Magic Duels' 'Aura Kingdom' 'H1Z1' 'GUNS UP!']\n"
          ]
        }
      ],
      "source": [
        "#Print out the different games used in this review.\n",
        "#NOTE: Remove the ® symbol from smite and elder scrolls later.\n",
        "print(\"Number of titles in the dataset: \" + str(df_test['title'].nunique()))\n",
        "print(df_test['title'].unique())"
      ]
    },
    {
      "cell_type": "code",
      "execution_count": null,
      "metadata": {
        "colab": {
          "base_uri": "https://localhost:8080/"
        },
        "id": "m30hstxMp20K",
        "outputId": "fd74fb98-ff66-4019-b1a0-e85275359987"
      },
      "outputs": [
        {
          "output_type": "stream",
          "name": "stdout",
          "text": [
            "Training data shape: (8045, 2)\n"
          ]
        },
        {
          "output_type": "execute_result",
          "data": {
            "text/plain": [
              "                              title  \\\n",
              "0  Counter-Strike: Global Offensive   \n",
              "1  Counter-Strike: Global Offensive   \n",
              "2  Counter-Strike: Global Offensive   \n",
              "3  Counter-Strike: Global Offensive   \n",
              "4  Counter-Strike: Global Offensive   \n",
              "\n",
              "                                         user_review  \n",
              "0  Nice graphics, new maps, weapons and models. B...  \n",
              "1  I would not recommend getting into this at its...  \n",
              "2  Edit 11/12/18I have tried playing CS:GO recent...  \n",
              "3  The game is great. But the community is the wo...  \n",
              "4  I thank TrulyRazor for buying this for me a lo...  "
            ],
            "text/html": [
              "\n",
              "  <div id=\"df-58d832c4-7dce-416b-a518-284b91ba0d58\">\n",
              "    <div class=\"colab-df-container\">\n",
              "      <div>\n",
              "<style scoped>\n",
              "    .dataframe tbody tr th:only-of-type {\n",
              "        vertical-align: middle;\n",
              "    }\n",
              "\n",
              "    .dataframe tbody tr th {\n",
              "        vertical-align: top;\n",
              "    }\n",
              "\n",
              "    .dataframe thead th {\n",
              "        text-align: right;\n",
              "    }\n",
              "</style>\n",
              "<table border=\"1\" class=\"dataframe\">\n",
              "  <thead>\n",
              "    <tr style=\"text-align: right;\">\n",
              "      <th></th>\n",
              "      <th>title</th>\n",
              "      <th>user_review</th>\n",
              "    </tr>\n",
              "  </thead>\n",
              "  <tbody>\n",
              "    <tr>\n",
              "      <th>0</th>\n",
              "      <td>Counter-Strike: Global Offensive</td>\n",
              "      <td>Nice graphics, new maps, weapons and models. B...</td>\n",
              "    </tr>\n",
              "    <tr>\n",
              "      <th>1</th>\n",
              "      <td>Counter-Strike: Global Offensive</td>\n",
              "      <td>I would not recommend getting into this at its...</td>\n",
              "    </tr>\n",
              "    <tr>\n",
              "      <th>2</th>\n",
              "      <td>Counter-Strike: Global Offensive</td>\n",
              "      <td>Edit 11/12/18I have tried playing CS:GO recent...</td>\n",
              "    </tr>\n",
              "    <tr>\n",
              "      <th>3</th>\n",
              "      <td>Counter-Strike: Global Offensive</td>\n",
              "      <td>The game is great. But the community is the wo...</td>\n",
              "    </tr>\n",
              "    <tr>\n",
              "      <th>4</th>\n",
              "      <td>Counter-Strike: Global Offensive</td>\n",
              "      <td>I thank TrulyRazor for buying this for me a lo...</td>\n",
              "    </tr>\n",
              "  </tbody>\n",
              "</table>\n",
              "</div>\n",
              "      <button class=\"colab-df-convert\" onclick=\"convertToInteractive('df-58d832c4-7dce-416b-a518-284b91ba0d58')\"\n",
              "              title=\"Convert this dataframe to an interactive table.\"\n",
              "              style=\"display:none;\">\n",
              "        \n",
              "  <svg xmlns=\"http://www.w3.org/2000/svg\" height=\"24px\"viewBox=\"0 0 24 24\"\n",
              "       width=\"24px\">\n",
              "    <path d=\"M0 0h24v24H0V0z\" fill=\"none\"/>\n",
              "    <path d=\"M18.56 5.44l.94 2.06.94-2.06 2.06-.94-2.06-.94-.94-2.06-.94 2.06-2.06.94zm-11 1L8.5 8.5l.94-2.06 2.06-.94-2.06-.94L8.5 2.5l-.94 2.06-2.06.94zm10 10l.94 2.06.94-2.06 2.06-.94-2.06-.94-.94-2.06-.94 2.06-2.06.94z\"/><path d=\"M17.41 7.96l-1.37-1.37c-.4-.4-.92-.59-1.43-.59-.52 0-1.04.2-1.43.59L10.3 9.45l-7.72 7.72c-.78.78-.78 2.05 0 2.83L4 21.41c.39.39.9.59 1.41.59.51 0 1.02-.2 1.41-.59l7.78-7.78 2.81-2.81c.8-.78.8-2.07 0-2.86zM5.41 20L4 18.59l7.72-7.72 1.47 1.35L5.41 20z\"/>\n",
              "  </svg>\n",
              "      </button>\n",
              "      \n",
              "  <style>\n",
              "    .colab-df-container {\n",
              "      display:flex;\n",
              "      flex-wrap:wrap;\n",
              "      gap: 12px;\n",
              "    }\n",
              "\n",
              "    .colab-df-convert {\n",
              "      background-color: #E8F0FE;\n",
              "      border: none;\n",
              "      border-radius: 50%;\n",
              "      cursor: pointer;\n",
              "      display: none;\n",
              "      fill: #1967D2;\n",
              "      height: 32px;\n",
              "      padding: 0 0 0 0;\n",
              "      width: 32px;\n",
              "    }\n",
              "\n",
              "    .colab-df-convert:hover {\n",
              "      background-color: #E2EBFA;\n",
              "      box-shadow: 0px 1px 2px rgba(60, 64, 67, 0.3), 0px 1px 3px 1px rgba(60, 64, 67, 0.15);\n",
              "      fill: #174EA6;\n",
              "    }\n",
              "\n",
              "    [theme=dark] .colab-df-convert {\n",
              "      background-color: #3B4455;\n",
              "      fill: #D2E3FC;\n",
              "    }\n",
              "\n",
              "    [theme=dark] .colab-df-convert:hover {\n",
              "      background-color: #434B5C;\n",
              "      box-shadow: 0px 1px 3px 1px rgba(0, 0, 0, 0.15);\n",
              "      filter: drop-shadow(0px 1px 2px rgba(0, 0, 0, 0.3));\n",
              "      fill: #FFFFFF;\n",
              "    }\n",
              "  </style>\n",
              "\n",
              "      <script>\n",
              "        const buttonEl =\n",
              "          document.querySelector('#df-58d832c4-7dce-416b-a518-284b91ba0d58 button.colab-df-convert');\n",
              "        buttonEl.style.display =\n",
              "          google.colab.kernel.accessAllowed ? 'block' : 'none';\n",
              "\n",
              "        async function convertToInteractive(key) {\n",
              "          const element = document.querySelector('#df-58d832c4-7dce-416b-a518-284b91ba0d58');\n",
              "          const dataTable =\n",
              "            await google.colab.kernel.invokeFunction('convertToInteractive',\n",
              "                                                     [key], {});\n",
              "          if (!dataTable) return;\n",
              "\n",
              "          const docLinkHtml = 'Like what you see? Visit the ' +\n",
              "            '<a target=\"_blank\" href=https://colab.research.google.com/notebooks/data_table.ipynb>data table notebook</a>'\n",
              "            + ' to learn more about interactive tables.';\n",
              "          element.innerHTML = '';\n",
              "          dataTable['output_type'] = 'display_data';\n",
              "          await google.colab.output.renderOutput(dataTable, element);\n",
              "          const docLink = document.createElement('div');\n",
              "          docLink.innerHTML = docLinkHtml;\n",
              "          element.appendChild(docLink);\n",
              "        }\n",
              "      </script>\n",
              "    </div>\n",
              "  </div>\n",
              "  "
            ]
          },
          "metadata": {},
          "execution_count": 17
        }
      ],
      "source": [
        "#Drop unnecessary columns\n",
        "#NOTE: DROP THE TITLE I THINK???\n",
        "df_test = df_test.drop(['review_id', 'year'], axis=1)\n",
        "print(\"Training data shape: \" + str(df_test.shape))\n",
        "df_test.head()"
      ]
    },
    {
      "cell_type": "code",
      "execution_count": null,
      "metadata": {
        "colab": {
          "base_uri": "https://localhost:8080/"
        },
        "id": "H1RU-9oKqB_F",
        "outputId": "48f3e5fd-f1d8-4b80-fd78-aa6eb4926f48"
      },
      "outputs": [
        {
          "output_type": "execute_result",
          "data": {
            "text/plain": [
              "Empty DataFrame\n",
              "Columns: [title, user_review]\n",
              "Index: []"
            ],
            "text/html": [
              "\n",
              "  <div id=\"df-77625a3d-3780-4b83-a6f3-3f432fb2b3e7\">\n",
              "    <div class=\"colab-df-container\">\n",
              "      <div>\n",
              "<style scoped>\n",
              "    .dataframe tbody tr th:only-of-type {\n",
              "        vertical-align: middle;\n",
              "    }\n",
              "\n",
              "    .dataframe tbody tr th {\n",
              "        vertical-align: top;\n",
              "    }\n",
              "\n",
              "    .dataframe thead th {\n",
              "        text-align: right;\n",
              "    }\n",
              "</style>\n",
              "<table border=\"1\" class=\"dataframe\">\n",
              "  <thead>\n",
              "    <tr style=\"text-align: right;\">\n",
              "      <th></th>\n",
              "      <th>title</th>\n",
              "      <th>user_review</th>\n",
              "    </tr>\n",
              "  </thead>\n",
              "  <tbody>\n",
              "  </tbody>\n",
              "</table>\n",
              "</div>\n",
              "      <button class=\"colab-df-convert\" onclick=\"convertToInteractive('df-77625a3d-3780-4b83-a6f3-3f432fb2b3e7')\"\n",
              "              title=\"Convert this dataframe to an interactive table.\"\n",
              "              style=\"display:none;\">\n",
              "        \n",
              "  <svg xmlns=\"http://www.w3.org/2000/svg\" height=\"24px\"viewBox=\"0 0 24 24\"\n",
              "       width=\"24px\">\n",
              "    <path d=\"M0 0h24v24H0V0z\" fill=\"none\"/>\n",
              "    <path d=\"M18.56 5.44l.94 2.06.94-2.06 2.06-.94-2.06-.94-.94-2.06-.94 2.06-2.06.94zm-11 1L8.5 8.5l.94-2.06 2.06-.94-2.06-.94L8.5 2.5l-.94 2.06-2.06.94zm10 10l.94 2.06.94-2.06 2.06-.94-2.06-.94-.94-2.06-.94 2.06-2.06.94z\"/><path d=\"M17.41 7.96l-1.37-1.37c-.4-.4-.92-.59-1.43-.59-.52 0-1.04.2-1.43.59L10.3 9.45l-7.72 7.72c-.78.78-.78 2.05 0 2.83L4 21.41c.39.39.9.59 1.41.59.51 0 1.02-.2 1.41-.59l7.78-7.78 2.81-2.81c.8-.78.8-2.07 0-2.86zM5.41 20L4 18.59l7.72-7.72 1.47 1.35L5.41 20z\"/>\n",
              "  </svg>\n",
              "      </button>\n",
              "      \n",
              "  <style>\n",
              "    .colab-df-container {\n",
              "      display:flex;\n",
              "      flex-wrap:wrap;\n",
              "      gap: 12px;\n",
              "    }\n",
              "\n",
              "    .colab-df-convert {\n",
              "      background-color: #E8F0FE;\n",
              "      border: none;\n",
              "      border-radius: 50%;\n",
              "      cursor: pointer;\n",
              "      display: none;\n",
              "      fill: #1967D2;\n",
              "      height: 32px;\n",
              "      padding: 0 0 0 0;\n",
              "      width: 32px;\n",
              "    }\n",
              "\n",
              "    .colab-df-convert:hover {\n",
              "      background-color: #E2EBFA;\n",
              "      box-shadow: 0px 1px 2px rgba(60, 64, 67, 0.3), 0px 1px 3px 1px rgba(60, 64, 67, 0.15);\n",
              "      fill: #174EA6;\n",
              "    }\n",
              "\n",
              "    [theme=dark] .colab-df-convert {\n",
              "      background-color: #3B4455;\n",
              "      fill: #D2E3FC;\n",
              "    }\n",
              "\n",
              "    [theme=dark] .colab-df-convert:hover {\n",
              "      background-color: #434B5C;\n",
              "      box-shadow: 0px 1px 3px 1px rgba(0, 0, 0, 0.15);\n",
              "      filter: drop-shadow(0px 1px 2px rgba(0, 0, 0, 0.3));\n",
              "      fill: #FFFFFF;\n",
              "    }\n",
              "  </style>\n",
              "\n",
              "      <script>\n",
              "        const buttonEl =\n",
              "          document.querySelector('#df-77625a3d-3780-4b83-a6f3-3f432fb2b3e7 button.colab-df-convert');\n",
              "        buttonEl.style.display =\n",
              "          google.colab.kernel.accessAllowed ? 'block' : 'none';\n",
              "\n",
              "        async function convertToInteractive(key) {\n",
              "          const element = document.querySelector('#df-77625a3d-3780-4b83-a6f3-3f432fb2b3e7');\n",
              "          const dataTable =\n",
              "            await google.colab.kernel.invokeFunction('convertToInteractive',\n",
              "                                                     [key], {});\n",
              "          if (!dataTable) return;\n",
              "\n",
              "          const docLinkHtml = 'Like what you see? Visit the ' +\n",
              "            '<a target=\"_blank\" href=https://colab.research.google.com/notebooks/data_table.ipynb>data table notebook</a>'\n",
              "            + ' to learn more about interactive tables.';\n",
              "          element.innerHTML = '';\n",
              "          dataTable['output_type'] = 'display_data';\n",
              "          await google.colab.output.renderOutput(dataTable, element);\n",
              "          const docLink = document.createElement('div');\n",
              "          docLink.innerHTML = docLinkHtml;\n",
              "          element.appendChild(docLink);\n",
              "        }\n",
              "      </script>\n",
              "    </div>\n",
              "  </div>\n",
              "  "
            ]
          },
          "metadata": {},
          "execution_count": 18
        }
      ],
      "source": [
        "#Check if any values are empty or null\n",
        "df_test[df_test.isnull().any(axis=1)]"
      ]
    },
    {
      "cell_type": "code",
      "execution_count": null,
      "metadata": {
        "colab": {
          "base_uri": "https://localhost:8080/"
        },
        "id": "Syp25QXSqFi2",
        "outputId": "8690f96a-48d1-4633-b592-9f19a33cfea8"
      },
      "outputs": [
        {
          "output_type": "execute_result",
          "data": {
            "text/plain": [
              "                                 title  \\\n",
              "0     Counter-Strike: Global Offensive   \n",
              "1     Counter-Strike: Global Offensive   \n",
              "2     Counter-Strike: Global Offensive   \n",
              "3     Counter-Strike: Global Offensive   \n",
              "4     Counter-Strike: Global Offensive   \n",
              "...                                ...   \n",
              "8040                          GUNS UP!   \n",
              "8041                          GUNS UP!   \n",
              "8042                          GUNS UP!   \n",
              "8043                          GUNS UP!   \n",
              "8044                          GUNS UP!   \n",
              "\n",
              "                                            user_review  \\\n",
              "0     Nice graphics, new maps, weapons and models. B...   \n",
              "1     I would not recommend getting into this at its...   \n",
              "2     Edit 11/12/18I have tried playing CS:GO recent...   \n",
              "3     The game is great. But the community is the wo...   \n",
              "4     I thank TrulyRazor for buying this for me a lo...   \n",
              "...                                                 ...   \n",
              "8040  Early Access ReviewGuns UP!Positive: Good Idea...   \n",
              "8041  After 170 hrs, my review. DO NOT SPEND ANY MON...   \n",
              "8042  Pros:-Fun GameplayCons: -Micro %$#*ing transac...   \n",
              "8043  Actualy saucy, I definetly suggest to players ...   \n",
              "8044  see people that play for 30 minutes and then s...   \n",
              "\n",
              "                                              tokenized  \n",
              "0     [nice, graphics, new, maps, weapons, and, mode...  \n",
              "1     [i, would, not, recommend, getting, into, this...  \n",
              "2     [edit, i, have, tried, playing, cs, go, recent...  \n",
              "3     [the, game, is, great, but, the, community, is...  \n",
              "4     [i, thank, trulyrazor, for, buying, this, for,...  \n",
              "...                                                 ...  \n",
              "8040  [early, access, reviewguns, up, positive, good...  \n",
              "8041  [after, hrs, my, review, do, not, spend, any, ...  \n",
              "8042  [pros, fun, gameplaycons, micro, ing, transact...  \n",
              "8043  [actualy, saucy, i, definetly, suggest, to, pl...  \n",
              "8044  [see, people, that, play, for, minutes, and, t...  \n",
              "\n",
              "[8045 rows x 3 columns]"
            ],
            "text/html": [
              "\n",
              "  <div id=\"df-7e6e16b2-227e-4be8-b4d3-ac23b82aef60\">\n",
              "    <div class=\"colab-df-container\">\n",
              "      <div>\n",
              "<style scoped>\n",
              "    .dataframe tbody tr th:only-of-type {\n",
              "        vertical-align: middle;\n",
              "    }\n",
              "\n",
              "    .dataframe tbody tr th {\n",
              "        vertical-align: top;\n",
              "    }\n",
              "\n",
              "    .dataframe thead th {\n",
              "        text-align: right;\n",
              "    }\n",
              "</style>\n",
              "<table border=\"1\" class=\"dataframe\">\n",
              "  <thead>\n",
              "    <tr style=\"text-align: right;\">\n",
              "      <th></th>\n",
              "      <th>title</th>\n",
              "      <th>user_review</th>\n",
              "      <th>tokenized</th>\n",
              "    </tr>\n",
              "  </thead>\n",
              "  <tbody>\n",
              "    <tr>\n",
              "      <th>0</th>\n",
              "      <td>Counter-Strike: Global Offensive</td>\n",
              "      <td>Nice graphics, new maps, weapons and models. B...</td>\n",
              "      <td>[nice, graphics, new, maps, weapons, and, mode...</td>\n",
              "    </tr>\n",
              "    <tr>\n",
              "      <th>1</th>\n",
              "      <td>Counter-Strike: Global Offensive</td>\n",
              "      <td>I would not recommend getting into this at its...</td>\n",
              "      <td>[i, would, not, recommend, getting, into, this...</td>\n",
              "    </tr>\n",
              "    <tr>\n",
              "      <th>2</th>\n",
              "      <td>Counter-Strike: Global Offensive</td>\n",
              "      <td>Edit 11/12/18I have tried playing CS:GO recent...</td>\n",
              "      <td>[edit, i, have, tried, playing, cs, go, recent...</td>\n",
              "    </tr>\n",
              "    <tr>\n",
              "      <th>3</th>\n",
              "      <td>Counter-Strike: Global Offensive</td>\n",
              "      <td>The game is great. But the community is the wo...</td>\n",
              "      <td>[the, game, is, great, but, the, community, is...</td>\n",
              "    </tr>\n",
              "    <tr>\n",
              "      <th>4</th>\n",
              "      <td>Counter-Strike: Global Offensive</td>\n",
              "      <td>I thank TrulyRazor for buying this for me a lo...</td>\n",
              "      <td>[i, thank, trulyrazor, for, buying, this, for,...</td>\n",
              "    </tr>\n",
              "    <tr>\n",
              "      <th>...</th>\n",
              "      <td>...</td>\n",
              "      <td>...</td>\n",
              "      <td>...</td>\n",
              "    </tr>\n",
              "    <tr>\n",
              "      <th>8040</th>\n",
              "      <td>GUNS UP!</td>\n",
              "      <td>Early Access ReviewGuns UP!Positive: Good Idea...</td>\n",
              "      <td>[early, access, reviewguns, up, positive, good...</td>\n",
              "    </tr>\n",
              "    <tr>\n",
              "      <th>8041</th>\n",
              "      <td>GUNS UP!</td>\n",
              "      <td>After 170 hrs, my review. DO NOT SPEND ANY MON...</td>\n",
              "      <td>[after, hrs, my, review, do, not, spend, any, ...</td>\n",
              "    </tr>\n",
              "    <tr>\n",
              "      <th>8042</th>\n",
              "      <td>GUNS UP!</td>\n",
              "      <td>Pros:-Fun GameplayCons: -Micro %$#*ing transac...</td>\n",
              "      <td>[pros, fun, gameplaycons, micro, ing, transact...</td>\n",
              "    </tr>\n",
              "    <tr>\n",
              "      <th>8043</th>\n",
              "      <td>GUNS UP!</td>\n",
              "      <td>Actualy saucy, I definetly suggest to players ...</td>\n",
              "      <td>[actualy, saucy, i, definetly, suggest, to, pl...</td>\n",
              "    </tr>\n",
              "    <tr>\n",
              "      <th>8044</th>\n",
              "      <td>GUNS UP!</td>\n",
              "      <td>see people that play for 30 minutes and then s...</td>\n",
              "      <td>[see, people, that, play, for, minutes, and, t...</td>\n",
              "    </tr>\n",
              "  </tbody>\n",
              "</table>\n",
              "<p>8045 rows × 3 columns</p>\n",
              "</div>\n",
              "      <button class=\"colab-df-convert\" onclick=\"convertToInteractive('df-7e6e16b2-227e-4be8-b4d3-ac23b82aef60')\"\n",
              "              title=\"Convert this dataframe to an interactive table.\"\n",
              "              style=\"display:none;\">\n",
              "        \n",
              "  <svg xmlns=\"http://www.w3.org/2000/svg\" height=\"24px\"viewBox=\"0 0 24 24\"\n",
              "       width=\"24px\">\n",
              "    <path d=\"M0 0h24v24H0V0z\" fill=\"none\"/>\n",
              "    <path d=\"M18.56 5.44l.94 2.06.94-2.06 2.06-.94-2.06-.94-.94-2.06-.94 2.06-2.06.94zm-11 1L8.5 8.5l.94-2.06 2.06-.94-2.06-.94L8.5 2.5l-.94 2.06-2.06.94zm10 10l.94 2.06.94-2.06 2.06-.94-2.06-.94-.94-2.06-.94 2.06-2.06.94z\"/><path d=\"M17.41 7.96l-1.37-1.37c-.4-.4-.92-.59-1.43-.59-.52 0-1.04.2-1.43.59L10.3 9.45l-7.72 7.72c-.78.78-.78 2.05 0 2.83L4 21.41c.39.39.9.59 1.41.59.51 0 1.02-.2 1.41-.59l7.78-7.78 2.81-2.81c.8-.78.8-2.07 0-2.86zM5.41 20L4 18.59l7.72-7.72 1.47 1.35L5.41 20z\"/>\n",
              "  </svg>\n",
              "      </button>\n",
              "      \n",
              "  <style>\n",
              "    .colab-df-container {\n",
              "      display:flex;\n",
              "      flex-wrap:wrap;\n",
              "      gap: 12px;\n",
              "    }\n",
              "\n",
              "    .colab-df-convert {\n",
              "      background-color: #E8F0FE;\n",
              "      border: none;\n",
              "      border-radius: 50%;\n",
              "      cursor: pointer;\n",
              "      display: none;\n",
              "      fill: #1967D2;\n",
              "      height: 32px;\n",
              "      padding: 0 0 0 0;\n",
              "      width: 32px;\n",
              "    }\n",
              "\n",
              "    .colab-df-convert:hover {\n",
              "      background-color: #E2EBFA;\n",
              "      box-shadow: 0px 1px 2px rgba(60, 64, 67, 0.3), 0px 1px 3px 1px rgba(60, 64, 67, 0.15);\n",
              "      fill: #174EA6;\n",
              "    }\n",
              "\n",
              "    [theme=dark] .colab-df-convert {\n",
              "      background-color: #3B4455;\n",
              "      fill: #D2E3FC;\n",
              "    }\n",
              "\n",
              "    [theme=dark] .colab-df-convert:hover {\n",
              "      background-color: #434B5C;\n",
              "      box-shadow: 0px 1px 3px 1px rgba(0, 0, 0, 0.15);\n",
              "      filter: drop-shadow(0px 1px 2px rgba(0, 0, 0, 0.3));\n",
              "      fill: #FFFFFF;\n",
              "    }\n",
              "  </style>\n",
              "\n",
              "      <script>\n",
              "        const buttonEl =\n",
              "          document.querySelector('#df-7e6e16b2-227e-4be8-b4d3-ac23b82aef60 button.colab-df-convert');\n",
              "        buttonEl.style.display =\n",
              "          google.colab.kernel.accessAllowed ? 'block' : 'none';\n",
              "\n",
              "        async function convertToInteractive(key) {\n",
              "          const element = document.querySelector('#df-7e6e16b2-227e-4be8-b4d3-ac23b82aef60');\n",
              "          const dataTable =\n",
              "            await google.colab.kernel.invokeFunction('convertToInteractive',\n",
              "                                                     [key], {});\n",
              "          if (!dataTable) return;\n",
              "\n",
              "          const docLinkHtml = 'Like what you see? Visit the ' +\n",
              "            '<a target=\"_blank\" href=https://colab.research.google.com/notebooks/data_table.ipynb>data table notebook</a>'\n",
              "            + ' to learn more about interactive tables.';\n",
              "          element.innerHTML = '';\n",
              "          dataTable['output_type'] = 'display_data';\n",
              "          await google.colab.output.renderOutput(dataTable, element);\n",
              "          const docLink = document.createElement('div');\n",
              "          docLink.innerHTML = docLinkHtml;\n",
              "          element.appendChild(docLink);\n",
              "        }\n",
              "      </script>\n",
              "    </div>\n",
              "  </div>\n",
              "  "
            ]
          },
          "metadata": {},
          "execution_count": 19
        }
      ],
      "source": [
        "#Tokenize the tweets to get individual words per row.\n",
        "tkr = RegexpTokenizer(\"[a-zA-Záéíóúñ']+\")\n",
        "df_test['tokenized'] = df_test['user_review'].apply(lambda row: [t.lower() for t in tkr.tokenize(row)])\n",
        "df_test"
      ]
    },
    {
      "cell_type": "code",
      "execution_count": null,
      "metadata": {
        "colab": {
          "base_uri": "https://localhost:8080/"
        },
        "id": "4hxBcRyjqFrB",
        "outputId": "3fde638e-8402-4b74-f7ac-938adc6069ee"
      },
      "outputs": [
        {
          "output_type": "execute_result",
          "data": {
            "text/plain": [
              "                                 title  \\\n",
              "0     Counter-Strike: Global Offensive   \n",
              "3     Counter-Strike: Global Offensive   \n",
              "15    Counter-Strike: Global Offensive   \n",
              "16    Counter-Strike: Global Offensive   \n",
              "20    Counter-Strike: Global Offensive   \n",
              "...                                ...   \n",
              "8036                          GUNS UP!   \n",
              "8038                          GUNS UP!   \n",
              "8040                          GUNS UP!   \n",
              "8043                          GUNS UP!   \n",
              "8044                          GUNS UP!   \n",
              "\n",
              "                                            user_review  \\\n",
              "0     Nice graphics, new maps, weapons and models. B...   \n",
              "3     The game is great. But the community is the wo...   \n",
              "15    I don't know what it was like before it went F...   \n",
              "16    Extremely toxic community, you will be lucky t...   \n",
              "20    This game will give you low trust factor after...   \n",
              "...                                                 ...   \n",
              "8036  Early Access Reviewincredibly straight forward...   \n",
              "8038  Early Access ReviewActive Dev Team.Gets update...   \n",
              "8040  Early Access ReviewGuns UP!Positive: Good Idea...   \n",
              "8043  Actualy saucy, I definetly suggest to players ...   \n",
              "8044  see people that play for 30 minutes and then s...   \n",
              "\n",
              "                                              tokenized  \n",
              "0     [nice, graphics, new, maps, weapons, and, mode...  \n",
              "3     [the, game, is, great, but, the, community, is...  \n",
              "15    [i, don't, know, what, it, was, like, before, ...  \n",
              "16    [extremely, toxic, community, you, will, be, l...  \n",
              "20    [this, game, will, give, you, low, trust, fact...  \n",
              "...                                                 ...  \n",
              "8036  [early, access, reviewincredibly, straight, fo...  \n",
              "8038  [early, access, reviewactive, dev, team, gets,...  \n",
              "8040  [early, access, reviewguns, up, positive, good...  \n",
              "8043  [actualy, saucy, i, definetly, suggest, to, pl...  \n",
              "8044  [see, people, that, play, for, minutes, and, t...  \n",
              "\n",
              "[3754 rows x 3 columns]"
            ],
            "text/html": [
              "\n",
              "  <div id=\"df-bc98d34d-ad8a-4ee7-8fdc-3f4bb03ad310\">\n",
              "    <div class=\"colab-df-container\">\n",
              "      <div>\n",
              "<style scoped>\n",
              "    .dataframe tbody tr th:only-of-type {\n",
              "        vertical-align: middle;\n",
              "    }\n",
              "\n",
              "    .dataframe tbody tr th {\n",
              "        vertical-align: top;\n",
              "    }\n",
              "\n",
              "    .dataframe thead th {\n",
              "        text-align: right;\n",
              "    }\n",
              "</style>\n",
              "<table border=\"1\" class=\"dataframe\">\n",
              "  <thead>\n",
              "    <tr style=\"text-align: right;\">\n",
              "      <th></th>\n",
              "      <th>title</th>\n",
              "      <th>user_review</th>\n",
              "      <th>tokenized</th>\n",
              "    </tr>\n",
              "  </thead>\n",
              "  <tbody>\n",
              "    <tr>\n",
              "      <th>0</th>\n",
              "      <td>Counter-Strike: Global Offensive</td>\n",
              "      <td>Nice graphics, new maps, weapons and models. B...</td>\n",
              "      <td>[nice, graphics, new, maps, weapons, and, mode...</td>\n",
              "    </tr>\n",
              "    <tr>\n",
              "      <th>3</th>\n",
              "      <td>Counter-Strike: Global Offensive</td>\n",
              "      <td>The game is great. But the community is the wo...</td>\n",
              "      <td>[the, game, is, great, but, the, community, is...</td>\n",
              "    </tr>\n",
              "    <tr>\n",
              "      <th>15</th>\n",
              "      <td>Counter-Strike: Global Offensive</td>\n",
              "      <td>I don't know what it was like before it went F...</td>\n",
              "      <td>[i, don't, know, what, it, was, like, before, ...</td>\n",
              "    </tr>\n",
              "    <tr>\n",
              "      <th>16</th>\n",
              "      <td>Counter-Strike: Global Offensive</td>\n",
              "      <td>Extremely toxic community, you will be lucky t...</td>\n",
              "      <td>[extremely, toxic, community, you, will, be, l...</td>\n",
              "    </tr>\n",
              "    <tr>\n",
              "      <th>20</th>\n",
              "      <td>Counter-Strike: Global Offensive</td>\n",
              "      <td>This game will give you low trust factor after...</td>\n",
              "      <td>[this, game, will, give, you, low, trust, fact...</td>\n",
              "    </tr>\n",
              "    <tr>\n",
              "      <th>...</th>\n",
              "      <td>...</td>\n",
              "      <td>...</td>\n",
              "      <td>...</td>\n",
              "    </tr>\n",
              "    <tr>\n",
              "      <th>8036</th>\n",
              "      <td>GUNS UP!</td>\n",
              "      <td>Early Access Reviewincredibly straight forward...</td>\n",
              "      <td>[early, access, reviewincredibly, straight, fo...</td>\n",
              "    </tr>\n",
              "    <tr>\n",
              "      <th>8038</th>\n",
              "      <td>GUNS UP!</td>\n",
              "      <td>Early Access ReviewActive Dev Team.Gets update...</td>\n",
              "      <td>[early, access, reviewactive, dev, team, gets,...</td>\n",
              "    </tr>\n",
              "    <tr>\n",
              "      <th>8040</th>\n",
              "      <td>GUNS UP!</td>\n",
              "      <td>Early Access ReviewGuns UP!Positive: Good Idea...</td>\n",
              "      <td>[early, access, reviewguns, up, positive, good...</td>\n",
              "    </tr>\n",
              "    <tr>\n",
              "      <th>8043</th>\n",
              "      <td>GUNS UP!</td>\n",
              "      <td>Actualy saucy, I definetly suggest to players ...</td>\n",
              "      <td>[actualy, saucy, i, definetly, suggest, to, pl...</td>\n",
              "    </tr>\n",
              "    <tr>\n",
              "      <th>8044</th>\n",
              "      <td>GUNS UP!</td>\n",
              "      <td>see people that play for 30 minutes and then s...</td>\n",
              "      <td>[see, people, that, play, for, minutes, and, t...</td>\n",
              "    </tr>\n",
              "  </tbody>\n",
              "</table>\n",
              "<p>3754 rows × 3 columns</p>\n",
              "</div>\n",
              "      <button class=\"colab-df-convert\" onclick=\"convertToInteractive('df-bc98d34d-ad8a-4ee7-8fdc-3f4bb03ad310')\"\n",
              "              title=\"Convert this dataframe to an interactive table.\"\n",
              "              style=\"display:none;\">\n",
              "        \n",
              "  <svg xmlns=\"http://www.w3.org/2000/svg\" height=\"24px\"viewBox=\"0 0 24 24\"\n",
              "       width=\"24px\">\n",
              "    <path d=\"M0 0h24v24H0V0z\" fill=\"none\"/>\n",
              "    <path d=\"M18.56 5.44l.94 2.06.94-2.06 2.06-.94-2.06-.94-.94-2.06-.94 2.06-2.06.94zm-11 1L8.5 8.5l.94-2.06 2.06-.94-2.06-.94L8.5 2.5l-.94 2.06-2.06.94zm10 10l.94 2.06.94-2.06 2.06-.94-2.06-.94-.94-2.06-.94 2.06-2.06.94z\"/><path d=\"M17.41 7.96l-1.37-1.37c-.4-.4-.92-.59-1.43-.59-.52 0-1.04.2-1.43.59L10.3 9.45l-7.72 7.72c-.78.78-.78 2.05 0 2.83L4 21.41c.39.39.9.59 1.41.59.51 0 1.02-.2 1.41-.59l7.78-7.78 2.81-2.81c.8-.78.8-2.07 0-2.86zM5.41 20L4 18.59l7.72-7.72 1.47 1.35L5.41 20z\"/>\n",
              "  </svg>\n",
              "      </button>\n",
              "      \n",
              "  <style>\n",
              "    .colab-df-container {\n",
              "      display:flex;\n",
              "      flex-wrap:wrap;\n",
              "      gap: 12px;\n",
              "    }\n",
              "\n",
              "    .colab-df-convert {\n",
              "      background-color: #E8F0FE;\n",
              "      border: none;\n",
              "      border-radius: 50%;\n",
              "      cursor: pointer;\n",
              "      display: none;\n",
              "      fill: #1967D2;\n",
              "      height: 32px;\n",
              "      padding: 0 0 0 0;\n",
              "      width: 32px;\n",
              "    }\n",
              "\n",
              "    .colab-df-convert:hover {\n",
              "      background-color: #E2EBFA;\n",
              "      box-shadow: 0px 1px 2px rgba(60, 64, 67, 0.3), 0px 1px 3px 1px rgba(60, 64, 67, 0.15);\n",
              "      fill: #174EA6;\n",
              "    }\n",
              "\n",
              "    [theme=dark] .colab-df-convert {\n",
              "      background-color: #3B4455;\n",
              "      fill: #D2E3FC;\n",
              "    }\n",
              "\n",
              "    [theme=dark] .colab-df-convert:hover {\n",
              "      background-color: #434B5C;\n",
              "      box-shadow: 0px 1px 3px 1px rgba(0, 0, 0, 0.15);\n",
              "      filter: drop-shadow(0px 1px 2px rgba(0, 0, 0, 0.3));\n",
              "      fill: #FFFFFF;\n",
              "    }\n",
              "  </style>\n",
              "\n",
              "      <script>\n",
              "        const buttonEl =\n",
              "          document.querySelector('#df-bc98d34d-ad8a-4ee7-8fdc-3f4bb03ad310 button.colab-df-convert');\n",
              "        buttonEl.style.display =\n",
              "          google.colab.kernel.accessAllowed ? 'block' : 'none';\n",
              "\n",
              "        async function convertToInteractive(key) {\n",
              "          const element = document.querySelector('#df-bc98d34d-ad8a-4ee7-8fdc-3f4bb03ad310');\n",
              "          const dataTable =\n",
              "            await google.colab.kernel.invokeFunction('convertToInteractive',\n",
              "                                                     [key], {});\n",
              "          if (!dataTable) return;\n",
              "\n",
              "          const docLinkHtml = 'Like what you see? Visit the ' +\n",
              "            '<a target=\"_blank\" href=https://colab.research.google.com/notebooks/data_table.ipynb>data table notebook</a>'\n",
              "            + ' to learn more about interactive tables.';\n",
              "          element.innerHTML = '';\n",
              "          dataTable['output_type'] = 'display_data';\n",
              "          await google.colab.output.renderOutput(dataTable, element);\n",
              "          const docLink = document.createElement('div');\n",
              "          docLink.innerHTML = docLinkHtml;\n",
              "          element.appendChild(docLink);\n",
              "        }\n",
              "      </script>\n",
              "    </div>\n",
              "  </div>\n",
              "  "
            ]
          },
          "metadata": {},
          "execution_count": 20
        }
      ],
      "source": [
        "#Drop rows that have more than 150 words\n",
        "df_test=df_test[df_test[\"tokenized\"].str.len() <= 150]\n",
        "df_test=df_test[~df_test[\"user_review\"].str.contains(r'[~@#$%^*/\\|<>♥¥™_=+◕ヘ░▄▐☉ʖ]')] \n",
        "df_test"
      ]
    },
    {
      "cell_type": "markdown",
      "metadata": {
        "id": "jDFIxhaCpM3W"
      },
      "source": [
        "#Word Embeddings (Word2Vec)\n",
        "Context insensitive embeddings"
      ]
    },
    {
      "cell_type": "code",
      "source": [
        "#Take the tokenized sentences and feed them into word2vec model to get weights for the dataset's vocabulary.\n",
        "sentences = df_train[\"tokenized\"]\n",
        "\n",
        "#Note Vector size and Window can be changed to fine tune our model later.\n",
        "#Window is context of n words before and n words after the embedded word. (Kinda like a kernel)\n",
        "word2vec_model = Word2Vec(sentences = sentences, vector_size = 50, sg = 1, window = 3, min_count = 1, epochs = 10  )\n",
        "\n",
        "#word2vec_model.init_sims(replace = True)\n",
        "word2vec_model.save(\"word2vec_model\")\n"
      ],
      "metadata": {
        "id": "58eA-LVzkMyT"
      },
      "execution_count": null,
      "outputs": []
    },
    {
      "cell_type": "code",
      "source": [
        "#An example of a single word embedding.\n",
        "print(word2vec_model.wv['early'])\n",
        "print(word2vec_model.wv['early'].shape)"
      ],
      "metadata": {
        "colab": {
          "base_uri": "https://localhost:8080/"
        },
        "id": "WFAJc8Yvn5Wp",
        "outputId": "9cd8fd2f-dc95-42e4-d623-10b0b96e7c11"
      },
      "execution_count": null,
      "outputs": [
        {
          "output_type": "stream",
          "name": "stdout",
          "text": [
            "[ 0.36272436  1.0317851   0.4543532  -0.3470878   1.289825   -1.5523795\n",
            "  0.94516337  0.40761536  0.65994847 -0.89092815 -0.23616451 -0.40681478\n",
            "  1.9915298  -0.20013314 -0.7694234   0.6997768   0.4280466   0.6077242\n",
            " -0.97987     0.8035779  -1.0402548   0.64094484 -0.15612234  0.6393168\n",
            " -0.16299407 -0.54409564 -1.4833739  -0.4202865   0.344774    0.39108515\n",
            "  0.03144183 -0.36368287  0.50088084  0.85003054  0.91440576  0.46653387\n",
            " -0.27175936  0.02320005  1.1574641  -0.23937944 -0.11146792  0.35022697\n",
            " -0.07906135  0.15971841  1.2566797   0.12842028 -0.43241203  1.2055395\n",
            "  0.24651186 -0.40053964]\n",
            "(50,)\n"
          ]
        }
      ]
    },
    {
      "cell_type": "code",
      "source": [
        "#Create a numpy array of the sentences of the datasets with embedded words.\n",
        "num_of_sentences = df_train.shape[0]\n",
        "max_sentence_length = 100   #Max length of 100 words per sentence. Pad shorter sentences to match.\n",
        "vector_size = 50            #Embedding size of each word\n",
        "indexes = set(np.random.choice(num_of_sentences, num_of_sentences, replace=False))\n",
        "\n",
        "#Create an array and pad it with zeros to match the max word length\n",
        "X = np.zeros((num_of_sentences, max_sentence_length, vector_size), dtype= np.float32)\n",
        "Y = []\n",
        "\n",
        "#Reset not sequential indexes caused by dropping rows in the dataframe (ie row 0, then row 4, should be row 1,2,3,4)\n",
        "sentences = sentences.reset_index(drop=True)\n",
        "\n",
        "#Take each sentnece from the dataset and store the embedding of that word into the array.\n",
        "for i, index in enumerate(indexes):\n",
        "  for t, token in enumerate(sentences[index]):\n",
        "    if t >= max_sentence_length:\n",
        "      break\n",
        "\n",
        "    if token not in word2vec_model.wv:\n",
        "      continue\n",
        "\n",
        "    X[i, t, :] = word2vec_model.wv[token]\n",
        "\n",
        "  Y.append(df_train[\"user_suggestion\"].iloc[index])\n",
        "  "
      ],
      "metadata": {
        "id": "bzXPpjW3ppwL"
      },
      "execution_count": null,
      "outputs": []
    },
    {
      "cell_type": "code",
      "source": [
        "#Converty Y into a numpy array as an acceptable output for our model.\n",
        "Y = np.array(Y)"
      ],
      "metadata": {
        "id": "quZqytFkzG_L"
      },
      "execution_count": null,
      "outputs": []
    },
    {
      "cell_type": "code",
      "source": [
        "print(\"X shape:\" + str(X.shape))\n",
        "print(\"Y shape:\" + str(Y.shape))"
      ],
      "metadata": {
        "colab": {
          "base_uri": "https://localhost:8080/"
        },
        "id": "2t5TYpsLx40S",
        "outputId": "33b820f8-0fac-404c-88a2-210d65781ea0"
      },
      "execution_count": null,
      "outputs": [
        {
          "output_type": "stream",
          "name": "stdout",
          "text": [
            "X shape:(5346, 100, 50)\n",
            "Y shape:(5346,)\n"
          ]
        }
      ]
    },
    {
      "cell_type": "code",
      "source": [
        "#Example\n",
        "#Use this to return the words from the embedding. we will take the top value.\n",
        "word2vec_model.wv.similar_by_vector(X[64][0], topn = 1)[0][0]"
      ],
      "metadata": {
        "id": "y4k3f5VSsa1H",
        "colab": {
          "base_uri": "https://localhost:8080/",
          "height": 36
        },
        "outputId": "c8a7a1f8-5d1c-488d-b41f-40cf287da485"
      },
      "execution_count": null,
      "outputs": [
        {
          "output_type": "execute_result",
          "data": {
            "text/plain": [
              "'early'"
            ],
            "application/vnd.google.colaboratory.intrinsic+json": {
              "type": "string"
            }
          },
          "metadata": {},
          "execution_count": 292
        }
      ]
    },
    {
      "cell_type": "code",
      "source": [
        "#Example\n",
        "#See what the embedding is at that value(the Row = sentence, the column = the word in that sentence)\n",
        "X[64][0]"
      ],
      "metadata": {
        "colab": {
          "base_uri": "https://localhost:8080/"
        },
        "id": "dRBk3H8d2FhY",
        "outputId": "3f046d7e-da6c-4be6-dca5-50c504f020c3"
      },
      "execution_count": null,
      "outputs": [
        {
          "output_type": "execute_result",
          "data": {
            "text/plain": [
              "array([-0.15275317,  1.243172  , -0.09333845, -0.39447492, -0.03553113,\n",
              "       -0.920202  ,  0.6312651 ,  0.60630655,  0.21144271, -0.6474129 ,\n",
              "        0.1376428 , -1.2755452 ,  1.22042   ,  0.78045756, -1.0894959 ,\n",
              "       -0.04300493,  0.508672  , -0.73539233, -1.1195672 , -0.32965732,\n",
              "       -0.22758403,  1.0301563 ,  0.36812752, -0.23421064, -0.8660014 ,\n",
              "       -0.86244464, -1.1382905 , -0.2611366 , -0.3123706 ,  0.41895765,\n",
              "       -0.37520686, -0.6562981 ,  0.9710446 ,  0.58882695, -0.04689334,\n",
              "        0.35494512, -0.5566086 , -0.85212594, -0.7231698 ,  0.5221072 ,\n",
              "       -0.32105488,  0.19059873,  0.44513693,  0.0273552 ,  2.4259179 ,\n",
              "        0.51465446, -1.3770715 ,  0.5676979 ,  1.0598285 ,  0.01264384],\n",
              "      dtype=float32)"
            ]
          },
          "metadata": {},
          "execution_count": 293
        }
      ]
    },
    {
      "cell_type": "code",
      "execution_count": null,
      "metadata": {
        "id": "FSUpJA6Z2-y8"
      },
      "outputs": [],
      "source": [
        "#Create training and test sets from our embedded data.\n",
        "X_train, X_test, y_train, y_test = train_test_split(X, Y, test_size = 0.3, random_state=2)\n",
        "\n",
        "#One-Hot encode the output columns for our model to make predictions.\n",
        "y_train = to_categorical(y_train)\n",
        "y_test = to_categorical(y_test)"
      ]
    },
    {
      "cell_type": "code",
      "source": [
        "print(\"X_train shape:\" + str(X_train.shape))\n",
        "print(\"X_test shape:\" + str(X_test.shape))\n",
        "print(\"y_train shape:\" + str(y_train.shape))\n",
        "print(\"y_test shape:\" + str(y_test.shape))\n",
        "#print(str(np.unique(y_train, return_counts=True)))"
      ],
      "metadata": {
        "colab": {
          "base_uri": "https://localhost:8080/"
        },
        "id": "2M7Jw_qacIl9",
        "outputId": "80d9299e-08b4-4282-9680-be1adbd3f7e9"
      },
      "execution_count": null,
      "outputs": [
        {
          "output_type": "stream",
          "name": "stdout",
          "text": [
            "X_train shape:(4677, 100, 50)\n",
            "X_test shape:(2005, 100, 50)\n",
            "y_train shape:(4677, 2)\n",
            "y_test shape:(2005, 2)\n"
          ]
        }
      ]
    },
    {
      "cell_type": "code",
      "source": [
        "#Define some attributes to be used in our sequential model.\n",
        "batch_size = 16\n",
        "max_features = 10000\n",
        "max_len = 100\n",
        "embedding_dims = 50\n",
        "filters = 250       #Not used\n",
        "kernel_size = 3     #Not used\n",
        "hidden_dims = 250   #Not used\n",
        "\n",
        "filepath = '/content/drive/MyDrive/Colab Notebooks/Final Project/Models'"
      ],
      "metadata": {
        "id": "G0vQD-ztH3pH"
      },
      "execution_count": null,
      "outputs": []
    },
    {
      "cell_type": "code",
      "source": [
        "len(np.unique(X_test))"
      ],
      "metadata": {
        "colab": {
          "base_uri": "https://localhost:8080/"
        },
        "id": "SGRbD1VflLK3",
        "outputId": "0734a641-928c-4e79-f6b3-3b2a63fba161"
      },
      "execution_count": null,
      "outputs": [
        {
          "output_type": "execute_result",
          "data": {
            "text/plain": [
              "380891"
            ]
          },
          "metadata": {},
          "execution_count": 91
        }
      ]
    },
    {
      "cell_type": "code",
      "source": [
        "#MODEL 1 (Working kinda ok)\n",
        "model_RNN = Sequential()\n",
        "model_RNN.add(Dense(50, input_shape = (100,50)))\n",
        "#model_RNN.add(Embedding(input_dim=380891, output_dim=50, input_length=100))\n",
        "model_RNN.add(LSTM(50))\n",
        "model_RNN.add(Dense(10, activation='relu'))\n",
        "model_RNN.add(Dense(2, activation = 'sigmoid'))\n",
        "\n",
        "model_RNN.compile(loss='categorical_crossentropy', optimizer='adam')\n",
        "\n",
        "monitor = EarlyStopping(monitor='val_loss', min_delta=1e-3, patience=5, verbose=1, mode='auto')\n",
        "\n",
        "model_RNN.fit(X_test, y_test,\n",
        "          validation_data=(X_test, y_test), \n",
        "          callbacks=[monitor],\n",
        "          verbose=2, \n",
        "          epochs=100,\n",
        "          batch_size=32)  \n",
        "\n",
        "m_pred = model_RNN.predict(X_test)\n",
        "m_pred = np.argmax(m_pred,axis=1)\n",
        "y_true=np.argmax(y_test,axis=1)\n",
        "print(classification_report(y_true, m_pred))\n",
        "# summarize layers\n",
        "print(model_RNN.summary())\n",
        "# plot graph\n",
        "plot_model(model_RNN, show_shapes=True)"
      ],
      "metadata": {
        "id": "3I8k4__6OjrI",
        "colab": {
          "base_uri": "https://localhost:8080/",
          "height": 1000
        },
        "outputId": "0d9d31e9-c1bf-40d5-b8ad-91d14baac7ae"
      },
      "execution_count": null,
      "outputs": [
        {
          "output_type": "stream",
          "name": "stdout",
          "text": [
            "Epoch 1/100\n",
            "51/51 - 4s - loss: 0.6736 - val_loss: 0.6681 - 4s/epoch - 75ms/step\n",
            "Epoch 2/100\n",
            "51/51 - 1s - loss: 0.6682 - val_loss: 0.6700 - 677ms/epoch - 13ms/step\n",
            "Epoch 3/100\n",
            "51/51 - 1s - loss: 0.6659 - val_loss: 0.6494 - 552ms/epoch - 11ms/step\n",
            "Epoch 4/100\n",
            "51/51 - 1s - loss: 0.6309 - val_loss: 0.6664 - 540ms/epoch - 11ms/step\n",
            "Epoch 5/100\n",
            "51/51 - 1s - loss: 0.6675 - val_loss: 0.6664 - 525ms/epoch - 10ms/step\n",
            "Epoch 6/100\n",
            "51/51 - 1s - loss: 0.6666 - val_loss: 0.6651 - 553ms/epoch - 11ms/step\n",
            "Epoch 7/100\n",
            "51/51 - 1s - loss: 0.6649 - val_loss: 0.6628 - 522ms/epoch - 10ms/step\n",
            "Epoch 8/100\n",
            "51/51 - 1s - loss: 0.6619 - val_loss: 0.6552 - 532ms/epoch - 10ms/step\n",
            "Epoch 8: early stopping\n",
            "51/51 [==============================] - 1s 3ms/step\n",
            "              precision    recall  f1-score   support\n",
            "\n",
            "           0       0.81      0.05      0.10       625\n",
            "           1       0.62      0.99      0.76       979\n",
            "\n",
            "    accuracy                           0.63      1604\n",
            "   macro avg       0.72      0.52      0.43      1604\n",
            "weighted avg       0.69      0.63      0.51      1604\n",
            "\n",
            "Model: \"sequential_40\"\n",
            "_________________________________________________________________\n",
            " Layer (type)                Output Shape              Param #   \n",
            "=================================================================\n",
            " dense_81 (Dense)            (None, 100, 50)           2550      \n",
            "                                                                 \n",
            " lstm_36 (LSTM)              (None, 50)                20200     \n",
            "                                                                 \n",
            " dense_82 (Dense)            (None, 10)                510       \n",
            "                                                                 \n",
            " dense_83 (Dense)            (None, 2)                 22        \n",
            "                                                                 \n",
            "=================================================================\n",
            "Total params: 23,282\n",
            "Trainable params: 23,282\n",
            "Non-trainable params: 0\n",
            "_________________________________________________________________\n",
            "None\n"
          ]
        },
        {
          "output_type": "execute_result",
          "data": {
            "image/png": "[encoded data removed]",
            "text/plain": [
              "<IPython.core.display.Image object>"
            ]
          },
          "metadata": {},
          "execution_count": 101
        }
      ]
    },
    {
      "cell_type": "code",
      "source": [
        "#model_RNN.save(filepath, 'RNN_model')"
      ],
      "metadata": {
        "colab": {
          "base_uri": "https://localhost:8080/"
        },
        "id": "i6jjztwVhA7u",
        "outputId": "a961161d-773f-44da-ccf6-4a5177ce9420"
      },
      "execution_count": null,
      "outputs": [
        {
          "output_type": "stream",
          "name": "stderr",
          "text": [
            "WARNING:absl:Found untraced functions such as lstm_cell_36_layer_call_fn, lstm_cell_36_layer_call_and_return_conditional_losses while saving (showing 2 of 2). These functions will not be directly callable after loading.\n"
          ]
        }
      ]
    },
    {
      "cell_type": "code",
      "source": [
        "layer = model_RNN.layers[0]\n",
        "layer"
      ],
      "metadata": {
        "colab": {
          "base_uri": "https://localhost:8080/"
        },
        "id": "FW50QXnRc8ey",
        "outputId": "68c5d22c-275d-48ad-edf1-0fa2fc682ec6"
      },
      "execution_count": null,
      "outputs": [
        {
          "output_type": "execute_result",
          "data": {
            "text/plain": [
              "<keras.layers.core.dense.Dense at 0x7fcf4b551690>"
            ]
          },
          "metadata": {},
          "execution_count": 103
        }
      ]
    },
    {
      "cell_type": "code",
      "source": [
        "n_steps = 50\n",
        "method = \"gausslegendre\"\n",
        "internal_batch_size = 100\n",
        "nb_samples = 10\n",
        "ig  = IntegratedGradients(model_RNN,\n",
        "                          layer=layer,\n",
        "                          n_steps=n_steps,\n",
        "                          method=method,\n",
        "                          internal_batch_size=internal_batch_size)"
      ],
      "metadata": {
        "id": "1Y8mV8bfhX-u"
      },
      "execution_count": null,
      "outputs": []
    },
    {
      "cell_type": "code",
      "source": [
        "x_test_sample = X_test[:nb_samples]\n",
        "predictions = model_RNN(x_test_sample).numpy().argmax(axis=1)\n",
        "explanation = ig.explain(x_test_sample,\n",
        "                         baselines=None,\n",
        "                         target=predictions,\n",
        "                         attribute_to_layer_inputs=False)"
      ],
      "metadata": {
        "id": "gawcaTTOhYB3"
      },
      "execution_count": null,
      "outputs": []
    },
    {
      "cell_type": "code",
      "source": [
        "explanation.meta"
      ],
      "metadata": {
        "colab": {
          "base_uri": "https://localhost:8080/"
        },
        "id": "CZMbZww9hYEX",
        "outputId": "40895ab6-a54b-42d1-da1b-885e84a5e7d8"
      },
      "execution_count": null,
      "outputs": [
        {
          "output_type": "execute_result",
          "data": {
            "text/plain": [
              "{'name': 'IntegratedGradients',\n",
              " 'type': ['whitebox'],\n",
              " 'explanations': ['local'],\n",
              " 'params': {'target_fn': None,\n",
              "  'method': 'gausslegendre',\n",
              "  'n_steps': 50,\n",
              "  'internal_batch_size': 100,\n",
              "  'layer': 0},\n",
              " 'version': '0.9.2'}"
            ]
          },
          "metadata": {},
          "execution_count": 106
        }
      ]
    },
    {
      "cell_type": "code",
      "source": [
        "explanation.data.keys()"
      ],
      "metadata": {
        "colab": {
          "base_uri": "https://localhost:8080/"
        },
        "id": "mJCt3w8ChYGp",
        "outputId": "c185c4e4-55b1-4cae-c9aa-b6fadfa88c30"
      },
      "execution_count": null,
      "outputs": [
        {
          "output_type": "execute_result",
          "data": {
            "text/plain": [
              "dict_keys(['attributions', 'X', 'forward_kwargs', 'baselines', 'predictions', 'deltas', 'target'])"
            ]
          },
          "metadata": {},
          "execution_count": 107
        }
      ]
    },
    {
      "cell_type": "code",
      "source": [
        "# Get attributions values from the explanation object\n",
        "attrs = explanation.attributions[0]\n",
        "print('Attributions shape:', attrs.shape)"
      ],
      "metadata": {
        "colab": {
          "base_uri": "https://localhost:8080/"
        },
        "id": "oqYYx1BahYIj",
        "outputId": "0f959bbf-b5d1-4587-fc3c-2f68752abddb"
      },
      "execution_count": null,
      "outputs": [
        {
          "output_type": "stream",
          "name": "stdout",
          "text": [
            "Attributions shape: (10, 100, 50)\n"
          ]
        }
      ]
    },
    {
      "cell_type": "code",
      "source": [
        "attrs = attrs.sum(axis=2)\n",
        "print('Attributions shape:', attrs.shape)"
      ],
      "metadata": {
        "colab": {
          "base_uri": "https://localhost:8080/"
        },
        "id": "V0Lj0oRPhYKQ",
        "outputId": "05650271-7051-460b-f5cd-7e74bb6336ec"
      },
      "execution_count": null,
      "outputs": [
        {
          "output_type": "stream",
          "name": "stdout",
          "text": [
            "Attributions shape: (10, 100)\n"
          ]
        }
      ]
    },
    {
      "cell_type": "code",
      "source": [
        "i = 1\n",
        "x_i = x_test_sample[i]\n",
        "attrs_i = attrs[i]\n",
        "pred = predictions[i]\n",
        "pred_dict = {1: 'Positive review', 0: 'Negative review'}"
      ],
      "metadata": {
        "id": "Cqd7szMEhuOe"
      },
      "execution_count": null,
      "outputs": []
    },
    {
      "cell_type": "code",
      "source": [
        "print('Predicted label =  {}: {}'.format(pred, pred_dict[pred]))"
      ],
      "metadata": {
        "colab": {
          "base_uri": "https://localhost:8080/"
        },
        "id": "HilZPxRkhxZh",
        "outputId": "d9fec1b8-083d-413b-b0a4-1d1034b1b05a"
      },
      "execution_count": null,
      "outputs": [
        {
          "output_type": "stream",
          "name": "stdout",
          "text": [
            "Predicted label =  1: Positive review\n"
          ]
        }
      ]
    },
    {
      "cell_type": "code",
      "source": [
        "words = []\n",
        "for i in range(100):\n",
        "  if(word2vec_model.wv.similar_by_vector(X[0][i], topn = 1)[0][1]!=0.0):\n",
        "    words.append(word2vec_model.wv.similar_by_vector(X[3][i], topn = 1)[0][0])\n",
        "\n",
        "print(words)"
      ],
      "metadata": {
        "colab": {
          "base_uri": "https://localhost:8080/"
        },
        "id": "OAjQ8CHShuQw",
        "outputId": "aff922d5-30b9-4541-b862-e4673b0ddbb0"
      },
      "execution_count": null,
      "outputs": [
        {
          "output_type": "stream",
          "name": "stdout",
          "text": [
            "['the', 'name', 'says', 'it', 'all', 'but', \"don't\", 'get', 'fooled', 'by', 'the', 'seemingly', 'normal', 'title', 'of', 'the', 'game', \"you'll\", 'know', 'it', 'when', 'you', 'play', 'it', 'any', 'person', 'who', 'plays', 'this', 'game', 'including', 'me', 'has', 'the', 'right', 'to', 'say', 'that', 'this', 'free', 'horror', 'entertainment', 'is', 'spooky', 'me', 'the', 'the', 'the']\n"
          ]
        }
      ]
    },
    {
      "cell_type": "code",
      "source": [
        "colors = colorize(attrs_i)\n",
        "\n",
        "HTML(\"\".join(list(map(hlstr, words, colors))))"
      ],
      "metadata": {
        "colab": {
          "base_uri": "https://localhost:8080/",
          "height": 106
        },
        "id": "kkOxOnclhuTO",
        "outputId": "fb113264-589d-44a7-bb82-0857f4ab16b5"
      },
      "execution_count": null,
      "outputs": [
        {
          "output_type": "stream",
          "name": "stderr",
          "text": [
            "<ipython-input-113-931a19a490c6>:10: MatplotlibDeprecationWarning: The get_cmap function was deprecated in Matplotlib 3.7 and will be removed two minor releases later. Use ``matplotlib.colormaps[name]`` or ``matplotlib.colormaps.get_cmap(obj)`` instead.\n",
            "  cmap = mpl.cm.get_cmap(cmap)\n"
          ]
        },
        {
          "output_type": "execute_result",
          "data": {
            "text/plain": [
              "<IPython.core.display.HTML object>"
            ],
            "text/html": [
              "<mark style=background-color:#f7f7f7>the </mark><mark style=background-color:#f7f7f7>name </mark><mark style=background-color:#f7f7f7>says </mark><mark style=background-color:#f7f7f7>it </mark><mark style=background-color:#f7f7f7>all </mark><mark style=background-color:#f7f7f6>but </mark><mark style=background-color:#f7f7f7>don't </mark><mark style=background-color:#f7f7f7>get </mark><mark style=background-color:#f7f7f7>fooled </mark><mark style=background-color:#f7f7f6>by </mark><mark style=background-color:#f7f7f7>the </mark><mark style=background-color:#f7f7f7>seemingly </mark><mark style=background-color:#f7f7f6>normal </mark><mark style=background-color:#f7f7f6>title </mark><mark style=background-color:#f7f7f7>of </mark><mark style=background-color:#f7f7f7>the </mark><mark style=background-color:#f7f7f6>game </mark><mark style=background-color:#f7f7f7>you'll </mark><mark style=background-color:#f7f7f7>know </mark><mark style=background-color:#f7f7f7>it </mark><mark style=background-color:#f7f7f6>when </mark><mark style=background-color:#f7f7f7>you </mark><mark style=background-color:#f7f7f7>play </mark><mark style=background-color:#f7f6f7>it </mark><mark style=background-color:#f7f7f7>any </mark><mark style=background-color:#f7f7f6>person </mark><mark style=background-color:#f7f7f6>who </mark><mark style=background-color:#f7f7f7>plays </mark><mark style=background-color:#f6f7f5>this </mark><mark style=background-color:#f7f7f7>game </mark><mark style=background-color:#f7f7f6>including </mark><mark style=background-color:#f7f7f7>me </mark><mark style=background-color:#f6f7f5>has </mark><mark style=background-color:#f7f6f7>the </mark><mark style=background-color:#f8f5f6>right </mark><mark style=background-color:#f6f7f5>to </mark><mark style=background-color:#f8f5f6>say </mark><mark style=background-color:#f8f5f6>that </mark><mark style=background-color:#f5f7f3>this </mark><mark style=background-color:#f8f4f6>free </mark><mark style=background-color:#f6f7f5>horror </mark><mark style=background-color:#f5f7f3>entertainment </mark><mark style=background-color:#f8f3f6>is </mark><mark style=background-color:#f7f7f7>spooky </mark><mark style=background-color:#f7f6f7>me </mark><mark style=background-color:#f5f7f2>the </mark><mark style=background-color:#f8f2f5>the </mark><mark style=background-color:#f7f7f7>the </mark>"
            ]
          },
          "metadata": {},
          "execution_count": 115
        }
      ]
    },
    {
      "cell_type": "code",
      "source": [],
      "metadata": {
        "id": "V4K1bILRhuU8"
      },
      "execution_count": null,
      "outputs": []
    },
    {
      "cell_type": "code",
      "source": [],
      "metadata": {
        "id": "h1_s6KFVhYNE"
      },
      "execution_count": null,
      "outputs": []
    },
    {
      "cell_type": "code",
      "source": [
        "#MODEL 2 (WORKS WELL)\n",
        "model = Sequential()\n",
        "model.add(Dense(50, input_shape= (100,50), activation='relu'))\n",
        "model.add(Flatten())\n",
        "model.add(Dense(10, activation='relu'))\n",
        "model.add(Dense(2))\n",
        "\n",
        "model.compile(loss='categorical_crossentropy', optimizer='adam', metrics=['accuracy'])\n",
        "\n",
        "monitor = EarlyStopping(monitor='val_loss', min_delta=1e-3, patience=5, verbose=1, mode='auto')\n",
        "\n",
        "checkpointer = ModelCheckpoint(filepath=\"dnn/best_weights.hdf5\", verbose=0, save_best_only=True)\n",
        "\n",
        "model.fit(X_train,y_train,validation_data=(X_test,y_test),callbacks = [monitor, checkpointer],verbose=2,epochs=50)\n",
        "\n",
        "m_pred = model.predict(X_test)\n",
        "m_pred = np.argmax(m_pred,axis=1)\n",
        "y_true=np.argmax(y_test,axis=1)\n",
        "print(classification_report(y_true, m_pred))\n",
        "# summarize layers\n",
        "print(model.summary())\n",
        "# plot graph\n",
        "plot_model(model, show_shapes=True)"
      ],
      "metadata": {
        "colab": {
          "base_uri": "https://localhost:8080/",
          "height": 1000
        },
        "id": "6kkdRxqyWgW1",
        "outputId": "954fcfd5-7a03-4f21-f358-f6a3d20f503b"
      },
      "execution_count": null,
      "outputs": [
        {
          "output_type": "stream",
          "name": "stdout",
          "text": [
            "Epoch 1/50\n",
            "117/117 - 2s - loss: 0.6945 - accuracy: 0.5949 - val_loss: 0.6645 - val_accuracy: 0.6047 - 2s/epoch - 16ms/step\n",
            "Epoch 2/50\n",
            "117/117 - 0s - loss: 0.6394 - accuracy: 0.6339 - val_loss: 0.5789 - val_accuracy: 0.6858 - 471ms/epoch - 4ms/step\n",
            "Epoch 3/50\n",
            "117/117 - 0s - loss: 0.6220 - accuracy: 0.6470 - val_loss: 0.7073 - val_accuracy: 0.6596 - 449ms/epoch - 4ms/step\n",
            "Epoch 4/50\n",
            "117/117 - 0s - loss: 0.7709 - accuracy: 0.7600 - val_loss: 0.7140 - val_accuracy: 0.7294 - 448ms/epoch - 4ms/step\n",
            "Epoch 5/50\n",
            "117/117 - 0s - loss: 0.8899 - accuracy: 0.7710 - val_loss: 0.6409 - val_accuracy: 0.7101 - 453ms/epoch - 4ms/step\n",
            "Epoch 6/50\n",
            "117/117 - 0s - loss: 0.6947 - accuracy: 0.7862 - val_loss: 1.0842 - val_accuracy: 0.7244 - 446ms/epoch - 4ms/step\n",
            "Epoch 7/50\n",
            "117/117 - 0s - loss: 0.9017 - accuracy: 0.8028 - val_loss: 1.0623 - val_accuracy: 0.7425 - 455ms/epoch - 4ms/step\n",
            "Epoch 7: early stopping\n",
            "51/51 [==============================] - 0s 2ms/step\n",
            "              precision    recall  f1-score   support\n",
            "\n",
            "           0       0.66      0.69      0.68       625\n",
            "           1       0.80      0.78      0.79       979\n",
            "\n",
            "    accuracy                           0.74      1604\n",
            "   macro avg       0.73      0.73      0.73      1604\n",
            "weighted avg       0.74      0.74      0.74      1604\n",
            "\n",
            "Model: \"sequential_28\"\n",
            "_________________________________________________________________\n",
            " Layer (type)                Output Shape              Param #   \n",
            "=================================================================\n",
            " dense_54 (Dense)            (None, 100, 50)           2550      \n",
            "                                                                 \n",
            " flatten_5 (Flatten)         (None, 5000)              0         \n",
            "                                                                 \n",
            " dense_55 (Dense)            (None, 10)                50010     \n",
            "                                                                 \n",
            " dense_56 (Dense)            (None, 2)                 22        \n",
            "                                                                 \n",
            "=================================================================\n",
            "Total params: 52,582\n",
            "Trainable params: 52,582\n",
            "Non-trainable params: 0\n",
            "_________________________________________________________________\n",
            "None\n"
          ]
        },
        {
          "output_type": "execute_result",
          "data": {
            "image/png": "[encoded data removed]",
            "text/plain": [
              "<IPython.core.display.Image object>"
            ]
          },
          "metadata": {},
          "execution_count": 70
        }
      ]
    },
    {
      "cell_type": "code",
      "source": [
        "#model.save(filepath, 'seq_model')"
      ],
      "metadata": {
        "id": "BUN4IC7vHpxv"
      },
      "execution_count": null,
      "outputs": []
    },
    {
      "cell_type": "code",
      "source": [
        "layer = model.layers[0]\n",
        "layer"
      ],
      "metadata": {
        "colab": {
          "base_uri": "https://localhost:8080/"
        },
        "id": "-YtyGqZ8gb5a",
        "outputId": "43fa53b6-7ab5-44e1-8466-76a97136a9df"
      },
      "execution_count": null,
      "outputs": [
        {
          "output_type": "execute_result",
          "data": {
            "text/plain": [
              "<keras.layers.core.dense.Dense at 0x7fcf4e4db130>"
            ]
          },
          "metadata": {},
          "execution_count": 72
        }
      ]
    },
    {
      "cell_type": "code",
      "source": [
        "n_steps = 50\n",
        "method = \"gausslegendre\"\n",
        "internal_batch_size = 100\n",
        "nb_samples = 10\n",
        "ig  = IntegratedGradients(model,\n",
        "                          layer=layer,\n",
        "                          n_steps=n_steps,\n",
        "                          method=method,\n",
        "                          internal_batch_size=internal_batch_size)"
      ],
      "metadata": {
        "id": "kTeCDy__gnf8"
      },
      "execution_count": null,
      "outputs": []
    },
    {
      "cell_type": "code",
      "source": [
        "x_test_sample = X_test[:nb_samples]\n",
        "predictions = model(x_test_sample).numpy().argmax(axis=1)\n",
        "explanation = ig.explain(x_test_sample,\n",
        "                         baselines=None,\n",
        "                         target=predictions,\n",
        "                         attribute_to_layer_inputs=False)"
      ],
      "metadata": {
        "id": "Ue7xyXvZgs85"
      },
      "execution_count": null,
      "outputs": []
    },
    {
      "cell_type": "code",
      "source": [
        "explanation.meta"
      ],
      "metadata": {
        "colab": {
          "base_uri": "https://localhost:8080/"
        },
        "id": "sQ8aCAkVg6ky",
        "outputId": "42c47526-95c0-4c98-9b97-d8dd57886e2e"
      },
      "execution_count": null,
      "outputs": [
        {
          "output_type": "execute_result",
          "data": {
            "text/plain": [
              "{'name': 'IntegratedGradients',\n",
              " 'type': ['whitebox'],\n",
              " 'explanations': ['local'],\n",
              " 'params': {'target_fn': None,\n",
              "  'method': 'gausslegendre',\n",
              "  'n_steps': 50,\n",
              "  'internal_batch_size': 100,\n",
              "  'layer': 0},\n",
              " 'version': '0.9.2'}"
            ]
          },
          "metadata": {},
          "execution_count": 75
        }
      ]
    },
    {
      "cell_type": "code",
      "source": [
        "explanation.data.keys()"
      ],
      "metadata": {
        "colab": {
          "base_uri": "https://localhost:8080/"
        },
        "id": "jVlUl5f3g-R9",
        "outputId": "63f07781-c58b-4a9b-9d5f-6e7a0ee29a7e"
      },
      "execution_count": null,
      "outputs": [
        {
          "output_type": "execute_result",
          "data": {
            "text/plain": [
              "dict_keys(['attributions', 'X', 'forward_kwargs', 'baselines', 'predictions', 'deltas', 'target'])"
            ]
          },
          "metadata": {},
          "execution_count": 76
        }
      ]
    },
    {
      "cell_type": "code",
      "source": [
        "# Get attributions values from the explanation object\n",
        "attrs = explanation.attributions[0]\n",
        "print('Attributions shape:', attrs.shape)"
      ],
      "metadata": {
        "colab": {
          "base_uri": "https://localhost:8080/"
        },
        "id": "NutdDSDdhBEO",
        "outputId": "41c44e12-d842-4d3c-9cc3-d9e82261e35f"
      },
      "execution_count": null,
      "outputs": [
        {
          "output_type": "stream",
          "name": "stdout",
          "text": [
            "Attributions shape: (10, 100, 50)\n"
          ]
        }
      ]
    },
    {
      "cell_type": "code",
      "source": [
        "attrs = attrs.sum(axis=2)\n",
        "print('Attributions shape:', attrs.shape)"
      ],
      "metadata": {
        "colab": {
          "base_uri": "https://localhost:8080/"
        },
        "id": "x5n7_at9hD0F",
        "outputId": "1346236c-8632-42fb-b9d0-423b481e5bcc"
      },
      "execution_count": null,
      "outputs": [
        {
          "output_type": "stream",
          "name": "stdout",
          "text": [
            "Attributions shape: (10, 100)\n"
          ]
        }
      ]
    },
    {
      "cell_type": "code",
      "source": [
        "i = 1\n",
        "x_i = x_test_sample[i]\n",
        "attrs_i = attrs[i]\n",
        "pred = predictions[i]\n",
        "pred_dict = {1: 'Positive review', 0: 'Negative review'}"
      ],
      "metadata": {
        "id": "Jqoyv8LJhGRv"
      },
      "execution_count": null,
      "outputs": []
    },
    {
      "cell_type": "code",
      "source": [
        "print('Predicted label =  {}: {}'.format(pred, pred_dict[pred]))"
      ],
      "metadata": {
        "colab": {
          "base_uri": "https://localhost:8080/"
        },
        "id": "Pc9WNCekhIwH",
        "outputId": "93ded0bc-2ba1-4d2c-8ea5-34038a3d5230"
      },
      "execution_count": null,
      "outputs": [
        {
          "output_type": "stream",
          "name": "stdout",
          "text": [
            "Predicted label =  1: Positive review\n"
          ]
        }
      ]
    },
    {
      "cell_type": "code",
      "source": [
        "words = []\n",
        "for i in range(100):\n",
        "  if(word2vec_model.wv.similar_by_vector(X[0][i], topn = 1)[0][1]!=0.0):\n",
        "    words.append(word2vec_model.wv.similar_by_vector(X[3][i], topn = 1)[0][0])\n",
        "\n",
        "print(words)"
      ],
      "metadata": {
        "colab": {
          "base_uri": "https://localhost:8080/"
        },
        "id": "Qz2c-0othZ4Q",
        "outputId": "961fb940-2946-4b0b-c1a3-796943eef318"
      },
      "execution_count": null,
      "outputs": [
        {
          "output_type": "stream",
          "name": "stdout",
          "text": [
            "['the', 'name', 'says', 'it', 'all', 'but', \"don't\", 'get', 'fooled', 'by', 'the', 'seemingly', 'normal', 'title', 'of', 'the', 'game', \"you'll\", 'know', 'it', 'when', 'you', 'play', 'it', 'any', 'person', 'who', 'plays', 'this', 'game', 'including', 'me', 'has', 'the', 'right', 'to', 'say', 'that', 'this', 'free', 'horror', 'entertainment', 'is', 'spooky', 'me', 'the', 'the', 'the']\n"
          ]
        }
      ]
    },
    {
      "cell_type": "code",
      "source": [
        "colors = colorize(attrs_i)\n",
        "\n",
        "HTML(\"\".join(list(map(hlstr, words, colors))))"
      ],
      "metadata": {
        "colab": {
          "base_uri": "https://localhost:8080/",
          "height": 106
        },
        "id": "LIhNUy_ajL3I",
        "outputId": "509eaf80-ebef-4cc4-e6c9-a341d8df00db"
      },
      "execution_count": null,
      "outputs": [
        {
          "output_type": "stream",
          "name": "stderr",
          "text": [
            "<ipython-input-82-931a19a490c6>:10: MatplotlibDeprecationWarning: The get_cmap function was deprecated in Matplotlib 3.7 and will be removed two minor releases later. Use ``matplotlib.colormaps[name]`` or ``matplotlib.colormaps.get_cmap(obj)`` instead.\n",
            "  cmap = mpl.cm.get_cmap(cmap)\n"
          ]
        },
        {
          "output_type": "execute_result",
          "data": {
            "text/plain": [
              "<IPython.core.display.HTML object>"
            ],
            "text/html": [
              "<mark style=background-color:#eff6e5>the </mark><mark style=background-color:#ebf6dc>name </mark><mark style=background-color:#edf6e1>says </mark><mark style=background-color:#f6c7e3>it </mark><mark style=background-color:#a1d26a>all </mark><mark style=background-color:#e2f3ca>but </mark><mark style=background-color:#eff6e5>don't </mark><mark style=background-color:#e4f4cd>get </mark><mark style=background-color:#e7f5d2>fooled </mark><mark style=background-color:#bde38d>by </mark><mark style=background-color:#f2f6ec>the </mark><mark style=background-color:#d0ecad>seemingly </mark><mark style=background-color:#eaf5d9>normal </mark><mark style=background-color:#d9f0bc>title </mark><mark style=background-color:#ecf6de>of </mark><mark style=background-color:#f9eef4>the </mark><mark style=background-color:#d0ecad>game </mark><mark style=background-color:#edf6df>you'll </mark><mark style=background-color:#ddf1c1>know </mark><mark style=background-color:#f9eff4>it </mark><mark style=background-color:#f4f7f0>when </mark><mark style=background-color:#faeaf2>you </mark><mark style=background-color:#eff6e4>play </mark><mark style=background-color:#f8f4f6>it </mark><mark style=background-color:#f7f7f7>any </mark><mark style=background-color:#e9f5d6>person </mark><mark style=background-color:#e7f5d2>who </mark><mark style=background-color:#ebf6dc>plays </mark><mark style=background-color:#ebf6db>this </mark><mark style=background-color:#eff6e4>game </mark><mark style=background-color:#f8f2f5>including </mark><mark style=background-color:#f8f5f6>me </mark><mark style=background-color:#e1f3c7>has </mark><mark style=background-color:#f9eef4>the </mark><mark style=background-color:#e9f5d6>right </mark><mark style=background-color:#d6eeb6>to </mark><mark style=background-color:#e9f5d8>say </mark><mark style=background-color:#eff6e5>that </mark><mark style=background-color:#f6f7f5>this </mark><mark style=background-color:#f6c9e3>free </mark><mark style=background-color:#f7f7f6>horror </mark><mark style=background-color:#eff6e4>entertainment </mark><mark style=background-color:#f9eff4>is </mark><mark style=background-color:#f8f4f6>spooky </mark><mark style=background-color:#f5f7f2>me </mark><mark style=background-color:#f1f6ea>the </mark><mark style=background-color:#f4f7f0>the </mark><mark style=background-color:#e1f3c7>the </mark>"
            ]
          },
          "metadata": {},
          "execution_count": 84
        }
      ]
    },
    {
      "cell_type": "markdown",
      "metadata": {
        "id": "8W40Pi6dG2HA"
      },
      "source": [
        "#Word Embeddings (Bert) \n",
        "Context Sensitive embeddings\n",
        "Only classification works. Word attribution still needs work.\n"
      ]
    },
    {
      "cell_type": "code",
      "source": [
        "#Create a test set for the Bert Model from our training set.\n",
        "df_test = df_train.sample(frac = .2, random_state = 2)\n",
        "df_train = df_train.drop(df_test.index)"
      ],
      "metadata": {
        "id": "T3SZYNp6JI9c"
      },
      "execution_count": 62,
      "outputs": []
    },
    {
      "cell_type": "code",
      "source": [
        "df_test.shape"
      ],
      "metadata": {
        "colab": {
          "base_uri": "https://localhost:8080/"
        },
        "id": "jgQD76gvJK15",
        "outputId": "49c5a65a-a9cf-4503-943b-b1d702e12981"
      },
      "execution_count": 63,
      "outputs": [
        {
          "output_type": "execute_result",
          "data": {
            "text/plain": [
              "(1336, 5)"
            ]
          },
          "metadata": {},
          "execution_count": 63
        }
      ]
    },
    {
      "cell_type": "code",
      "source": [
        "df_train.shape"
      ],
      "metadata": {
        "colab": {
          "base_uri": "https://localhost:8080/"
        },
        "id": "RbfWpBVZJMNz",
        "outputId": "b1696301-d71b-4d1f-fb2a-f24c35c72547"
      },
      "execution_count": 64,
      "outputs": [
        {
          "output_type": "execute_result",
          "data": {
            "text/plain": [
              "(5346, 5)"
            ]
          },
          "metadata": {},
          "execution_count": 64
        }
      ]
    },
    {
      "cell_type": "code",
      "execution_count": 65,
      "metadata": {
        "id": "2x0svC3b0e5v",
        "colab": {
          "base_uri": "https://localhost:8080/"
        },
        "outputId": "7c5f5a91-36f4-46ec-9ad6-8c26560c77df"
      },
      "outputs": [
        {
          "output_type": "stream",
          "name": "stdout",
          "text": [
            " Original:  Great game, fun and colorful and all that.A side note, though: When are we getting windowed mode? My computer hates fullscreen so.... yeah. The computer doesn't like to run this. Shame, because this is really enjoyable. But until then, I guess I'll settle for more Skyrim. Cheers!\n",
            "Tokenized:  ['great', 'game', ',', 'fun', 'and', 'colorful', 'and', 'all', 'that', '.', 'a', 'side', 'note', ',', 'though', ':', 'when', 'are', 'we', 'getting', 'window', '##ed', 'mode', '?', 'my', 'computer', 'hates', 'full', '##screen', 'so', '.', '.', '.', '.', 'yeah', '.', 'the', 'computer', 'doesn', \"'\", 't', 'like', 'to', 'run', 'this', '.', 'shame', ',', 'because', 'this', 'is', 'really', 'enjoyable', '.', 'but', 'until', 'then', ',', 'i', 'guess', 'i', \"'\", 'll', 'settle', 'for', 'more', 'sky', '##rim', '.', 'cheers', '!']\n",
            "Token IDs:  [2307, 2208, 1010, 4569, 1998, 14231, 1998, 2035, 2008, 1012, 1037, 2217, 3602, 1010, 2295, 1024, 2043, 2024, 2057, 2893, 3332, 2098, 5549, 1029, 2026, 3274, 16424, 2440, 18182, 2061, 1012, 1012, 1012, 1012, 3398, 1012, 1996, 3274, 2987, 1005, 1056, 2066, 2000, 2448, 2023, 1012, 9467, 1010, 2138, 2023, 2003, 2428, 22249, 1012, 2021, 2127, 2059, 1010, 1045, 3984, 1045, 1005, 2222, 7392, 2005, 2062, 3712, 20026, 1012, 21250, 999]\n"
          ]
        }
      ],
      "source": [
        "#Example of how to use the tokenizer to take the full review, tokenize it, and then get the integer id's for each token.\n",
        "sentences = df_train.user_review.values\n",
        "labels = df_train.user_suggestion.values\n",
        "tokenizer = BertTokenizer.from_pretrained('bert-base-uncased', do_lower_case=True)\n",
        "\n",
        "#Print the original sentence.\n",
        "print(' Original: ', sentences[0])\n",
        "\n",
        "#Print the sentence split into tokens.\n",
        "print('Tokenized: ', tokenizer.tokenize(sentences[0]))\n",
        "\n",
        "#Print the sentence mapped to token ids.\n",
        "#NOTE: This is not the embedding, which is what we need for Alibi.\n",
        "print('Token IDs: ', tokenizer.convert_tokens_to_ids(tokenizer.tokenize(sentences[0])))"
      ]
    },
    {
      "cell_type": "code",
      "execution_count": 66,
      "metadata": {
        "colab": {
          "base_uri": "https://localhost:8080/"
        },
        "id": "Dyk7tRcsOL3S",
        "outputId": "82666038-a7d8-4539-f9fd-4f4c404d9d74"
      },
      "outputs": [
        {
          "output_type": "stream",
          "name": "stdout",
          "text": [
            "Original:  Great game, fun and colorful and all that.A side note, though: When are we getting windowed mode? My computer hates fullscreen so.... yeah. The computer doesn't like to run this. Shame, because this is really enjoyable. But until then, I guess I'll settle for more Skyrim. Cheers!\n",
            "Token IDs: tensor([  101,  2307,  2208,  1010,  4569,  1998, 14231,  1998,  2035,  2008,\n",
            "         1012,  1037,  2217,  3602,  1010,  2295,  1024,  2043,  2024,  2057,\n",
            "         2893,  3332,  2098,  5549,  1029,  2026,  3274, 16424,  2440, 18182,\n",
            "         2061,  1012,  1012,  1012,  1012,  3398,  1012,  1996,  3274,  2987,\n",
            "         1005,  1056,  2066,  2000,  2448,  2023,  1012,  9467,  1010,  2138,\n",
            "         2023,  2003,  2428, 22249,  1012,  2021,  2127,  2059,  1010,  1045,\n",
            "         3984,  1045,  1005,  2222,  7392,  2005,  2062,  3712, 20026,  1012,\n",
            "        21250,   999,   102,     0,     0,     0,     0,     0,     0,     0,\n",
            "            0,     0,     0,     0,     0,     0,     0,     0,     0,     0,\n",
            "            0,     0,     0,     0,     0,     0,     0,     0,     0,     0])\n"
          ]
        }
      ],
      "source": [
        "# Tokenize all of the sentences and map the tokens to thier word IDs.\n",
        "input_ids = []\n",
        "attention_masks = []\n",
        "\n",
        "#Format the sentence into a way that Bert requires.\n",
        "#Add the SEP and CLS markers for each sentence.\n",
        "for sent in sentences:\n",
        "    encoded_dict = tokenizer.encode_plus(\n",
        "                        sent,                        \n",
        "                        add_special_tokens = True,  \n",
        "                        max_length = 100,           #Should match the max sentence length.\n",
        "                        truncation = True,         \n",
        "                        pad_to_max_length = True,\n",
        "                        return_attention_mask = True,   \n",
        "                        return_tensors = 'pt',      \n",
        "                   )\n",
        "    \n",
        "    #Append each sentence to the list    \n",
        "    input_ids.append(encoded_dict['input_ids'])\n",
        "    \n",
        "    #Append the indexes where the 0's need to be added for padding.\n",
        "    attention_masks.append(encoded_dict['attention_mask'])\n",
        "\n",
        "#Convert the lists into tensors.\n",
        "input_ids = torch.cat(input_ids, dim=0)\n",
        "attention_masks = torch.cat(attention_masks, dim=0)\n",
        "labels = torch.tensor(labels)\n",
        "\n",
        "#EXAMPLE: Print sentence 0, now as a list of IDs.\n",
        "print('Original: ', sentences[0])\n",
        "print('Token IDs:', input_ids[0])"
      ]
    },
    {
      "cell_type": "code",
      "execution_count": 67,
      "metadata": {
        "colab": {
          "base_uri": "https://localhost:8080/"
        },
        "id": "08lDkzJ3XeLK",
        "outputId": "3eb140a4-7d84-4b0c-da00-4106c7379ca5"
      },
      "outputs": [
        {
          "output_type": "stream",
          "name": "stdout",
          "text": [
            "4,811 training samples\n",
            "  535 validation samples\n"
          ]
        }
      ],
      "source": [
        "#Combine the training inputs into a TensorDataset.\n",
        "dataset = TensorDataset(input_ids, attention_masks, labels)\n",
        "\n",
        "#Create a 90/10 split for training and validation. NOT THE TEST SET.\n",
        "train_size = int(0.9 * len(dataset))\n",
        "val_size = len(dataset) - train_size\n",
        "\n",
        "#Divide the dataset by randomly selecting samples.\n",
        "train_dataset, val_dataset = random_split(dataset, [train_size, val_size])\n",
        "\n",
        "print('{:>5,} training samples'.format(train_size))\n",
        "print('{:>5,} validation samples'.format(val_size))"
      ]
    },
    {
      "cell_type": "code",
      "execution_count": 68,
      "metadata": {
        "id": "048zpuNyYOlU"
      },
      "outputs": [],
      "source": [
        "batch_size = 32\n",
        "\n",
        "#Dataloader for training set.\n",
        "train_dataloader = DataLoader(\n",
        "            train_dataset,\n",
        "            sampler = RandomSampler(train_dataset),\n",
        "            batch_size = batch_size\n",
        "        )\n",
        "\n",
        "#Dataloader for validation set.\n",
        "validation_dataloader = DataLoader(\n",
        "            val_dataset,\n",
        "            sampler = SequentialSampler(val_dataset),\n",
        "            batch_size = batch_size\n",
        "        )"
      ]
    },
    {
      "cell_type": "code",
      "execution_count": 69,
      "metadata": {
        "id": "-gHlgrBPTDHW",
        "colab": {
          "base_uri": "https://localhost:8080/"
        },
        "outputId": "4acabbd4-583c-4039-f26a-300ccefdbea7"
      },
      "outputs": [
        {
          "output_type": "stream",
          "name": "stderr",
          "text": [
            "Some weights of the model checkpoint at bert-base-uncased were not used when initializing BertForSequenceClassification: ['cls.predictions.transform.dense.bias', 'cls.seq_relationship.weight', 'cls.predictions.transform.LayerNorm.bias', 'cls.predictions.bias', 'cls.predictions.transform.dense.weight', 'cls.seq_relationship.bias', 'cls.predictions.decoder.weight', 'cls.predictions.transform.LayerNorm.weight']\n",
            "- This IS expected if you are initializing BertForSequenceClassification from the checkpoint of a model trained on another task or with another architecture (e.g. initializing a BertForSequenceClassification model from a BertForPreTraining model).\n",
            "- This IS NOT expected if you are initializing BertForSequenceClassification from the checkpoint of a model that you expect to be exactly identical (initializing a BertForSequenceClassification model from a BertForSequenceClassification model).\n",
            "Some weights of BertForSequenceClassification were not initialized from the model checkpoint at bert-base-uncased and are newly initialized: ['classifier.bias', 'classifier.weight']\n",
            "You should probably TRAIN this model on a down-stream task to be able to use it for predictions and inference.\n"
          ]
        },
        {
          "output_type": "execute_result",
          "data": {
            "text/plain": [
              "BertForSequenceClassification(\n",
              "  (bert): BertModel(\n",
              "    (embeddings): BertEmbeddings(\n",
              "      (word_embeddings): Embedding(30522, 768, padding_idx=0)\n",
              "      (position_embeddings): Embedding(512, 768)\n",
              "      (token_type_embeddings): Embedding(2, 768)\n",
              "      (LayerNorm): LayerNorm((768,), eps=1e-12, elementwise_affine=True)\n",
              "      (dropout): Dropout(p=0.1, inplace=False)\n",
              "    )\n",
              "    (encoder): BertEncoder(\n",
              "      (layer): ModuleList(\n",
              "        (0-11): 12 x BertLayer(\n",
              "          (attention): BertAttention(\n",
              "            (self): BertSelfAttention(\n",
              "              (query): Linear(in_features=768, out_features=768, bias=True)\n",
              "              (key): Linear(in_features=768, out_features=768, bias=True)\n",
              "              (value): Linear(in_features=768, out_features=768, bias=True)\n",
              "              (dropout): Dropout(p=0.1, inplace=False)\n",
              "            )\n",
              "            (output): BertSelfOutput(\n",
              "              (dense): Linear(in_features=768, out_features=768, bias=True)\n",
              "              (LayerNorm): LayerNorm((768,), eps=1e-12, elementwise_affine=True)\n",
              "              (dropout): Dropout(p=0.1, inplace=False)\n",
              "            )\n",
              "          )\n",
              "          (intermediate): BertIntermediate(\n",
              "            (dense): Linear(in_features=768, out_features=3072, bias=True)\n",
              "            (intermediate_act_fn): GELUActivation()\n",
              "          )\n",
              "          (output): BertOutput(\n",
              "            (dense): Linear(in_features=3072, out_features=768, bias=True)\n",
              "            (LayerNorm): LayerNorm((768,), eps=1e-12, elementwise_affine=True)\n",
              "            (dropout): Dropout(p=0.1, inplace=False)\n",
              "          )\n",
              "        )\n",
              "      )\n",
              "    )\n",
              "    (pooler): BertPooler(\n",
              "      (dense): Linear(in_features=768, out_features=768, bias=True)\n",
              "      (activation): Tanh()\n",
              "    )\n",
              "  )\n",
              "  (dropout): Dropout(p=0.1, inplace=False)\n",
              "  (classifier): Linear(in_features=768, out_features=2, bias=True)\n",
              ")"
            ]
          },
          "metadata": {},
          "execution_count": 69
        }
      ],
      "source": [
        "#Load BertForSequenceClassification, the pretrained BERT model \n",
        "model = BertForSequenceClassification.from_pretrained(\n",
        "    \"bert-base-uncased\",\n",
        "    num_labels = 2,   #Our output labels for classification \n",
        "    output_attentions = False, \n",
        "    output_hidden_states = False, #Needed to be true for returning the embedding layer. Leave it false though for less memory usage.\n",
        ")\n",
        "#Run the model on GPU (faster)\n",
        "model.cuda()"
      ]
    },
    {
      "cell_type": "code",
      "execution_count": 70,
      "metadata": {
        "id": "lQKTo-CJYZO0"
      },
      "outputs": [],
      "source": [
        "#Set the optimizer for the model.\n",
        "optimizer = AdamW(model.parameters(),\n",
        "                  lr = 2e-5, # args.learning_rate - default is 5e-5\n",
        "                  eps = 1e-8 # args.adam_epsilon  - default is 1e-8.\n",
        "                )\n",
        "\n",
        "epochs = 4\n",
        "\n",
        "#Total number of training steps is [number of batches] x [number of epochs]. \n",
        "total_steps = len(train_dataloader) * epochs\n",
        "\n",
        "# Create the learning rate scheduler.\n",
        "scheduler = get_linear_schedule_with_warmup(optimizer, \n",
        "                                            num_warmup_steps = 0,\n",
        "                                            num_training_steps = total_steps)"
      ]
    },
    {
      "cell_type": "code",
      "execution_count": 71,
      "metadata": {
        "colab": {
          "base_uri": "https://localhost:8080/"
        },
        "id": "64qdDLXJZ2a9",
        "outputId": "ad37d763-b794-4f0d-a7e7-ef8cadaebee9"
      },
      "outputs": [
        {
          "output_type": "stream",
          "name": "stdout",
          "text": [
            "Using GPU: Tesla T4\n"
          ]
        }
      ],
      "source": [
        "# If there's a GPU available\n",
        "if torch.cuda.is_available():    \n",
        "    # Tell PyTorch to use the GPU.    \n",
        "    device = torch.device(\"cuda\")\n",
        "    print('Using GPU:', torch.cuda.get_device_name(0))\n",
        "else:\n",
        "    print('Using CPU')\n",
        "    device = torch.device(\"cpu\")"
      ]
    },
    {
      "cell_type": "code",
      "source": [
        "seed_val = 42\n",
        "\n",
        "random.seed(seed_val)\n",
        "np.random.seed(seed_val)\n",
        "torch.manual_seed(seed_val)\n",
        "torch.cuda.manual_seed_all(seed_val)\n",
        "\n",
        "training_stats = []\n",
        "total_t0 = time.time()\n",
        "\n",
        "for epoch_i in range(0, epochs):\n",
        "  total_train_loss = 0\n",
        "  t0 = time.time()\n",
        "  #Training pass\n",
        "  model.train()\n",
        "  for step, batch in enumerate(train_dataloader):\n",
        "    b_input_ids = batch[0].to(device)\n",
        "    b_input_mask = batch[1].to(device)\n",
        "    b_labels = batch[2].to(device)\n",
        "    \n",
        "    #Resets all gradients before backwards pass. might want to remove\n",
        "    model.zero_grad()  \n",
        "\n",
        "    output = model(b_input_ids, \n",
        "                   token_type_ids=None, \n",
        "                   attention_mask=b_input_mask, \n",
        "                   labels=b_labels).to_tuple()\n",
        "\n",
        "    \n",
        "    loss = output[0] \n",
        "    logits = output[1] \n",
        "    total_train_loss += loss.item()\n",
        "    loss.backward()\n",
        "    torch.nn.utils.clip_grad_norm_(model.parameters(), 1.0)\n",
        "    optimizer.step()\n",
        "    scheduler.step()\n",
        "  \n",
        "  avg_train_loss = total_train_loss / len(train_dataloader)\n",
        "  training_time = format_time(time.time() - t0)\n",
        "  print(\"\")\n",
        "  print(\"  Average training loss: {0:.2f}\".format(avg_train_loss))\n",
        "  print(\"  Training epcoh took: {:}\".format(training_time))\n",
        "  \n",
        "  #Evaluation pass\n",
        "  t0 = time.time()\n",
        "  model.eval()\n",
        "  \n",
        "  total_eval_accuracy = 0\n",
        "  total_eval_loss = 0\n",
        "  nb_eval_steps = 0\n",
        "\n",
        "  for batch in validation_dataloader:  \n",
        "    b_input_ids = batch[0].to(device)\n",
        "    b_input_mask = batch[1].to(device)\n",
        "    b_labels = batch[2].to(device)\n",
        "\n",
        "    with torch.no_grad():\n",
        "      output2 = model(b_input_ids, \n",
        "                      token_type_ids=None, \n",
        "                      attention_mask=b_input_mask,\n",
        "                      labels=b_labels).to_tuple()\n",
        "    loss = output2[0]\n",
        "    logits = output2[1]\n",
        "    total_eval_loss += loss.item()\n",
        "\n",
        "    logits = logits.detach().cpu().numpy()\n",
        "    label_ids = b_labels.to('cpu').numpy()\n",
        "    total_eval_accuracy += flat_accuracy(logits, label_ids)\n",
        "  \n",
        "  avg_val_accuracy = total_eval_accuracy / len(validation_dataloader)\n",
        "  print(\"  Accuracy: {0:.2f}\".format(avg_val_accuracy))\n",
        "  avg_val_loss = total_eval_loss / len(validation_dataloader)\n",
        "  validation_time = format_time(time.time() - t0)\n",
        "  print(\"  Validation Loss: {0:.2f}\".format(avg_val_loss))\n",
        "  print(\"  Validation took: {:}\".format(validation_time))\n",
        "  training_stats.append(\n",
        "        {\n",
        "            'epoch': epoch_i + 1,\n",
        "            'Training Loss': avg_train_loss,\n",
        "            'Valid. Loss': avg_val_loss,\n",
        "            'Valid. Accur.': avg_val_accuracy,\n",
        "            'Training Time': training_time,\n",
        "            'Validation Time': validation_time\n",
        "        }\n",
        "    )"
      ],
      "metadata": {
        "colab": {
          "base_uri": "https://localhost:8080/"
        },
        "id": "gXqmbQx32JGB",
        "outputId": "e7e8bbc2-e9f0-48d6-8146-eb3dca89233a"
      },
      "execution_count": 72,
      "outputs": [
        {
          "output_type": "stream",
          "name": "stdout",
          "text": [
            "\n",
            "  Average training loss: 0.39\n",
            "  Training epcoh took: 0:01:15\n",
            "  Accuracy: 0.88\n",
            "  Validation Loss: 0.29\n",
            "  Validation took: 0:00:03\n",
            "\n",
            "  Average training loss: 0.20\n",
            "  Training epcoh took: 0:01:14\n",
            "  Accuracy: 0.88\n",
            "  Validation Loss: 0.29\n",
            "  Validation took: 0:00:03\n",
            "\n",
            "  Average training loss: 0.12\n",
            "  Training epcoh took: 0:01:14\n",
            "  Accuracy: 0.90\n",
            "  Validation Loss: 0.31\n",
            "  Validation took: 0:00:03\n",
            "\n",
            "  Average training loss: 0.07\n",
            "  Training epcoh took: 0:01:15\n",
            "  Accuracy: 0.89\n",
            "  Validation Loss: 0.38\n",
            "  Validation took: 0:00:03\n"
          ]
        }
      ]
    },
    {
      "cell_type": "code",
      "source": [
        "if isinstance(model, BertForSequenceClassification):\n",
        "    # The model is an instance of BertForSequenceClassification and has an 'inputs' attribute\n",
        "    print('yes')\n",
        "else:\n",
        "   print('no')"
      ],
      "metadata": {
        "id": "bMcTl9A13iGV",
        "colab": {
          "base_uri": "https://localhost:8080/"
        },
        "outputId": "106ea154-b5c0-454d-f2f2-ae9c846ba35e"
      },
      "execution_count": 73,
      "outputs": [
        {
          "output_type": "stream",
          "name": "stdout",
          "text": [
            "yes\n"
          ]
        }
      ]
    },
    {
      "cell_type": "code",
      "source": [
        "#Display some stats\n",
        "df_stats = pd.DataFrame(data=training_stats)\n",
        "df_stats = df_stats.set_index('epoch')\n",
        "df_stats"
      ],
      "metadata": {
        "colab": {
          "base_uri": "https://localhost:8080/",
          "height": 206
        },
        "id": "o3AIO-BBTqwy",
        "outputId": "84f037e4-9cae-4fea-90ba-2ae1f43865c7"
      },
      "execution_count": 74,
      "outputs": [
        {
          "output_type": "execute_result",
          "data": {
            "text/plain": [
              "       Training Loss  Valid. Loss  Valid. Accur. Training Time Validation Time\n",
              "epoch                                                                         \n",
              "1           0.386643     0.286841       0.880914       0:01:15         0:00:03\n",
              "2           0.203732     0.294887       0.882753       0:01:14         0:00:03\n",
              "3           0.124268     0.309265       0.904811       0:01:14         0:00:03\n",
              "4           0.073130     0.378228       0.891944       0:01:15         0:00:03"
            ],
            "text/html": [
              "\n",
              "  <div id=\"df-b0c4fdea-1ca1-403c-833b-93af500b9d57\">\n",
              "    <div class=\"colab-df-container\">\n",
              "      <div>\n",
              "<style scoped>\n",
              "    .dataframe tbody tr th:only-of-type {\n",
              "        vertical-align: middle;\n",
              "    }\n",
              "\n",
              "    .dataframe tbody tr th {\n",
              "        vertical-align: top;\n",
              "    }\n",
              "\n",
              "    .dataframe thead th {\n",
              "        text-align: right;\n",
              "    }\n",
              "</style>\n",
              "<table border=\"1\" class=\"dataframe\">\n",
              "  <thead>\n",
              "    <tr style=\"text-align: right;\">\n",
              "      <th></th>\n",
              "      <th>Training Loss</th>\n",
              "      <th>Valid. Loss</th>\n",
              "      <th>Valid. Accur.</th>\n",
              "      <th>Training Time</th>\n",
              "      <th>Validation Time</th>\n",
              "    </tr>\n",
              "    <tr>\n",
              "      <th>epoch</th>\n",
              "      <th></th>\n",
              "      <th></th>\n",
              "      <th></th>\n",
              "      <th></th>\n",
              "      <th></th>\n",
              "    </tr>\n",
              "  </thead>\n",
              "  <tbody>\n",
              "    <tr>\n",
              "      <th>1</th>\n",
              "      <td>0.386643</td>\n",
              "      <td>0.286841</td>\n",
              "      <td>0.880914</td>\n",
              "      <td>0:01:15</td>\n",
              "      <td>0:00:03</td>\n",
              "    </tr>\n",
              "    <tr>\n",
              "      <th>2</th>\n",
              "      <td>0.203732</td>\n",
              "      <td>0.294887</td>\n",
              "      <td>0.882753</td>\n",
              "      <td>0:01:14</td>\n",
              "      <td>0:00:03</td>\n",
              "    </tr>\n",
              "    <tr>\n",
              "      <th>3</th>\n",
              "      <td>0.124268</td>\n",
              "      <td>0.309265</td>\n",
              "      <td>0.904811</td>\n",
              "      <td>0:01:14</td>\n",
              "      <td>0:00:03</td>\n",
              "    </tr>\n",
              "    <tr>\n",
              "      <th>4</th>\n",
              "      <td>0.073130</td>\n",
              "      <td>0.378228</td>\n",
              "      <td>0.891944</td>\n",
              "      <td>0:01:15</td>\n",
              "      <td>0:00:03</td>\n",
              "    </tr>\n",
              "  </tbody>\n",
              "</table>\n",
              "</div>\n",
              "      <button class=\"colab-df-convert\" onclick=\"convertToInteractive('df-b0c4fdea-1ca1-403c-833b-93af500b9d57')\"\n",
              "              title=\"Convert this dataframe to an interactive table.\"\n",
              "              style=\"display:none;\">\n",
              "        \n",
              "  <svg xmlns=\"http://www.w3.org/2000/svg\" height=\"24px\"viewBox=\"0 0 24 24\"\n",
              "       width=\"24px\">\n",
              "    <path d=\"M0 0h24v24H0V0z\" fill=\"none\"/>\n",
              "    <path d=\"M18.56 5.44l.94 2.06.94-2.06 2.06-.94-2.06-.94-.94-2.06-.94 2.06-2.06.94zm-11 1L8.5 8.5l.94-2.06 2.06-.94-2.06-.94L8.5 2.5l-.94 2.06-2.06.94zm10 10l.94 2.06.94-2.06 2.06-.94-2.06-.94-.94-2.06-.94 2.06-2.06.94z\"/><path d=\"M17.41 7.96l-1.37-1.37c-.4-.4-.92-.59-1.43-.59-.52 0-1.04.2-1.43.59L10.3 9.45l-7.72 7.72c-.78.78-.78 2.05 0 2.83L4 21.41c.39.39.9.59 1.41.59.51 0 1.02-.2 1.41-.59l7.78-7.78 2.81-2.81c.8-.78.8-2.07 0-2.86zM5.41 20L4 18.59l7.72-7.72 1.47 1.35L5.41 20z\"/>\n",
              "  </svg>\n",
              "      </button>\n",
              "      \n",
              "  <style>\n",
              "    .colab-df-container {\n",
              "      display:flex;\n",
              "      flex-wrap:wrap;\n",
              "      gap: 12px;\n",
              "    }\n",
              "\n",
              "    .colab-df-convert {\n",
              "      background-color: #E8F0FE;\n",
              "      border: none;\n",
              "      border-radius: 50%;\n",
              "      cursor: pointer;\n",
              "      display: none;\n",
              "      fill: #1967D2;\n",
              "      height: 32px;\n",
              "      padding: 0 0 0 0;\n",
              "      width: 32px;\n",
              "    }\n",
              "\n",
              "    .colab-df-convert:hover {\n",
              "      background-color: #E2EBFA;\n",
              "      box-shadow: 0px 1px 2px rgba(60, 64, 67, 0.3), 0px 1px 3px 1px rgba(60, 64, 67, 0.15);\n",
              "      fill: #174EA6;\n",
              "    }\n",
              "\n",
              "    [theme=dark] .colab-df-convert {\n",
              "      background-color: #3B4455;\n",
              "      fill: #D2E3FC;\n",
              "    }\n",
              "\n",
              "    [theme=dark] .colab-df-convert:hover {\n",
              "      background-color: #434B5C;\n",
              "      box-shadow: 0px 1px 3px 1px rgba(0, 0, 0, 0.15);\n",
              "      filter: drop-shadow(0px 1px 2px rgba(0, 0, 0, 0.3));\n",
              "      fill: #FFFFFF;\n",
              "    }\n",
              "  </style>\n",
              "\n",
              "      <script>\n",
              "        const buttonEl =\n",
              "          document.querySelector('#df-b0c4fdea-1ca1-403c-833b-93af500b9d57 button.colab-df-convert');\n",
              "        buttonEl.style.display =\n",
              "          google.colab.kernel.accessAllowed ? 'block' : 'none';\n",
              "\n",
              "        async function convertToInteractive(key) {\n",
              "          const element = document.querySelector('#df-b0c4fdea-1ca1-403c-833b-93af500b9d57');\n",
              "          const dataTable =\n",
              "            await google.colab.kernel.invokeFunction('convertToInteractive',\n",
              "                                                     [key], {});\n",
              "          if (!dataTable) return;\n",
              "\n",
              "          const docLinkHtml = 'Like what you see? Visit the ' +\n",
              "            '<a target=\"_blank\" href=https://colab.research.google.com/notebooks/data_table.ipynb>data table notebook</a>'\n",
              "            + ' to learn more about interactive tables.';\n",
              "          element.innerHTML = '';\n",
              "          dataTable['output_type'] = 'display_data';\n",
              "          await google.colab.output.renderOutput(dataTable, element);\n",
              "          const docLink = document.createElement('div');\n",
              "          docLink.innerHTML = docLinkHtml;\n",
              "          element.appendChild(docLink);\n",
              "        }\n",
              "      </script>\n",
              "    </div>\n",
              "  </div>\n",
              "  "
            ]
          },
          "metadata": {},
          "execution_count": 74
        }
      ]
    },
    {
      "cell_type": "code",
      "source": [
        "#For the Test dataset\n",
        "sentences = df_test.user_review.values\n",
        "labels = df_test.user_suggestion.values\n",
        "\n",
        "input_ids = []\n",
        "attention_masks = []\n",
        "\n",
        "for sent in sentences:\n",
        "    encoded_dict = tokenizer.encode_plus(\n",
        "                        sent,                      \n",
        "                        add_special_tokens = True, \n",
        "                        max_length = 64,          \n",
        "                        pad_to_max_length = True,\n",
        "                        return_attention_mask = True,  \n",
        "                        return_tensors = 'pt',     \n",
        "                   )\n",
        "        \n",
        "    input_ids.append(encoded_dict['input_ids'])\n",
        "    \n",
        "    attention_masks.append(encoded_dict['attention_mask'])\n",
        "\n",
        "input_ids = torch.cat(input_ids, dim=0)\n",
        "attention_masks = torch.cat(attention_masks, dim=0)\n",
        "labels = torch.tensor(labels)\n",
        "  \n",
        "batch_size = 32  \n",
        "\n",
        "prediction_data = TensorDataset(input_ids, attention_masks, labels)\n",
        "prediction_sampler = SequentialSampler(prediction_data)\n",
        "prediction_dataloader = DataLoader(prediction_data, sampler=prediction_sampler, batch_size=batch_size)"
      ],
      "metadata": {
        "colab": {
          "base_uri": "https://localhost:8080/"
        },
        "id": "mQbI-MY9Xd7w",
        "outputId": "52a70202-ff20-4217-f812-dcbb253df69f"
      },
      "execution_count": 75,
      "outputs": [
        {
          "output_type": "stream",
          "name": "stderr",
          "text": [
            "Truncation was not explicitly activated but `max_length` is provided a specific value, please use `truncation=True` to explicitly truncate examples to max length. Defaulting to 'longest_first' truncation strategy. If you encode pairs of sequences (GLUE-style) with the tokenizer you can select this strategy more precisely by providing a specific strategy to `truncation`.\n",
            "/usr/local/lib/python3.10/dist-packages/transformers/tokenization_utils_base.py:2354: FutureWarning: The `pad_to_max_length` argument is deprecated and will be removed in a future version, use `padding=True` or `padding='longest'` to pad to the longest sequence in the batch, or use `padding='max_length'` to pad to a max length. In this case, you can give a specific length with `max_length` (e.g. `max_length=45`) or leave max_length to None to pad to the maximal input size of the model (e.g. 512 for Bert).\n",
            "  warnings.warn(\n"
          ]
        }
      ]
    },
    {
      "cell_type": "code",
      "source": [
        "#Prediction on test set\n",
        "model.eval()\n",
        "predictions , true_labels = [], []\n",
        "\n",
        "for batch in prediction_dataloader:\n",
        "  batch = tuple(t.to(device) for t in batch)\n",
        "  b_input_ids, b_input_mask, b_labels = batch\n",
        "  \n",
        "  #Telling the model not to compute or store gradients, saving memory and \n",
        "  #speeding up prediction\n",
        "  with torch.no_grad():\n",
        "      outputs = model(b_input_ids, token_type_ids=None, \n",
        "                      attention_mask=b_input_mask)\n",
        "  logits = outputs[0]\n",
        "  logits = logits.detach().cpu().numpy()\n",
        "  label_ids = b_labels.to('cpu').numpy()\n",
        "\n",
        "  predictions.append(logits)\n",
        "  true_labels.append(label_ids)\n"
      ],
      "metadata": {
        "id": "sIVfw5CRXhcM"
      },
      "execution_count": 90,
      "outputs": []
    },
    {
      "cell_type": "code",
      "source": [
        "flat_predictions = np.concatenate(predictions, axis=0)\n",
        "\n",
        "flat_predictions = np.argmax(flat_predictions, axis=1).flatten()\n",
        "\n",
        "flat_true_labels = np.concatenate(true_labels, axis=0)"
      ],
      "metadata": {
        "id": "rowJqNeqavKh"
      },
      "execution_count": 91,
      "outputs": []
    },
    {
      "cell_type": "code",
      "source": [
        "print(classification_report(flat_predictions, flat_true_labels))\n"
      ],
      "metadata": {
        "colab": {
          "base_uri": "https://localhost:8080/"
        },
        "id": "p9bu0oIYaR8Z",
        "outputId": "e9fd1f66-e38e-43ee-c713-336e8ec91968"
      },
      "execution_count": 92,
      "outputs": [
        {
          "output_type": "stream",
          "name": "stdout",
          "text": [
            "              precision    recall  f1-score   support\n",
            "\n",
            "           0       0.84      0.85      0.85       507\n",
            "           1       0.91      0.90      0.91       829\n",
            "\n",
            "    accuracy                           0.88      1336\n",
            "   macro avg       0.88      0.88      0.88      1336\n",
            "weighted avg       0.88      0.88      0.88      1336\n",
            "\n"
          ]
        }
      ]
    },
    {
      "cell_type": "code",
      "source": [
        "#Trying to incorporate our Bert Model with Alibi's IntegratedGradients Function.\n",
        "#NOTE: They are incompatible because the IG function is expecting a tf.keras model with an \"inputs\" attribute.\n",
        "#Bert models do not have this attribute and passing in the raw inputs won't work either because it is expecting the model along with its embedding layer.\n",
        "#Therefore, another Integrated Gradient function such as Captum's, which is compatible with bert, needs to be used instead.\n",
        "embedding_layer = model.bert.embeddings\n",
        "model = model.to('cpu')\n",
        "embeddings = embedding_layer(input_ids)\n",
        "\n",
        "n_steps = 50\n",
        "method = \"gausslegendre\"\n",
        "internal_batch_size = 100\n",
        "nb_samples = 10\n",
        "ig  = IntegratedGradients(model,\n",
        "                          layer=embedding_layer,\n",
        "                          n_steps=n_steps,\n",
        "                          method=method,\n",
        "                          internal_batch_size=internal_batch_size)"
      ],
      "metadata": {
        "colab": {
          "base_uri": "https://localhost:8080/",
          "height": 380
        },
        "id": "-3_uiYKubNau",
        "outputId": "ec5daaf0-cbd3-4c31-8c21-b67ad0ab34fb"
      },
      "execution_count": 93,
      "outputs": [
        {
          "output_type": "error",
          "ename": "AttributeError",
          "evalue": "ignored",
          "traceback": [
            "\u001b[0;31m---------------------------------------------------------------------------\u001b[0m",
            "\u001b[0;31mAttributeError\u001b[0m                            Traceback (most recent call last)",
            "\u001b[0;32m<ipython-input-93-ec41d8e495d7>\u001b[0m in \u001b[0;36m<cell line: 13>\u001b[0;34m()\u001b[0m\n\u001b[1;32m     11\u001b[0m \u001b[0minternal_batch_size\u001b[0m \u001b[0;34m=\u001b[0m \u001b[0;36m100\u001b[0m\u001b[0;34m\u001b[0m\u001b[0;34m\u001b[0m\u001b[0m\n\u001b[1;32m     12\u001b[0m \u001b[0mnb_samples\u001b[0m \u001b[0;34m=\u001b[0m \u001b[0;36m10\u001b[0m\u001b[0;34m\u001b[0m\u001b[0;34m\u001b[0m\u001b[0m\n\u001b[0;32m---> 13\u001b[0;31m ig  = IntegratedGradients(model,\n\u001b[0m\u001b[1;32m     14\u001b[0m                           \u001b[0mlayer\u001b[0m\u001b[0;34m=\u001b[0m\u001b[0membedding_layer\u001b[0m\u001b[0;34m,\u001b[0m\u001b[0;34m\u001b[0m\u001b[0;34m\u001b[0m\u001b[0m\n\u001b[1;32m     15\u001b[0m                           \u001b[0mn_steps\u001b[0m\u001b[0;34m=\u001b[0m\u001b[0mn_steps\u001b[0m\u001b[0;34m,\u001b[0m\u001b[0;34m\u001b[0m\u001b[0;34m\u001b[0m\u001b[0m\n",
            "\u001b[0;32m/usr/local/lib/python3.10/dist-packages/alibi/explainers/integrated_gradients.py\u001b[0m in \u001b[0;36m__init__\u001b[0;34m(self, model, layer, target_fn, method, n_steps, internal_batch_size)\u001b[0m\n\u001b[1;32m    837\u001b[0m         \u001b[0mself\u001b[0m\u001b[0;34m.\u001b[0m\u001b[0mmodel\u001b[0m \u001b[0;34m=\u001b[0m \u001b[0mmodel\u001b[0m\u001b[0;34m\u001b[0m\u001b[0;34m\u001b[0m\u001b[0m\n\u001b[1;32m    838\u001b[0m \u001b[0;34m\u001b[0m\u001b[0m\n\u001b[0;32m--> 839\u001b[0;31m         \u001b[0;32mif\u001b[0m \u001b[0mself\u001b[0m\u001b[0;34m.\u001b[0m\u001b[0mmodel\u001b[0m\u001b[0;34m.\u001b[0m\u001b[0minputs\u001b[0m \u001b[0;32mis\u001b[0m \u001b[0;32mNone\u001b[0m\u001b[0;34m:\u001b[0m\u001b[0;34m\u001b[0m\u001b[0;34m\u001b[0m\u001b[0m\n\u001b[0m\u001b[1;32m    840\u001b[0m             \u001b[0mself\u001b[0m\u001b[0;34m.\u001b[0m\u001b[0m_has_inputs\u001b[0m \u001b[0;34m=\u001b[0m \u001b[0;32mFalse\u001b[0m\u001b[0;34m\u001b[0m\u001b[0;34m\u001b[0m\u001b[0m\n\u001b[1;32m    841\u001b[0m         \u001b[0;32melse\u001b[0m\u001b[0;34m:\u001b[0m\u001b[0;34m\u001b[0m\u001b[0;34m\u001b[0m\u001b[0m\n",
            "\u001b[0;32m/usr/local/lib/python3.10/dist-packages/torch/nn/modules/module.py\u001b[0m in \u001b[0;36m__getattr__\u001b[0;34m(self, name)\u001b[0m\n\u001b[1;32m   1612\u001b[0m             \u001b[0;32mif\u001b[0m \u001b[0mname\u001b[0m \u001b[0;32min\u001b[0m \u001b[0mmodules\u001b[0m\u001b[0;34m:\u001b[0m\u001b[0;34m\u001b[0m\u001b[0;34m\u001b[0m\u001b[0m\n\u001b[1;32m   1613\u001b[0m                 \u001b[0;32mreturn\u001b[0m \u001b[0mmodules\u001b[0m\u001b[0;34m[\u001b[0m\u001b[0mname\u001b[0m\u001b[0;34m]\u001b[0m\u001b[0;34m\u001b[0m\u001b[0;34m\u001b[0m\u001b[0m\n\u001b[0;32m-> 1614\u001b[0;31m         raise AttributeError(\"'{}' object has no attribute '{}'\".format(\n\u001b[0m\u001b[1;32m   1615\u001b[0m             type(self).__name__, name))\n\u001b[1;32m   1616\u001b[0m \u001b[0;34m\u001b[0m\u001b[0m\n",
            "\u001b[0;31mAttributeError\u001b[0m: 'BertForSequenceClassification' object has no attribute 'inputs'"
          ]
        }
      ]
    }
  ],
  "metadata": {
    "accelerator": "GPU",
    "colab": {
      "collapsed_sections": [
        "u1sVK1Xmnq9Q",
        "FNUoEl2lolgi",
        "3HSYgQsupE-J"
      ],
      "machine_shape": "hm",
      "provenance": []
    },
    "gpuClass": "standard",
    "kernelspec": {
      "display_name": "Python 3",
      "name": "python3"
    },
    "language_info": {
      "name": "python"
    }
  },
  "nbformat": 4,
  "nbformat_minor": 0
}