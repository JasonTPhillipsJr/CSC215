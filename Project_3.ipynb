{
  "nbformat": 4,
  "nbformat_minor": 0,
  "metadata": {
    "colab": {
      "provenance": [],
      "collapsed_sections": [
        "aYrEHWI9Ncgr"
      ],
      "toc_visible": true
    },
    "kernelspec": {
      "name": "python3",
      "display_name": "Python 3"
    },
    "language_info": {
      "name": "python"
    },
    "accelerator": "GPU",
    "gpuClass": "standard"
  },
  "cells": [
    {
      "cell_type": "markdown",
      "source": [
        "# Import and Define\n",
        "\n",
        "Project 3: Multi-Modal Deep Learning Model for Fake News Detection\n",
        "\n",
        "Authors Jason Phillips and Peeja"
      ],
      "metadata": {
        "id": "aYrEHWI9Ncgr"
      }
    },
    {
      "cell_type": "code",
      "execution_count": null,
      "metadata": {
        "id": "WcA1sXzBMsRl"
      },
      "outputs": [],
      "source": [
        "#from google.colab import drive\n",
        "#drive.mount('/content/drive')"
      ]
    },
    {
      "cell_type": "code",
      "source": [
        "from google.colab import drive\n",
        "drive.mount('/content/drive')"
      ],
      "metadata": {
        "colab": {
          "base_uri": "https://localhost:8080/"
        },
        "id": "GIRyWQw2fVdG",
        "outputId": "94598b14-f2af-4058-9ef9-f64ecad1988b"
      },
      "execution_count": 1,
      "outputs": [
        {
          "output_type": "stream",
          "name": "stdout",
          "text": [
            "Mounted at /content/drive\n"
          ]
        }
      ]
    },
    {
      "cell_type": "code",
      "source": [
        "!pip install tf-explain\n",
        "!pip install --upgrade gensim\n",
        "#!pip install numpy --upgrade"
      ],
      "metadata": {
        "id": "7KP4dRq7NzWS",
        "colab": {
          "base_uri": "https://localhost:8080/"
        },
        "outputId": "21070873-a618-4635-a8bb-fabbee5ec1f3"
      },
      "execution_count": 2,
      "outputs": [
        {
          "output_type": "stream",
          "name": "stdout",
          "text": [
            "Looking in indexes: https://pypi.org/simple, https://us-python.pkg.dev/colab-wheels/public/simple/\n",
            "Collecting tf-explain\n",
            "  Downloading tf_explain-0.3.1-py3-none-any.whl (43 kB)\n",
            "\u001b[2K     \u001b[90m━━━━━━━━━━━━━━━━━━━━━━━━━━━━━━━━━━━━━━━━\u001b[0m \u001b[32m43.6/43.6 KB\u001b[0m \u001b[31m5.6 MB/s\u001b[0m eta \u001b[36m0:00:00\u001b[0m\n",
            "\u001b[?25hInstalling collected packages: tf-explain\n",
            "Successfully installed tf-explain-0.3.1\n",
            "Looking in indexes: https://pypi.org/simple, https://us-python.pkg.dev/colab-wheels/public/simple/\n",
            "Requirement already satisfied: gensim in /usr/local/lib/python3.9/dist-packages (4.3.1)\n",
            "Requirement already satisfied: scipy>=1.7.0 in /usr/local/lib/python3.9/dist-packages (from gensim) (1.10.1)\n",
            "Requirement already satisfied: numpy>=1.18.5 in /usr/local/lib/python3.9/dist-packages (from gensim) (1.22.4)\n",
            "Requirement already satisfied: smart-open>=1.8.1 in /usr/local/lib/python3.9/dist-packages (from gensim) (6.3.0)\n"
          ]
        }
      ]
    },
    {
      "cell_type": "code",
      "source": [
        "#Import and print out the current version of packages.\n",
        "%load_ext tensorboard\n",
        "\n",
        "import tensorflow as tf\n",
        "import tf_explain\n",
        "import numpy as np\n",
        "import matplotlib.pyplot as plt\n",
        "import sys\n",
        "import sklearn as sk\n",
        "import pandas as pd\n",
        "import shutil\n",
        "import os\n",
        "import imblearn\n",
        "import io\n",
        "import requests\n",
        "import datetime\n",
        "\n",
        "from scipy.stats import zscore\n",
        "from scipy import spatial\n",
        "\n",
        "from collections.abc import Sequence\n",
        "from collections import Counter\n",
        "from numpy import where\n",
        "from matplotlib import pyplot\n",
        "\n",
        "from imblearn.over_sampling import SMOTE\n",
        "\n",
        "from sklearn.datasets import make_classification\n",
        "from sklearn.model_selection import train_test_split\n",
        "from sklearn import preprocessing\n",
        "from sklearn.neighbors import KNeighborsClassifier\n",
        "from sklearn.linear_model import LogisticRegression\n",
        "from sklearn.svm import LinearSVC\n",
        "from sklearn import metrics\n",
        "from sklearn.metrics import confusion_matrix, classification_report\n",
        "from sklearn.metrics import roc_curve, auc\n",
        "\n",
        "from tensorflow import keras\n",
        "from tensorflow.keras import layers\n",
        "from tensorflow.keras.layers import Input\n",
        "from tensorflow.keras.layers import Dense\n",
        "from tensorflow.keras.models import Model\n",
        "from tensorflow.keras.utils import plot_model\n",
        "from tensorflow.keras.optimizers import Adam\n",
        "\n",
        "from keras.models import Sequential\n",
        "from keras.layers import Dense, Activation, Dropout, Flatten\n",
        "from keras.layers import Conv2D, MaxPooling2D,LSTM\n",
        "from keras.activations import relu, sigmoid, tanh\n",
        "from keras.callbacks import EarlyStopping\n",
        "from keras.callbacks import ModelCheckpoint\n",
        "from keras import optimizers\n",
        "\n",
        "from gensim.models import Word2Vec\n",
        "from gensim import corpora\n",
        "from gensim.utils import simple_preprocess\n",
        "from nltk.stem.lancaster import LancasterStemmer\n",
        "from nltk.tokenize import RegexpTokenizer\n",
        "\n",
        "# Encode text values to dummy variables(i.e. [1,0,0],[0,1,0],[0,0,1] for red,green,blue)\n",
        "def encode_text_dummy(df, name):\n",
        "    dummies = pd.get_dummies(df[name])\n",
        "    for x in dummies.columns:\n",
        "        dummy_name = \"{}-{}\".format(name, x)\n",
        "        df[dummy_name] = dummies[x]\n",
        "    df.drop(name, axis=1, inplace=True)\n",
        "\n",
        "\n",
        "# Encode text values to indexes(i.e. [1],[2],[3] for red,green,blue).\n",
        "def encode_text_index(df, name):\n",
        "    le = preprocessing.LabelEncoder()\n",
        "    df[name] = le.fit_transform(df[name])\n",
        "    return le.classes_\n",
        "\n",
        "\n",
        "# Encode a numeric column as zscores\n",
        "def encode_numeric_zscore(df, name, mean=None, sd=None):\n",
        "    if mean is None:\n",
        "        mean = df[name].mean()\n",
        "\n",
        "    if sd is None:\n",
        "        sd = df[name].std()\n",
        "\n",
        "    df[name] = (df[name] - mean) / sd\n",
        "\n",
        "\n",
        "# Convert all missing values in the specified column to the median\n",
        "def missing_median(df, name):\n",
        "    med = df[name].median()\n",
        "    df[name] = df[name].fillna(med)\n",
        "\n",
        "\n",
        "# Convert all missing values in the specified column to the default\n",
        "def missing_default(df, name, default_value):\n",
        "    df[name] = df[name].fillna(default_value)\n",
        "\n",
        "\n",
        "# Convert a Pandas dataframe to the x,y inputs that TensorFlow needs\n",
        "def to_xy(df, target):\n",
        "    result = []\n",
        "    for x in df.columns:\n",
        "        if x != target:\n",
        "            result.append(x)\n",
        "    # find out the type of the target column. \n",
        "    target_type = df[target].dtypes\n",
        "    target_type = target_type[0] if isinstance(target_type, Sequence) else target_type\n",
        "    # Encode to int for classification, float otherwise. TensorFlow likes 32 bits.\n",
        "    if target_type in (np.int64, np.int32):\n",
        "        # Classification\n",
        "        dummies = pd.get_dummies(df[target])\n",
        "        return df[result].values.astype(np.float32), dummies.values.astype(np.float32)\n",
        "    else:\n",
        "        # Regression\n",
        "        return df[result].values.astype(np.float32), df[target].values.astype(np.float32)\n",
        "\n",
        "# Nicely formatted time string\n",
        "def hms_string(sec_elapsed):\n",
        "    h = int(sec_elapsed / (60 * 60))\n",
        "    m = int((sec_elapsed % (60 * 60)) / 60)\n",
        "    s = sec_elapsed % 60\n",
        "    return \"{}:{:>02}:{:>05.2f}\".format(h, m, s)\n",
        "\n",
        "\n",
        "# Regression chart.\n",
        "def chart_regression(pred,y,sort=True):\n",
        "    t = pd.DataFrame({'pred' : pred, 'y' : y.flatten()})\n",
        "    if sort:\n",
        "        t.sort_values(by=['y'],inplace=True)\n",
        "    a = plt.plot(t['y'].tolist(),label='expected')\n",
        "    b = plt.plot(t['pred'].tolist(),label='prediction')\n",
        "    plt.ylabel('output')\n",
        "    plt.legend()\n",
        "    plt.show()\n",
        "\n",
        "# Remove all rows where the specified column is +/- sd standard deviations\n",
        "def remove_outliers(df, name, sd):\n",
        "    drop_rows = df.index[(np.abs(df[name] - df[name].mean()) >= (sd * df[name].std()))]\n",
        "    df.drop(drop_rows, axis=0, inplace=True)\n",
        "\n",
        "\n",
        "# Encode a column to a range between normalized_low and normalized_high.\n",
        "def encode_numeric_range(df, name, normalized_low=-1, normalized_high=1,\n",
        "                         data_low=None, data_high=None):\n",
        "    if data_low is None:\n",
        "        data_low = min(df[name])\n",
        "        data_high = max(df[name])\n",
        "\n",
        "    df[name] = ((df[name] - data_low) / (data_high - data_low)) * (normalized_high - normalized_low) + normalized_low\n",
        "\n",
        "# Plot a confusion matrix.\n",
        "# cm is the confusion matrix, names are the names of the classes.\n",
        "def plot_confusion_matrix(cm, names, title='Confusion matrix', cmap=plt.cm.Blues):\n",
        "    plt.imshow(cm, interpolation='nearest', cmap=cmap)\n",
        "    plt.title(title)\n",
        "    plt.colorbar()\n",
        "    tick_marks = np.arange(len(names))\n",
        "    plt.xticks(tick_marks, names, rotation=45)\n",
        "    plt.yticks(tick_marks, names)\n",
        "    plt.tight_layout()\n",
        "    plt.ylabel('True label')\n",
        "    plt.xlabel('Predicted label')\n",
        "    \n",
        "\n",
        "# Plot an ROC. pred - the predictions, y - the expected output.\n",
        "def plot_roc(pred,y):\n",
        "    fpr, tpr, thresholds = roc_curve(y, pred)\n",
        "    roc_auc = auc(fpr, tpr)\n",
        "\n",
        "    plt.figure()\n",
        "    plt.plot(fpr, tpr, label='ROC curve (area = %0.2f)' % roc_auc)\n",
        "    plt.plot([0, 1], [0, 1], 'k--')\n",
        "    plt.xlim([0.0, 1.0])\n",
        "    plt.ylim([0.0, 1.05])\n",
        "    plt.xlabel('False Positive Rate')\n",
        "    plt.ylabel('True Positive Rate')\n",
        "    plt.title('Receiver Operating Characteristic (ROC)')\n",
        "    plt.legend(loc=\"lower right\")\n",
        "    plt.show()\n",
        "\n",
        "def to_sequences(seq_size, data):\n",
        "    x = []\n",
        "    y = []\n",
        "\n",
        "    for i in range(len(data)-SEQUENCE_SIZE-1):\n",
        "        #print(i)\n",
        "        window = data[i:(i+SEQUENCE_SIZE)]\n",
        "        after_window = data[i+SEQUENCE_SIZE]\n",
        "        window = [[x] for x in window]\n",
        "        #print(\"{} - {}\".format(window,after_window))\n",
        "        x.append(window)\n",
        "        y.append(after_window)\n",
        "        \n",
        "    return np.array(x),np.array(y)\n",
        "\n",
        "print('Python {}'.format(sys.version))\n",
        "print('Pandas {}'.format(pd.__version__))\n",
        "print('Numpy {}'.format(np.__version__))\n",
        "print('Scikit-Learn {}'.format(sk.__version__))\n",
        "print()\n",
        "print('Tensor Flow {}'.format(tf.__version__))\n",
        "print('Keras {}'.format(tf.keras.__version__))\n",
        "print('Imblearn {}'.format(imblearn.__version__))\n",
        "\n",
        "#Remove any files in the log folder for tensorboard\n",
        "!rm -rf \"/content/drive/MyDrive/Colab Notebooks/logs/\""
      ],
      "metadata": {
        "id": "2XpJ0os0N56Z",
        "colab": {
          "base_uri": "https://localhost:8080/"
        },
        "outputId": "4d0b8925-a505-44f7-d528-f29349699171"
      },
      "execution_count": 3,
      "outputs": [
        {
          "output_type": "stream",
          "name": "stdout",
          "text": [
            "Python 3.9.16 (main, Dec  7 2022, 01:11:51) \n",
            "[GCC 9.4.0]\n",
            "Pandas 1.4.4\n",
            "Numpy 1.22.4\n",
            "Scikit-Learn 1.2.2\n",
            "\n",
            "Tensor Flow 2.11.0\n",
            "Keras 2.11.0\n",
            "Imblearn 0.10.1\n"
          ]
        }
      ]
    },
    {
      "cell_type": "code",
      "source": [
        "#Define the log folder for tensorboard\n",
        "log_dir = \"/content/drive/MyDrive/Colab Notebooks/logs/\" + datetime.datetime.now().strftime(\"%Y%m%d-%H%M%S\")"
      ],
      "metadata": {
        "id": "2dsLpS6POrjU"
      },
      "execution_count": 4,
      "outputs": []
    },
    {
      "cell_type": "markdown",
      "source": [
        "# Data Preprocessing\n",
        "\n",
        "Import dataset and preprocess it."
      ],
      "metadata": {
        "id": "VwglsWePPJkr"
      }
    },
    {
      "cell_type": "code",
      "source": [
        "\"\"\"import string\n",
        "from pprint import pprint\n",
        "\n",
        "max_sentence_len = 200\n",
        "\n",
        "with open(\"/content/drive/MyDrive/Colab Notebooks/data/devset/tweets.txt\", encoding = 'utf-8') as file_:\n",
        "    docs = file_.readlines()\n",
        "    \n",
        "sentences = [[word for word in doc.lower().translate(str.maketrans('','',string.punctuation)).split()[:max_sentence_len]] for doc in docs]\n",
        "print('Num sentences:', len(sentences))\n",
        "\"\"\""
      ],
      "metadata": {
        "id": "7DvHmU2WQdDI",
        "colab": {
          "base_uri": "https://localhost:8080/"
        },
        "outputId": "759c4ceb-cede-4b84-cd13-ec802f8a35ae"
      },
      "execution_count": null,
      "outputs": [
        {
          "output_type": "stream",
          "name": "stdout",
          "text": [
            "Num sentences: 14484\n"
          ]
        }
      ]
    },
    {
      "cell_type": "code",
      "source": [
        "\"\"\"\n",
        "del sentences[0]\n",
        "\"\"\""
      ],
      "metadata": {
        "id": "_kEJfyDHKX4K"
      },
      "execution_count": null,
      "outputs": []
    },
    {
      "cell_type": "code",
      "source": [
        "#tweets_df = pd.read_csv('/content/drive/MyDrive/Colab Notebooks/data/devset/tweet_features.csv', na_values = ['NA', '?'])\n",
        "#tweets_df"
      ],
      "metadata": {
        "id": "saCbJh8JLB8E"
      },
      "execution_count": null,
      "outputs": []
    },
    {
      "cell_type": "code",
      "source": [
        "\"\"\"\n",
        "i = 0\n",
        "tweets = []\n",
        "imageID = []\n",
        "dropped_rows = []\n",
        "for i in range(len(sentences)):\n",
        "  if(sentences[i][-1] != \"humor\"):\n",
        "    tweets.append(sentences[i][1:-10])\n",
        "    imageID.append(sentences[i][0:-8])\n",
        "  #else:\n",
        "    #tweets_df = tweets_df.drop([i])\n",
        "    \"\"\""
      ],
      "metadata": {
        "id": "K2TubbjMYGOh",
        "colab": {
          "base_uri": "https://localhost:8080/",
          "height": 72
        },
        "outputId": "9936afe4-64a7-43c1-d1a6-b022da19a9b3"
      },
      "execution_count": null,
      "outputs": [
        {
          "output_type": "execute_result",
          "data": {
            "text/plain": [
              "'\\ni = 0\\ntweets = []\\nimageID = []\\ndropped_rows = []\\nfor i in range(len(sentences)):\\n  if(sentences[i][-1] != \"humor\"):\\n    tweets.append(sentences[i][1:-10])\\n    imageID.append(sentences[i][0:-8])\\n  #else:\\n    #tweets_df = tweets_df.drop([i])\\n    '"
            ],
            "application/vnd.google.colaboratory.intrinsic+json": {
              "type": "string"
            }
          },
          "metadata": {},
          "execution_count": 61
        }
      ]
    },
    {
      "cell_type": "code",
      "source": [
        "\"\"\"\n",
        "for i in range(len(imageID)):\n",
        "  if('sandyafake' not in imageID[i]):\n",
        "    print(\"Tweet ID: \", imageID[i][0])\n",
        "    print(imageID[i][-1])\n",
        "#tweets\n",
        "\"\"\""
      ],
      "metadata": {
        "id": "eA2QBrN22BvK"
      },
      "execution_count": null,
      "outputs": []
    },
    {
      "cell_type": "code",
      "source": [
        "#tweets_df"
      ],
      "metadata": {
        "id": "V2yZK6dDvWPi"
      },
      "execution_count": null,
      "outputs": []
    },
    {
      "cell_type": "code",
      "source": [
        "\"\"\"\n",
        "print('Num sentences:', len(sentences))\n",
        "print('Num of sentence without humor:', len(tweets))\n",
        "#sentences[0][1:-11]\n",
        "\"\"\""
      ],
      "metadata": {
        "id": "YXTwuGu-KaN5",
        "colab": {
          "base_uri": "https://localhost:8080/"
        },
        "outputId": "cbeee34c-06fa-405d-9500-cdc159a8e8d6"
      },
      "execution_count": null,
      "outputs": [
        {
          "output_type": "stream",
          "name": "stdout",
          "text": [
            "Num sentences: 14483\n",
            "Num of sentence without humor: 11850\n"
          ]
        }
      ]
    },
    {
      "cell_type": "code",
      "source": [
        "#https://www.youtube.com/watch?v=ZrgVlfNduj8"
      ],
      "metadata": {
        "id": "gdA61AAbcSlk"
      },
      "execution_count": null,
      "outputs": []
    },
    {
      "cell_type": "code",
      "source": [],
      "metadata": {
        "id": "70kS1wNlkQQ9"
      },
      "execution_count": null,
      "outputs": []
    },
    {
      "cell_type": "markdown",
      "source": [
        "#New Processing Text Tweets\n"
      ],
      "metadata": {
        "id": "siX9NF2ohU5H"
      }
    },
    {
      "cell_type": "code",
      "source": [
        "filename_read = open(\"/content/drive/MyDrive/Colab Notebooks/data/devset/tweets.txt\", \"r\")"
      ],
      "metadata": {
        "id": "oOSmIumzhcmX"
      },
      "execution_count": 5,
      "outputs": []
    },
    {
      "cell_type": "code",
      "source": [
        "df = pd.read_csv(filename_read, sep='\\t', header=0)\n",
        "df"
      ],
      "metadata": {
        "id": "jawEoKCiiJM1",
        "colab": {
          "base_uri": "https://localhost:8080/",
          "height": 1000
        },
        "outputId": "1642fe97-480a-47e6-de89-c883729445ed"
      },
      "execution_count": 6,
      "outputs": [
        {
          "output_type": "execute_result",
          "data": {
            "text/plain": [
              "                  tweetId                                          tweetText  \\\n",
              "0      263046056240115712  ¿Se acuerdan de la película: “El día después d...   \n",
              "1      262995061304852481  @milenagimon: Miren a Sandy en NY!  Tremenda i...   \n",
              "2      262979898002534400  Buena la foto del Huracán Sandy, me recuerda a...   \n",
              "3      262996108400271360     Scary shit #hurricane #NY http://t.co/e4JLBUfH   \n",
              "4      263018881839411200  My fave place in the world #nyc #hurricane #sa...   \n",
              "...                   ...                                                ...   \n",
              "14272  443231991593304064  @BobombDom *slaps TweetDeck with the PigFish h...   \n",
              "14273  443086239127076865  New Species of Fish found in Brazil or just Re...   \n",
              "14274  442978105238753280  What do we call this? #pigFISH http: \\/\\/t.co\\...   \n",
              "14275  442753479782989824  Pigfish ? E dopo il pescecane c'è il pesce mai...   \n",
              "14276  442700377860104192  For those who can't decide between fish or mea...   \n",
              "\n",
              "           userId      imageId(s)         username  \\\n",
              "0        21226711  sandyA_fake_46          iAnnieM   \n",
              "1       192378571  sandyA_fake_09   CarlosVerareal   \n",
              "2       132303095  sandyA_fake_09      LucasPalape   \n",
              "3       241995902  sandyA_fake_29      Haaaaarryyy   \n",
              "4       250315890  sandyA_fake_15   princess__natt   \n",
              "...           ...             ...              ...   \n",
              "14272  2179310905      pigFish_01  Da_Vault_Hunter   \n",
              "14273   254843101      pigFish_01   DjSituation_RC   \n",
              "14274  2367553228      pigFish_01        Vivo1Vuyo   \n",
              "14275   603120231      pigFish_01      CosimoTarta   \n",
              "14276    25086784      pigFish_01         johnszim   \n",
              "\n",
              "                              timestamp label  \n",
              "0        Mon Oct 29 22:34:01 +0000 2012  fake  \n",
              "1        Mon Oct 29 19:11:23 +0000 2012  fake  \n",
              "2        Mon Oct 29 18:11:08 +0000 2012  fake  \n",
              "3        Mon Oct 29 19:15:33 +0000 2012  fake  \n",
              "4        Mon Oct 29 20:46:02 +0000 2012  fake  \n",
              "...                                 ...   ...  \n",
              "14272  Tue Mar 11 03: 48: 36 +0000 2014  fake  \n",
              "14273  Mon Mar 10 18: 09: 26 +0000 2014  fake  \n",
              "14274  Mon Mar 10 10: 59: 45 +0000 2014  fake  \n",
              "14275  Sun Mar 09 20: 07: 10 +0000 2014  fake  \n",
              "14276  Sun Mar 09 16: 36: 09 +0000 2014  fake  \n",
              "\n",
              "[14277 rows x 7 columns]"
            ],
            "text/html": [
              "\n",
              "  <div id=\"df-5cf5b576-a788-4fc7-b92b-254b22b88d82\">\n",
              "    <div class=\"colab-df-container\">\n",
              "      <div>\n",
              "<style scoped>\n",
              "    .dataframe tbody tr th:only-of-type {\n",
              "        vertical-align: middle;\n",
              "    }\n",
              "\n",
              "    .dataframe tbody tr th {\n",
              "        vertical-align: top;\n",
              "    }\n",
              "\n",
              "    .dataframe thead th {\n",
              "        text-align: right;\n",
              "    }\n",
              "</style>\n",
              "<table border=\"1\" class=\"dataframe\">\n",
              "  <thead>\n",
              "    <tr style=\"text-align: right;\">\n",
              "      <th></th>\n",
              "      <th>tweetId</th>\n",
              "      <th>tweetText</th>\n",
              "      <th>userId</th>\n",
              "      <th>imageId(s)</th>\n",
              "      <th>username</th>\n",
              "      <th>timestamp</th>\n",
              "      <th>label</th>\n",
              "    </tr>\n",
              "  </thead>\n",
              "  <tbody>\n",
              "    <tr>\n",
              "      <th>0</th>\n",
              "      <td>263046056240115712</td>\n",
              "      <td>¿Se acuerdan de la película: “El día después d...</td>\n",
              "      <td>21226711</td>\n",
              "      <td>sandyA_fake_46</td>\n",
              "      <td>iAnnieM</td>\n",
              "      <td>Mon Oct 29 22:34:01 +0000 2012</td>\n",
              "      <td>fake</td>\n",
              "    </tr>\n",
              "    <tr>\n",
              "      <th>1</th>\n",
              "      <td>262995061304852481</td>\n",
              "      <td>@milenagimon: Miren a Sandy en NY!  Tremenda i...</td>\n",
              "      <td>192378571</td>\n",
              "      <td>sandyA_fake_09</td>\n",
              "      <td>CarlosVerareal</td>\n",
              "      <td>Mon Oct 29 19:11:23 +0000 2012</td>\n",
              "      <td>fake</td>\n",
              "    </tr>\n",
              "    <tr>\n",
              "      <th>2</th>\n",
              "      <td>262979898002534400</td>\n",
              "      <td>Buena la foto del Huracán Sandy, me recuerda a...</td>\n",
              "      <td>132303095</td>\n",
              "      <td>sandyA_fake_09</td>\n",
              "      <td>LucasPalape</td>\n",
              "      <td>Mon Oct 29 18:11:08 +0000 2012</td>\n",
              "      <td>fake</td>\n",
              "    </tr>\n",
              "    <tr>\n",
              "      <th>3</th>\n",
              "      <td>262996108400271360</td>\n",
              "      <td>Scary shit #hurricane #NY http://t.co/e4JLBUfH</td>\n",
              "      <td>241995902</td>\n",
              "      <td>sandyA_fake_29</td>\n",
              "      <td>Haaaaarryyy</td>\n",
              "      <td>Mon Oct 29 19:15:33 +0000 2012</td>\n",
              "      <td>fake</td>\n",
              "    </tr>\n",
              "    <tr>\n",
              "      <th>4</th>\n",
              "      <td>263018881839411200</td>\n",
              "      <td>My fave place in the world #nyc #hurricane #sa...</td>\n",
              "      <td>250315890</td>\n",
              "      <td>sandyA_fake_15</td>\n",
              "      <td>princess__natt</td>\n",
              "      <td>Mon Oct 29 20:46:02 +0000 2012</td>\n",
              "      <td>fake</td>\n",
              "    </tr>\n",
              "    <tr>\n",
              "      <th>...</th>\n",
              "      <td>...</td>\n",
              "      <td>...</td>\n",
              "      <td>...</td>\n",
              "      <td>...</td>\n",
              "      <td>...</td>\n",
              "      <td>...</td>\n",
              "      <td>...</td>\n",
              "    </tr>\n",
              "    <tr>\n",
              "      <th>14272</th>\n",
              "      <td>443231991593304064</td>\n",
              "      <td>@BobombDom *slaps TweetDeck with the PigFish h...</td>\n",
              "      <td>2179310905</td>\n",
              "      <td>pigFish_01</td>\n",
              "      <td>Da_Vault_Hunter</td>\n",
              "      <td>Tue Mar 11 03: 48: 36 +0000 2014</td>\n",
              "      <td>fake</td>\n",
              "    </tr>\n",
              "    <tr>\n",
              "      <th>14273</th>\n",
              "      <td>443086239127076865</td>\n",
              "      <td>New Species of Fish found in Brazil or just Re...</td>\n",
              "      <td>254843101</td>\n",
              "      <td>pigFish_01</td>\n",
              "      <td>DjSituation_RC</td>\n",
              "      <td>Mon Mar 10 18: 09: 26 +0000 2014</td>\n",
              "      <td>fake</td>\n",
              "    </tr>\n",
              "    <tr>\n",
              "      <th>14274</th>\n",
              "      <td>442978105238753280</td>\n",
              "      <td>What do we call this? #pigFISH http: \\/\\/t.co\\...</td>\n",
              "      <td>2367553228</td>\n",
              "      <td>pigFish_01</td>\n",
              "      <td>Vivo1Vuyo</td>\n",
              "      <td>Mon Mar 10 10: 59: 45 +0000 2014</td>\n",
              "      <td>fake</td>\n",
              "    </tr>\n",
              "    <tr>\n",
              "      <th>14275</th>\n",
              "      <td>442753479782989824</td>\n",
              "      <td>Pigfish ? E dopo il pescecane c'è il pesce mai...</td>\n",
              "      <td>603120231</td>\n",
              "      <td>pigFish_01</td>\n",
              "      <td>CosimoTarta</td>\n",
              "      <td>Sun Mar 09 20: 07: 10 +0000 2014</td>\n",
              "      <td>fake</td>\n",
              "    </tr>\n",
              "    <tr>\n",
              "      <th>14276</th>\n",
              "      <td>442700377860104192</td>\n",
              "      <td>For those who can't decide between fish or mea...</td>\n",
              "      <td>25086784</td>\n",
              "      <td>pigFish_01</td>\n",
              "      <td>johnszim</td>\n",
              "      <td>Sun Mar 09 16: 36: 09 +0000 2014</td>\n",
              "      <td>fake</td>\n",
              "    </tr>\n",
              "  </tbody>\n",
              "</table>\n",
              "<p>14277 rows × 7 columns</p>\n",
              "</div>\n",
              "      <button class=\"colab-df-convert\" onclick=\"convertToInteractive('df-5cf5b576-a788-4fc7-b92b-254b22b88d82')\"\n",
              "              title=\"Convert this dataframe to an interactive table.\"\n",
              "              style=\"display:none;\">\n",
              "        \n",
              "  <svg xmlns=\"http://www.w3.org/2000/svg\" height=\"24px\"viewBox=\"0 0 24 24\"\n",
              "       width=\"24px\">\n",
              "    <path d=\"M0 0h24v24H0V0z\" fill=\"none\"/>\n",
              "    <path d=\"M18.56 5.44l.94 2.06.94-2.06 2.06-.94-2.06-.94-.94-2.06-.94 2.06-2.06.94zm-11 1L8.5 8.5l.94-2.06 2.06-.94-2.06-.94L8.5 2.5l-.94 2.06-2.06.94zm10 10l.94 2.06.94-2.06 2.06-.94-2.06-.94-.94-2.06-.94 2.06-2.06.94z\"/><path d=\"M17.41 7.96l-1.37-1.37c-.4-.4-.92-.59-1.43-.59-.52 0-1.04.2-1.43.59L10.3 9.45l-7.72 7.72c-.78.78-.78 2.05 0 2.83L4 21.41c.39.39.9.59 1.41.59.51 0 1.02-.2 1.41-.59l7.78-7.78 2.81-2.81c.8-.78.8-2.07 0-2.86zM5.41 20L4 18.59l7.72-7.72 1.47 1.35L5.41 20z\"/>\n",
              "  </svg>\n",
              "      </button>\n",
              "      \n",
              "  <style>\n",
              "    .colab-df-container {\n",
              "      display:flex;\n",
              "      flex-wrap:wrap;\n",
              "      gap: 12px;\n",
              "    }\n",
              "\n",
              "    .colab-df-convert {\n",
              "      background-color: #E8F0FE;\n",
              "      border: none;\n",
              "      border-radius: 50%;\n",
              "      cursor: pointer;\n",
              "      display: none;\n",
              "      fill: #1967D2;\n",
              "      height: 32px;\n",
              "      padding: 0 0 0 0;\n",
              "      width: 32px;\n",
              "    }\n",
              "\n",
              "    .colab-df-convert:hover {\n",
              "      background-color: #E2EBFA;\n",
              "      box-shadow: 0px 1px 2px rgba(60, 64, 67, 0.3), 0px 1px 3px 1px rgba(60, 64, 67, 0.15);\n",
              "      fill: #174EA6;\n",
              "    }\n",
              "\n",
              "    [theme=dark] .colab-df-convert {\n",
              "      background-color: #3B4455;\n",
              "      fill: #D2E3FC;\n",
              "    }\n",
              "\n",
              "    [theme=dark] .colab-df-convert:hover {\n",
              "      background-color: #434B5C;\n",
              "      box-shadow: 0px 1px 3px 1px rgba(0, 0, 0, 0.15);\n",
              "      filter: drop-shadow(0px 1px 2px rgba(0, 0, 0, 0.3));\n",
              "      fill: #FFFFFF;\n",
              "    }\n",
              "  </style>\n",
              "\n",
              "      <script>\n",
              "        const buttonEl =\n",
              "          document.querySelector('#df-5cf5b576-a788-4fc7-b92b-254b22b88d82 button.colab-df-convert');\n",
              "        buttonEl.style.display =\n",
              "          google.colab.kernel.accessAllowed ? 'block' : 'none';\n",
              "\n",
              "        async function convertToInteractive(key) {\n",
              "          const element = document.querySelector('#df-5cf5b576-a788-4fc7-b92b-254b22b88d82');\n",
              "          const dataTable =\n",
              "            await google.colab.kernel.invokeFunction('convertToInteractive',\n",
              "                                                     [key], {});\n",
              "          if (!dataTable) return;\n",
              "\n",
              "          const docLinkHtml = 'Like what you see? Visit the ' +\n",
              "            '<a target=\"_blank\" href=https://colab.research.google.com/notebooks/data_table.ipynb>data table notebook</a>'\n",
              "            + ' to learn more about interactive tables.';\n",
              "          element.innerHTML = '';\n",
              "          dataTable['output_type'] = 'display_data';\n",
              "          await google.colab.output.renderOutput(dataTable, element);\n",
              "          const docLink = document.createElement('div');\n",
              "          docLink.innerHTML = docLinkHtml;\n",
              "          element.appendChild(docLink);\n",
              "        }\n",
              "      </script>\n",
              "    </div>\n",
              "  </div>\n",
              "  "
            ]
          },
          "metadata": {},
          "execution_count": 6
        }
      ]
    },
    {
      "cell_type": "code",
      "source": [
        "df.to_csv(\"tweet_dataframe.csv\", index=False)"
      ],
      "metadata": {
        "id": "q3_Nq1hCi37O"
      },
      "execution_count": 7,
      "outputs": []
    },
    {
      "cell_type": "code",
      "source": [
        "df.shape"
      ],
      "metadata": {
        "colab": {
          "base_uri": "https://localhost:8080/"
        },
        "id": "lSawBtdbi6Da",
        "outputId": "fc9f4305-2548-4745-de08-1ad6521ce670"
      },
      "execution_count": 8,
      "outputs": [
        {
          "output_type": "execute_result",
          "data": {
            "text/plain": [
              "(14277, 7)"
            ]
          },
          "metadata": {},
          "execution_count": 8
        }
      ]
    },
    {
      "cell_type": "code",
      "source": [
        "df = df.drop_duplicates(subset=[\"tweetText\"])"
      ],
      "metadata": {
        "id": "fUVHNSPui_Dy"
      },
      "execution_count": 9,
      "outputs": []
    },
    {
      "cell_type": "code",
      "source": [
        "df.shape"
      ],
      "metadata": {
        "colab": {
          "base_uri": "https://localhost:8080/"
        },
        "id": "-6VhIgTMjBQF",
        "outputId": "cd44fb12-1224-4028-d955-887efeec22d5"
      },
      "execution_count": 10,
      "outputs": [
        {
          "output_type": "execute_result",
          "data": {
            "text/plain": [
              "(12376, 7)"
            ]
          },
          "metadata": {},
          "execution_count": 10
        }
      ]
    },
    {
      "cell_type": "code",
      "source": [
        "df = df[df[\"label\"] != \"humor\"]"
      ],
      "metadata": {
        "id": "nGBQjpTljGGS"
      },
      "execution_count": 11,
      "outputs": []
    },
    {
      "cell_type": "code",
      "source": [
        "df.shape"
      ],
      "metadata": {
        "colab": {
          "base_uri": "https://localhost:8080/"
        },
        "id": "hyG5pWcajI3O",
        "outputId": "a7c36f9d-055b-43ba-ad0f-5ef86cac1cdd"
      },
      "execution_count": 12,
      "outputs": [
        {
          "output_type": "execute_result",
          "data": {
            "text/plain": [
              "(9986, 7)"
            ]
          },
          "metadata": {},
          "execution_count": 12
        }
      ]
    },
    {
      "cell_type": "code",
      "source": [
        "df = df[df[\"imageId(s)\"] != \"\"]"
      ],
      "metadata": {
        "id": "2qzpH5jyjK2k"
      },
      "execution_count": 13,
      "outputs": []
    },
    {
      "cell_type": "code",
      "source": [
        "df.shape"
      ],
      "metadata": {
        "colab": {
          "base_uri": "https://localhost:8080/"
        },
        "id": "UqIu3gEZjMIu",
        "outputId": "712d864c-1680-4678-a3f7-124d4c2749ed"
      },
      "execution_count": 14,
      "outputs": [
        {
          "output_type": "execute_result",
          "data": {
            "text/plain": [
              "(9986, 7)"
            ]
          },
          "metadata": {},
          "execution_count": 14
        }
      ]
    },
    {
      "cell_type": "code",
      "source": [
        "df[df[\"imageId(s)\"] == \"passport_01\"] "
      ],
      "metadata": {
        "colab": {
          "base_uri": "https://localhost:8080/",
          "height": 260
        },
        "id": "DIKQWx6HjOaM",
        "outputId": "5da8d6e1-69bd-485d-d7a9-1dd1385cc724"
      },
      "execution_count": 15,
      "outputs": [
        {
          "output_type": "execute_result",
          "data": {
            "text/plain": [
              "                  tweetId                                          tweetText  \\\n",
              "13204  476036494574895104  Just a reminder to all toddler dads. Don't lea...   \n",
              "13213  473512620495212544  Oh ... RT @DailyMirror: Dad  stranded after hi...   \n",
              "\n",
              "          userId   imageId(s)       username                       timestamp  \\\n",
              "13204  137950763  passport_01  toarjunmenonk  Mon Jun 09 16:21:59 +0000 2014   \n",
              "13213   20449115  passport_01         Sweder  Mon Jun 02 17:13:00 +0000 2014   \n",
              "\n",
              "      label  \n",
              "13204  fake  \n",
              "13213  fake  "
            ],
            "text/html": [
              "\n",
              "  <div id=\"df-61d5a5cf-d96b-4a1a-a265-e510053a2f17\">\n",
              "    <div class=\"colab-df-container\">\n",
              "      <div>\n",
              "<style scoped>\n",
              "    .dataframe tbody tr th:only-of-type {\n",
              "        vertical-align: middle;\n",
              "    }\n",
              "\n",
              "    .dataframe tbody tr th {\n",
              "        vertical-align: top;\n",
              "    }\n",
              "\n",
              "    .dataframe thead th {\n",
              "        text-align: right;\n",
              "    }\n",
              "</style>\n",
              "<table border=\"1\" class=\"dataframe\">\n",
              "  <thead>\n",
              "    <tr style=\"text-align: right;\">\n",
              "      <th></th>\n",
              "      <th>tweetId</th>\n",
              "      <th>tweetText</th>\n",
              "      <th>userId</th>\n",
              "      <th>imageId(s)</th>\n",
              "      <th>username</th>\n",
              "      <th>timestamp</th>\n",
              "      <th>label</th>\n",
              "    </tr>\n",
              "  </thead>\n",
              "  <tbody>\n",
              "    <tr>\n",
              "      <th>13204</th>\n",
              "      <td>476036494574895104</td>\n",
              "      <td>Just a reminder to all toddler dads. Don't lea...</td>\n",
              "      <td>137950763</td>\n",
              "      <td>passport_01</td>\n",
              "      <td>toarjunmenonk</td>\n",
              "      <td>Mon Jun 09 16:21:59 +0000 2014</td>\n",
              "      <td>fake</td>\n",
              "    </tr>\n",
              "    <tr>\n",
              "      <th>13213</th>\n",
              "      <td>473512620495212544</td>\n",
              "      <td>Oh ... RT @DailyMirror: Dad  stranded after hi...</td>\n",
              "      <td>20449115</td>\n",
              "      <td>passport_01</td>\n",
              "      <td>Sweder</td>\n",
              "      <td>Mon Jun 02 17:13:00 +0000 2014</td>\n",
              "      <td>fake</td>\n",
              "    </tr>\n",
              "  </tbody>\n",
              "</table>\n",
              "</div>\n",
              "      <button class=\"colab-df-convert\" onclick=\"convertToInteractive('df-61d5a5cf-d96b-4a1a-a265-e510053a2f17')\"\n",
              "              title=\"Convert this dataframe to an interactive table.\"\n",
              "              style=\"display:none;\">\n",
              "        \n",
              "  <svg xmlns=\"http://www.w3.org/2000/svg\" height=\"24px\"viewBox=\"0 0 24 24\"\n",
              "       width=\"24px\">\n",
              "    <path d=\"M0 0h24v24H0V0z\" fill=\"none\"/>\n",
              "    <path d=\"M18.56 5.44l.94 2.06.94-2.06 2.06-.94-2.06-.94-.94-2.06-.94 2.06-2.06.94zm-11 1L8.5 8.5l.94-2.06 2.06-.94-2.06-.94L8.5 2.5l-.94 2.06-2.06.94zm10 10l.94 2.06.94-2.06 2.06-.94-2.06-.94-.94-2.06-.94 2.06-2.06.94z\"/><path d=\"M17.41 7.96l-1.37-1.37c-.4-.4-.92-.59-1.43-.59-.52 0-1.04.2-1.43.59L10.3 9.45l-7.72 7.72c-.78.78-.78 2.05 0 2.83L4 21.41c.39.39.9.59 1.41.59.51 0 1.02-.2 1.41-.59l7.78-7.78 2.81-2.81c.8-.78.8-2.07 0-2.86zM5.41 20L4 18.59l7.72-7.72 1.47 1.35L5.41 20z\"/>\n",
              "  </svg>\n",
              "      </button>\n",
              "      \n",
              "  <style>\n",
              "    .colab-df-container {\n",
              "      display:flex;\n",
              "      flex-wrap:wrap;\n",
              "      gap: 12px;\n",
              "    }\n",
              "\n",
              "    .colab-df-convert {\n",
              "      background-color: #E8F0FE;\n",
              "      border: none;\n",
              "      border-radius: 50%;\n",
              "      cursor: pointer;\n",
              "      display: none;\n",
              "      fill: #1967D2;\n",
              "      height: 32px;\n",
              "      padding: 0 0 0 0;\n",
              "      width: 32px;\n",
              "    }\n",
              "\n",
              "    .colab-df-convert:hover {\n",
              "      background-color: #E2EBFA;\n",
              "      box-shadow: 0px 1px 2px rgba(60, 64, 67, 0.3), 0px 1px 3px 1px rgba(60, 64, 67, 0.15);\n",
              "      fill: #174EA6;\n",
              "    }\n",
              "\n",
              "    [theme=dark] .colab-df-convert {\n",
              "      background-color: #3B4455;\n",
              "      fill: #D2E3FC;\n",
              "    }\n",
              "\n",
              "    [theme=dark] .colab-df-convert:hover {\n",
              "      background-color: #434B5C;\n",
              "      box-shadow: 0px 1px 3px 1px rgba(0, 0, 0, 0.15);\n",
              "      filter: drop-shadow(0px 1px 2px rgba(0, 0, 0, 0.3));\n",
              "      fill: #FFFFFF;\n",
              "    }\n",
              "  </style>\n",
              "\n",
              "      <script>\n",
              "        const buttonEl =\n",
              "          document.querySelector('#df-61d5a5cf-d96b-4a1a-a265-e510053a2f17 button.colab-df-convert');\n",
              "        buttonEl.style.display =\n",
              "          google.colab.kernel.accessAllowed ? 'block' : 'none';\n",
              "\n",
              "        async function convertToInteractive(key) {\n",
              "          const element = document.querySelector('#df-61d5a5cf-d96b-4a1a-a265-e510053a2f17');\n",
              "          const dataTable =\n",
              "            await google.colab.kernel.invokeFunction('convertToInteractive',\n",
              "                                                     [key], {});\n",
              "          if (!dataTable) return;\n",
              "\n",
              "          const docLinkHtml = 'Like what you see? Visit the ' +\n",
              "            '<a target=\"_blank\" href=https://colab.research.google.com/notebooks/data_table.ipynb>data table notebook</a>'\n",
              "            + ' to learn more about interactive tables.';\n",
              "          element.innerHTML = '';\n",
              "          dataTable['output_type'] = 'display_data';\n",
              "          await google.colab.output.renderOutput(dataTable, element);\n",
              "          const docLink = document.createElement('div');\n",
              "          docLink.innerHTML = docLinkHtml;\n",
              "          element.appendChild(docLink);\n",
              "        }\n",
              "      </script>\n",
              "    </div>\n",
              "  </div>\n",
              "  "
            ]
          },
          "metadata": {},
          "execution_count": 15
        }
      ]
    },
    {
      "cell_type": "code",
      "source": [
        "tkr = RegexpTokenizer('[a-zA-Z]+')"
      ],
      "metadata": {
        "id": "919A7EuYkRnm"
      },
      "execution_count": 16,
      "outputs": []
    },
    {
      "cell_type": "code",
      "source": [
        "df['tokenized'] = df['tweetText'].apply(lambda row: [t.lower() for t in tkr.tokenize(row)])"
      ],
      "metadata": {
        "id": "jWQzCjQTkVbQ"
      },
      "execution_count": 17,
      "outputs": []
    },
    {
      "cell_type": "code",
      "source": [
        "df['tokenized']"
      ],
      "metadata": {
        "colab": {
          "base_uri": "https://localhost:8080/"
        },
        "id": "OyY4uKzike_4",
        "outputId": "dca61340-253c-435e-bc52-b1847bfd7dbb"
      },
      "execution_count": 18,
      "outputs": [
        {
          "output_type": "execute_result",
          "data": {
            "text/plain": [
              "0        [se, acuerdan, de, la, pel, cula, el, d, a, de...\n",
              "1        [milenagimon, miren, a, sandy, en, ny, tremend...\n",
              "2        [buena, la, foto, del, hurac, n, sandy, me, re...\n",
              "3        [scary, shit, hurricane, ny, http, t, co, e, j...\n",
              "4        [my, fave, place, in, the, world, nyc, hurrica...\n",
              "                               ...                        \n",
              "14272    [bobombdom, slaps, tweetdeck, with, the, pigfi...\n",
              "14273    [new, species, of, fish, found, in, brazil, or...\n",
              "14274    [what, do, we, call, this, pigfish, http, t, c...\n",
              "14275    [pigfish, e, dopo, il, pescecane, c, il, pesce...\n",
              "14276    [for, those, who, can, t, decide, between, fis...\n",
              "Name: tokenized, Length: 9986, dtype: object"
            ]
          },
          "metadata": {},
          "execution_count": 18
        }
      ]
    },
    {
      "cell_type": "code",
      "source": [
        "tweets = df['tokenized']\n",
        "print(tweets[0])"
      ],
      "metadata": {
        "colab": {
          "base_uri": "https://localhost:8080/"
        },
        "id": "laKKi9hpkhKc",
        "outputId": "c9166f11-629f-4c96-ea57-729f59f6ff2d"
      },
      "execution_count": 19,
      "outputs": [
        {
          "output_type": "stream",
          "name": "stdout",
          "text": [
            "['se', 'acuerdan', 'de', 'la', 'pel', 'cula', 'el', 'd', 'a', 'despu', 's', 'de', 'ma', 'ana', 'me', 'recuerda', 'a', 'lo', 'que', 'est', 'pasando', 'con', 'el', 'hurac', 'n', 'sandy', 'http', 't', 'co', 'jqqerpwn']\n"
          ]
        }
      ]
    },
    {
      "cell_type": "markdown",
      "source": [
        "#Word2Vec\n",
        "\n",
        "Training our model"
      ],
      "metadata": {
        "id": "_D945svjlEsV"
      }
    },
    {
      "cell_type": "code",
      "source": [
        "print('\\nTraining word2vec...')\n",
        "word_model = Word2Vec(tweets, vector_size=300, min_count=5, sg=1, window=5, epochs=100)\n",
        "\n",
        "pretrained_weights = word_model.wv.vectors\n",
        "\n",
        "vocab_size, emdedding_size = pretrained_weights.shape"
      ],
      "metadata": {
        "colab": {
          "base_uri": "https://localhost:8080/"
        },
        "id": "eHYHPpvwltnz",
        "outputId": "defc5a2c-e202-4cfc-8a1f-9db50dba48c7"
      },
      "execution_count": 20,
      "outputs": [
        {
          "output_type": "stream",
          "name": "stdout",
          "text": [
            "\n",
            "Training word2vec...\n"
          ]
        }
      ]
    },
    {
      "cell_type": "code",
      "source": [
        "word_model.save('word2vec_model_scratch')"
      ],
      "metadata": {
        "id": "hQQPHbz2rVtU"
      },
      "execution_count": 21,
      "outputs": []
    },
    {
      "cell_type": "code",
      "source": [
        "word_model = Word2Vec.load('word2vec_model_scratch')"
      ],
      "metadata": {
        "id": "xSAZqFZwrYqw"
      },
      "execution_count": 22,
      "outputs": []
    },
    {
      "cell_type": "code",
      "source": [
        "word_model.wv.similar_by_word('boston')"
      ],
      "metadata": {
        "colab": {
          "base_uri": "https://localhost:8080/"
        },
        "id": "NxIBZRlIrcq2",
        "outputId": "358abd05-18dc-45f0-be5b-322d9a271e91"
      },
      "execution_count": 29,
      "outputs": [
        {
          "output_type": "execute_result",
          "data": {
            "text/plain": [
              "[('suspect', 0.6586228609085083),\n",
              " ('bombing', 0.6106695532798767),\n",
              " ('marathon', 0.5303793549537659),\n",
              " ('bombings', 0.48264873027801514),\n",
              " ('bomber', 0.4716378152370453),\n",
              " ('zoom', 0.46676182746887207),\n",
              " ('suspects', 0.4617871642112732),\n",
              " ('fbi', 0.4606752097606659),\n",
              " ('releases', 0.4578503966331482),\n",
              " ('chan', 0.4196198284626007)]"
            ]
          },
          "metadata": {},
          "execution_count": 29
        }
      ]
    },
    {
      "cell_type": "code",
      "source": [
        "word_model.wv.most_similar(positive=['sandy', 'boston'])"
      ],
      "metadata": {
        "colab": {
          "base_uri": "https://localhost:8080/"
        },
        "id": "i17b1dutr1Hn",
        "outputId": "04275dfe-d209-4df6-9d94-ad6d117d7842"
      },
      "execution_count": 54,
      "outputs": [
        {
          "output_type": "execute_result",
          "data": {
            "text/plain": [
              "[('suspect', 0.4638027846813202),\n",
              " ('bombing', 0.4583887755870819),\n",
              " ('marathon', 0.40353822708129883),\n",
              " ('releases', 0.3772198557853699),\n",
              " ('zoom', 0.36627405881881714),\n",
              " ('fbi', 0.36627405881881714),\n",
              " ('bomber', 0.35868823528289795),\n",
              " ('colando', 0.3574151396751404),\n",
              " ('bombings', 0.3557000160217285),\n",
              " ('multitud', 0.34238043427467346)]"
            ]
          },
          "metadata": {},
          "execution_count": 54
        }
      ]
    },
    {
      "cell_type": "code",
      "source": [
        "from sklearn.manifold import TSNE\n",
        "\n",
        "\n",
        "def display_closestwords_tsnescatterplot(model, word):\n",
        "    \n",
        "    arr = np.empty((0,300), dtype='f')\n",
        "    word_labels = [word]\n",
        "\n",
        "    # get close words\n",
        "    close_words = model.wv.similar_by_word(word)\n",
        "    \n",
        "    # add the vector for each of the closest words to the array\n",
        "    arr = np.append(arr, np.array([model.wv[word]]), axis=0)\n",
        "    for wrd_score in close_words:\n",
        "        wrd_vector = model.wv[wrd_score[0]]\n",
        "        word_labels.append(wrd_score[0])\n",
        "        arr = np.append(arr, np.array([wrd_vector]), axis=0)\n",
        "        \n",
        "    # find tsne coords for 2 dimensions\n",
        "    tsne = TSNE(n_components=2, perplexity= 10, random_state=0)\n",
        "    np.set_printoptions(suppress=True)\n",
        "    Y = tsne.fit_transform(arr)\n",
        "\n",
        "    x_coords = Y[:, 0]\n",
        "    y_coords = Y[:, 1]\n",
        "    # display scatter plot\n",
        "    plt.scatter(x_coords, y_coords)\n",
        "\n",
        "    for label, x, y in zip(word_labels, x_coords, y_coords):\n",
        "        plt.annotate(label, xy=(x, y), xytext=(0, 0), textcoords='offset points')\n",
        "    plt.xlim(x_coords.min()+0.00005, x_coords.max()+0.00005)\n",
        "    plt.ylim(y_coords.min()+0.00005, y_coords.max()+0.00005)\n",
        "    plt.show()"
      ],
      "metadata": {
        "id": "gs87LgAAr_SH"
      },
      "execution_count": 69,
      "outputs": []
    },
    {
      "cell_type": "code",
      "source": [],
      "metadata": {
        "id": "ai7-bWErt-IK"
      },
      "execution_count": null,
      "outputs": []
    },
    {
      "cell_type": "code",
      "source": [
        "display_closestwords_tsnescatterplot(word_model,'boston')   "
      ],
      "metadata": {
        "colab": {
          "base_uri": "https://localhost:8080/",
          "height": 273
        },
        "id": "J_r2dvBOsEzS",
        "outputId": "5bbfb0a4-93ce-4bbb-e33b-c4c9b73e2610"
      },
      "execution_count": 71,
      "outputs": [
        {
          "output_type": "display_data",
          "data": {
            "text/plain": [
              "<Figure size 432x288 with 1 Axes>"
            ],
            "image/png": "[encoded data removed]"
          },
          "metadata": {
            "needs_background": "light"
          }
        }
      ]
    },
    {
      "cell_type": "markdown",
      "source": [
        "# Word2Vec Transfer Learning\n",
        "\n",
        "Training google's model"
      ],
      "metadata": {
        "id": "mg6-1g2yvVGb"
      }
    },
    {
      "cell_type": "code",
      "source": [
        "from gensim.models import KeyedVectors\n",
        "filename = \"/content/drive/MyDrive/Colab Notebooks/data/GoogleNews-vectors-negative300.bin.gz\"\n",
        "model2 = KeyedVectors.load_word2vec_format(filename, binary=True)"
      ],
      "metadata": {
        "id": "PChRGH3zvdYt"
      },
      "execution_count": 72,
      "outputs": []
    },
    {
      "cell_type": "code",
      "source": [
        "model2.most_similar(positive=['boston'], topn=10)"
      ],
      "metadata": {
        "colab": {
          "base_uri": "https://localhost:8080/"
        },
        "id": "j27Ip0KS1mRl",
        "outputId": "2fcd864d-97f4-4850-e32e-e042ed73eaee"
      },
      "execution_count": 73,
      "outputs": [
        {
          "output_type": "execute_result",
          "data": {
            "text/plain": [
              "[('baltimore', 0.6731643676757812),\n",
              " ('denver', 0.6526027917861938),\n",
              " ('nyc', 0.6515336036682129),\n",
              " ('cleveland', 0.6461560726165771),\n",
              " ('oakland', 0.6356480717658997),\n",
              " ('seattle', 0.621021568775177),\n",
              " ('chicago', 0.6184597015380859),\n",
              " ('detroit', 0.6172025799751282),\n",
              " ('minneapolis', 0.6117672324180603),\n",
              " ('toronto', 0.6114994883537292)]"
            ]
          },
          "metadata": {},
          "execution_count": 73
        }
      ]
    },
    {
      "cell_type": "code",
      "source": [
        "model2.most_similar(negative=['boston'], topn=10)"
      ],
      "metadata": {
        "colab": {
          "base_uri": "https://localhost:8080/"
        },
        "id": "o4DO4NeL1tIw",
        "outputId": "221be7bf-bdc4-4054-a1b2-f01ccfbdf24f"
      },
      "execution_count": 74,
      "outputs": [
        {
          "output_type": "execute_result",
          "data": {
            "text/plain": [
              "[('Robert_Arsiaga', 0.245956689119339),\n",
              " ('McCl_NPR', 0.2343364953994751),\n",
              " ('Seven_Per_Cent', 0.229800745844841),\n",
              " ('Organization_WHO', 0.22772109508514404),\n",
              " ('Horticultural_Exporters', 0.22644758224487305),\n",
              " ('Cardio_thoracic_Surgery', 0.22616052627563477),\n",
              " ('Jaris_Judd_sophomore', 0.22385360300540924),\n",
              " ('TISHOMINGO_Okla.', 0.2233773022890091),\n",
              " ('Company_NROCC', 0.22328844666481018),\n",
              " ('Wholesale_Grocers', 0.22281822562217712)]"
            ]
          },
          "metadata": {},
          "execution_count": 74
        }
      ]
    },
    {
      "cell_type": "code",
      "source": [
        "# size option needs to be set to 300 to be the same as Google's pre-trained model \n",
        "word2vec_model = Word2Vec(vector_size=300, min_count=5, sg=1, window=5, epochs=300)\n",
        "\n",
        "\n",
        "word2vec_model.build_vocab(tweets)\n",
        "\n",
        "word2vec_model.wv.vectors_lockf = np.ones(len(word2vec_model.wv))\n",
        "\n",
        "\n",
        "# assign the vectors to the vocabs that are in Google's pre-trained model and your sentences defined above.\n",
        "# lockf needs to be set to 1.0 to allow continued training.\n",
        "word2vec_model.wv.intersect_word2vec_format('/content/drive/MyDrive/Colab Notebooks/data/GoogleNews-vectors-negative300.bin.gz', lockf=1.0, binary=True)"
      ],
      "metadata": {
        "id": "c9junQgc1zPv"
      },
      "execution_count": 78,
      "outputs": []
    },
    {
      "cell_type": "code",
      "source": [
        "word2vec_model.train(tweets,  # our COVID dataset \n",
        "                     total_examples=9986,          #might have to change this     \n",
        "                     epochs = 5)"
      ],
      "metadata": {
        "colab": {
          "base_uri": "https://localhost:8080/"
        },
        "id": "k5fQw3_e2HpU",
        "outputId": "b5629109-4b80-476b-9f5d-073208123da4"
      },
      "execution_count": 79,
      "outputs": [
        {
          "output_type": "execute_result",
          "data": {
            "text/plain": [
              "(430549, 813060)"
            ]
          },
          "metadata": {},
          "execution_count": 79
        }
      ]
    },
    {
      "cell_type": "code",
      "source": [
        "word2vec_model.save('word2vec_model_transfer')"
      ],
      "metadata": {
        "id": "vQikdFks3Dih"
      },
      "execution_count": 80,
      "outputs": []
    },
    {
      "cell_type": "code",
      "source": [
        "word2vec_model = Word2Vec.load('word2vec_model_transfer')"
      ],
      "metadata": {
        "id": "Co9ykb0Z3F9P"
      },
      "execution_count": 81,
      "outputs": []
    },
    {
      "cell_type": "code",
      "source": [
        "word2vec_model.wv.most_similar(positive=['boston'], topn=20)"
      ],
      "metadata": {
        "colab": {
          "base_uri": "https://localhost:8080/"
        },
        "id": "_hUNrNCZ3Hhv",
        "outputId": "1e711e67-b5d1-4c48-8d5e-6afaa489d032"
      },
      "execution_count": 82,
      "outputs": [
        {
          "output_type": "execute_result",
          "data": {
            "text/plain": [
              "[('suspect', 0.6917253732681274),\n",
              " ('bostonstrong', 0.6477212905883789),\n",
              " ('dzhokhar', 0.6256217360496521),\n",
              " ('tsarnaev', 0.596376895904541),\n",
              " ('bostonbombingsuspects', 0.5708255767822266),\n",
              " ('tripathi', 0.5534188151359558),\n",
              " ('bombing', 0.5494701862335205),\n",
              " ('imgur', 0.5178351998329163),\n",
              " ('cambridge', 0.49082547426223755),\n",
              " ('hat', 0.46314048767089844),\n",
              " ('released', 0.4419916868209839),\n",
              " ('him', 0.40622538328170776),\n",
              " ('qh', 0.4049012362957001),\n",
              " ('possible', 0.3972354829311371),\n",
              " ('second', 0.391330748796463),\n",
              " ('thematthewkeys', 0.37422168254852295),\n",
              " ('nhttps', 0.3443443477153778),\n",
              " ('cleveland', 0.3440653383731842),\n",
              " ('find', 0.3438003957271576),\n",
              " ('conrad', 0.3413343131542206)]"
            ]
          },
          "metadata": {},
          "execution_count": 82
        }
      ]
    },
    {
      "cell_type": "code",
      "source": [
        "display_closestwords_tsnescatterplot(word2vec_model,'boston')"
      ],
      "metadata": {
        "colab": {
          "base_uri": "https://localhost:8080/",
          "height": 273
        },
        "id": "0iRvhzk13Mr2",
        "outputId": "ddcf089e-4144-431f-aa14-01161cecb1db"
      },
      "execution_count": 83,
      "outputs": [
        {
          "output_type": "display_data",
          "data": {
            "text/plain": [
              "<Figure size 432x288 with 1 Axes>"
            ],
            "image/png": "[encoded data removed]"
          },
          "metadata": {
            "needs_background": "light"
          }
        }
      ]
    },
    {
      "cell_type": "code",
      "source": [
        "word2vec_model.wv['boston']"
      ],
      "metadata": {
        "colab": {
          "base_uri": "https://localhost:8080/"
        },
        "id": "wHscKNh33Ty7",
        "outputId": "2fcbadf7-a309-497f-826d-38899b209dff"
      },
      "execution_count": 84,
      "outputs": [
        {
          "output_type": "execute_result",
          "data": {
            "text/plain": [
              "array([-0.38611344,  0.17193425,  0.13501859,  0.43291187,  0.23971295,\n",
              "       -0.51999587,  0.08322938, -0.31527483, -0.0349516 ,  0.05162198,\n",
              "       -0.3569829 , -0.8218394 , -0.19632505,  0.05201557,  0.13277087,\n",
              "        0.4942411 , -0.04485956, -0.85927916,  0.706532  , -0.8020581 ,\n",
              "        0.0017036 ,  0.09588633, -0.10489547, -0.12867492, -0.5967489 ,\n",
              "       -0.08446386, -0.37996635, -0.15530896, -0.2967248 , -0.04437865,\n",
              "        0.10944918, -0.02035599,  0.36924112,  0.02131331, -0.20523325,\n",
              "       -0.11809911,  0.2623334 ,  0.13051128,  0.48203915,  0.15014613,\n",
              "       -0.0248429 , -0.27393946, -0.02748815, -0.41511688, -0.19585231,\n",
              "        0.3115041 , -0.10234071, -0.43963376,  0.162898  , -0.00225819,\n",
              "        0.08523802,  0.0397652 , -0.06221198,  0.17182688, -0.26710922,\n",
              "       -0.11026844,  0.07681638, -0.44002545,  0.01230098, -0.08663228,\n",
              "        0.12807448,  0.3864834 , -0.12116855,  0.04080655, -0.0954656 ,\n",
              "       -0.51786834,  0.12021783, -0.01028731,  0.31021428,  0.49985734,\n",
              "        0.37566632,  0.97482616,  0.30637565, -0.31152135, -0.6768661 ,\n",
              "        0.68683505,  0.23206846,  0.15468676, -0.17497547, -0.2084826 ,\n",
              "        0.84045106,  0.17798598,  0.4062898 , -0.35563365,  0.44633174,\n",
              "        0.06708068, -0.09028912,  0.14823335,  0.6191733 , -0.32567254,\n",
              "       -0.09862441,  0.16848283, -0.17008749, -0.06904257, -0.15343489,\n",
              "        0.14770608,  0.00581307,  0.2666311 , -0.00485031,  0.3975749 ,\n",
              "       -0.60467094, -0.44780326,  0.06869424,  0.23405272,  0.4073866 ,\n",
              "       -0.16503885,  0.06219042, -0.10455289,  0.1855713 ,  0.32484645,\n",
              "       -0.36319166,  0.00398793, -0.05181104,  0.32131383,  0.28280917,\n",
              "       -0.16409042, -0.12148676, -0.54796356,  0.10984933,  0.4549743 ,\n",
              "       -0.2833902 , -0.01720662, -0.09147862, -0.0786481 ,  0.278018  ,\n",
              "       -0.26887807,  0.10664497,  0.16308981, -0.01174744, -0.1038963 ,\n",
              "       -0.00793568, -0.04273123,  0.04751665,  0.29127172, -0.16476618,\n",
              "        0.07579704,  0.24008559,  0.44092163, -0.27662852,  0.17226057,\n",
              "        0.02599467,  0.42141482, -0.1725979 , -0.28787857,  0.16334128,\n",
              "        0.5145188 , -0.2735609 , -0.09311011, -0.16211675, -0.09772221,\n",
              "        0.6062479 ,  0.36764744, -0.7000432 ,  0.41600513,  0.06654457,\n",
              "       -0.66488653,  0.00675357,  0.16301747, -0.5422459 ,  0.0408628 ,\n",
              "       -0.35298485, -0.20744164,  0.3216549 , -0.03612411,  0.27741262,\n",
              "       -0.12161186, -0.0819485 , -0.06208513, -0.35822073,  0.0018693 ,\n",
              "       -0.02109514, -0.21885675, -0.00673141, -0.47852236, -0.4546941 ,\n",
              "        0.3931137 , -0.01372216, -0.37808713,  0.2953749 , -0.02246705,\n",
              "        0.3901897 , -0.5048119 , -0.19707145, -0.833504  , -0.16208015,\n",
              "        0.088281  ,  0.25705388,  0.01005411,  0.22299649, -0.21322227,\n",
              "        0.28871384, -0.04105053, -0.47616842, -0.14608553, -0.12569825,\n",
              "        0.07186545,  0.0615837 , -0.00433412, -0.42009258, -0.28220502,\n",
              "       -0.54757696, -0.06133422,  0.00011225,  0.32122055, -0.064384  ,\n",
              "       -0.18217444,  0.35145485, -0.4921925 ,  0.45366275,  0.10235129,\n",
              "        0.42135876,  0.3119819 , -0.31835243, -0.19541487,  0.01386681,\n",
              "        0.3118229 ,  0.04986334, -0.2765375 , -0.37913847, -0.4357049 ,\n",
              "        0.41474053, -0.29652357,  0.33370835, -0.02678385, -0.40076318,\n",
              "       -0.2243569 ,  0.05554904,  0.14872111, -0.2770655 , -0.64556056,\n",
              "        0.9620256 , -0.38588372, -0.23103417,  0.8000635 ,  0.12368   ,\n",
              "       -0.11636145, -0.17907682, -0.19665118,  0.35609868, -0.6397999 ,\n",
              "       -0.05663259,  0.03352426,  0.15427318,  0.0203779 , -0.17041236,\n",
              "        0.20395441, -0.49400297, -0.1208706 ,  0.30172396, -0.16119221,\n",
              "        0.11825862,  0.5584085 ,  0.03335044,  0.14026657, -0.08755321,\n",
              "       -0.29136938, -0.03806133, -0.17833419, -0.10295559, -0.4573616 ,\n",
              "        0.00994514,  0.36852756,  0.21063304, -0.15479404,  0.0232297 ,\n",
              "        0.15129861, -0.00455348, -0.24003874,  0.0845589 , -0.20726897,\n",
              "       -0.30739477,  0.1484724 , -0.08325833,  0.49017927, -0.14228779,\n",
              "       -0.08708898, -0.061795  , -0.19626147,  0.0335663 ,  0.44735062,\n",
              "       -0.22911803,  0.1210913 ,  0.22842696,  0.27778256, -0.08589783,\n",
              "       -0.03317187, -0.03489389,  0.20430082, -0.03985494, -0.39830947,\n",
              "        0.28325567,  0.02080402,  0.5427339 ,  0.09258685,  0.13801849,\n",
              "       -0.17402516, -0.27484265, -0.6239353 , -0.18894108,  0.36458075],\n",
              "      dtype=float32)"
            ]
          },
          "metadata": {},
          "execution_count": 84
        }
      ]
    },
    {
      "cell_type": "code",
      "source": [
        "word2vec_model.wv[0]"
      ],
      "metadata": {
        "id": "WTkydzWL3Xtm"
      },
      "execution_count": null,
      "outputs": []
    },
    {
      "cell_type": "code",
      "source": [
        "word2vec_model.wv[0].shape"
      ],
      "metadata": {
        "colab": {
          "base_uri": "https://localhost:8080/"
        },
        "id": "KnvwFaxh3sQ3",
        "outputId": "fa37e1c8-ca40-48fa-f4b8-734e5dd053b7"
      },
      "execution_count": 96,
      "outputs": [
        {
          "output_type": "execute_result",
          "data": {
            "text/plain": [
              "(300,)"
            ]
          },
          "metadata": {},
          "execution_count": 96
        }
      ]
    },
    {
      "cell_type": "markdown",
      "source": [
        "#Functional Model\n",
        "\n",
        "Put everything together:\n",
        "word2vec_model = Neural Network\n",
        "Image data = CNN"
      ],
      "metadata": {
        "id": "NPHw-xpS4UpX"
      }
    },
    {
      "cell_type": "code",
      "source": [],
      "metadata": {
        "id": "fvDCih3s45Kh"
      },
      "execution_count": null,
      "outputs": []
    }
  ]
}