{
  "nbformat": 4,
  "nbformat_minor": 0,
  "metadata": {
    "colab": {
      "provenance": [],
      "collapsed_sections": [
        "VwglsWePPJkr",
        "_D945svjlEsV",
        "mg6-1g2yvVGb"
      ]
    },
    "kernelspec": {
      "name": "python3",
      "display_name": "Python 3"
    },
    "language_info": {
      "name": "python"
    },
    "accelerator": "GPU",
    "gpuClass": "standard"
  },
  "cells": [
    {
      "cell_type": "markdown",
      "source": [
        "# Import and Define\n",
        "\n",
        "Project 3: Multi-Modal Deep Learning Model for Fake News Detection\n",
        "\n",
        "Authors Jason Phillips and Peeja"
      ],
      "metadata": {
        "id": "aYrEHWI9Ncgr"
      }
    },
    {
      "cell_type": "code",
      "source": [
        "#Mount Google Drive\n",
        "from google.colab import drive\n",
        "drive.mount('/content/drive')"
      ],
      "metadata": {
        "colab": {
          "base_uri": "https://localhost:8080/"
        },
        "id": "GIRyWQw2fVdG",
        "outputId": "df033b2d-3969-480e-bf77-27b56127ed72"
      },
      "execution_count": 1,
      "outputs": [
        {
          "output_type": "stream",
          "name": "stdout",
          "text": [
            "Drive already mounted at /content/drive; to attempt to forcibly remount, call drive.mount(\"/content/drive\", force_remount=True).\n"
          ]
        }
      ]
    },
    {
      "cell_type": "code",
      "source": [
        "#Install necessary packages\n",
        "!pip install tf-explain\n",
        "!pip install --upgrade gensim\n",
        "#!pip install numpy --upgrade"
      ],
      "metadata": {
        "id": "7KP4dRq7NzWS",
        "colab": {
          "base_uri": "https://localhost:8080/"
        },
        "outputId": "c575f78f-98e4-4704-de1f-37605414a4b5"
      },
      "execution_count": 2,
      "outputs": [
        {
          "output_type": "stream",
          "name": "stdout",
          "text": [
            "Looking in indexes: https://pypi.org/simple, https://us-python.pkg.dev/colab-wheels/public/simple/\n",
            "Requirement already satisfied: tf-explain in /usr/local/lib/python3.9/dist-packages (0.3.1)\n",
            "Looking in indexes: https://pypi.org/simple, https://us-python.pkg.dev/colab-wheels/public/simple/\n",
            "Requirement already satisfied: gensim in /usr/local/lib/python3.9/dist-packages (4.3.1)\n",
            "Requirement already satisfied: smart-open>=1.8.1 in /usr/local/lib/python3.9/dist-packages (from gensim) (6.3.0)\n",
            "Requirement already satisfied: scipy>=1.7.0 in /usr/local/lib/python3.9/dist-packages (from gensim) (1.10.1)\n",
            "Requirement already satisfied: numpy>=1.18.5 in /usr/local/lib/python3.9/dist-packages (from gensim) (1.22.4)\n"
          ]
        }
      ]
    },
    {
      "cell_type": "code",
      "source": [
        "#Import and print out the current version of packages.\n",
        "%load_ext tensorboard\n",
        "\n",
        "import tensorflow as tf\n",
        "import tf_explain\n",
        "import numpy as np\n",
        "import matplotlib.pyplot as plt\n",
        "import sys\n",
        "import sklearn as sk\n",
        "import pandas as pd\n",
        "import shutil\n",
        "import os\n",
        "import imblearn\n",
        "import io\n",
        "import requests\n",
        "import datetime\n",
        "\n",
        "from scipy.stats import zscore\n",
        "from scipy import spatial\n",
        "\n",
        "from collections.abc import Sequence\n",
        "from collections import Counter\n",
        "from numpy import where\n",
        "from matplotlib import pyplot\n",
        "\n",
        "from imblearn.over_sampling import SMOTE\n",
        "\n",
        "from sklearn.datasets import make_classification\n",
        "from sklearn.model_selection import train_test_split\n",
        "from sklearn import preprocessing\n",
        "from sklearn.neighbors import KNeighborsClassifier\n",
        "from sklearn.linear_model import LogisticRegression\n",
        "from sklearn.svm import LinearSVC\n",
        "from sklearn import metrics\n",
        "from sklearn.metrics import confusion_matrix, classification_report\n",
        "from sklearn.metrics import roc_curve, auc\n",
        "from sklearn.manifold import TSNE\n",
        "\n",
        "from tensorflow import keras\n",
        "from tensorflow.keras import layers\n",
        "from tensorflow.keras.layers import Input\n",
        "from tensorflow.keras.layers import Dense\n",
        "from tensorflow.keras.models import Model\n",
        "from tensorflow.keras.utils import plot_model\n",
        "from tensorflow.keras.optimizers import Adam\n",
        "\n",
        "from keras.models import Sequential\n",
        "from keras.layers import Dense, Activation, Dropout, Flatten\n",
        "from keras.layers import Conv2D, MaxPooling2D,LSTM\n",
        "from keras.activations import relu, sigmoid, tanh\n",
        "from keras.callbacks import EarlyStopping\n",
        "from keras.callbacks import ModelCheckpoint\n",
        "from keras import optimizers\n",
        "\n",
        "from gensim.models import Word2Vec\n",
        "from gensim import corpora\n",
        "from gensim.utils import simple_preprocess\n",
        "from gensim.models import KeyedVectors\n",
        "\n",
        "from nltk.stem.lancaster import LancasterStemmer\n",
        "from nltk.tokenize import RegexpTokenizer\n",
        "\n",
        "\n",
        "# Encode text values to dummy variables(i.e. [1,0,0],[0,1,0],[0,0,1] for red,green,blue)\n",
        "def encode_text_dummy(df, name):\n",
        "    dummies = pd.get_dummies(df[name])\n",
        "    for x in dummies.columns:\n",
        "        dummy_name = \"{}-{}\".format(name, x)\n",
        "        df[dummy_name] = dummies[x]\n",
        "    df.drop(name, axis=1, inplace=True)\n",
        "\n",
        "\n",
        "# Encode text values to indexes(i.e. [1],[2],[3] for red,green,blue).\n",
        "def encode_text_index(df, name):\n",
        "    le = preprocessing.LabelEncoder()\n",
        "    df[name] = le.fit_transform(df[name])\n",
        "    return le.classes_\n",
        "\n",
        "\n",
        "# Encode a numeric column as zscores\n",
        "def encode_numeric_zscore(df, name, mean=None, sd=None):\n",
        "    if mean is None:\n",
        "        mean = df[name].mean()\n",
        "\n",
        "    if sd is None:\n",
        "        sd = df[name].std()\n",
        "\n",
        "    df[name] = (df[name] - mean) / sd\n",
        "\n",
        "\n",
        "# Convert all missing values in the specified column to the median\n",
        "def missing_median(df, name):\n",
        "    med = df[name].median()\n",
        "    df[name] = df[name].fillna(med)\n",
        "\n",
        "\n",
        "# Convert all missing values in the specified column to the default\n",
        "def missing_default(df, name, default_value):\n",
        "    df[name] = df[name].fillna(default_value)\n",
        "\n",
        "\n",
        "# Convert a Pandas dataframe to the x,y inputs that TensorFlow needs\n",
        "def to_xy(df, target):\n",
        "    result = []\n",
        "    for x in df.columns:\n",
        "        if x != target:\n",
        "            result.append(x)\n",
        "    # find out the type of the target column. \n",
        "    target_type = df[target].dtypes\n",
        "    target_type = target_type[0] if isinstance(target_type, Sequence) else target_type\n",
        "    # Encode to int for classification, float otherwise. TensorFlow likes 32 bits.\n",
        "    if target_type in (np.int64, np.int32):\n",
        "        # Classification\n",
        "        dummies = pd.get_dummies(df[target])\n",
        "        return df[result].values.astype(np.float32), dummies.values.astype(np.float32)\n",
        "    else:\n",
        "        # Regression\n",
        "        return df[result].values.astype(np.float32), df[target].values.astype(np.float32)\n",
        "\n",
        "# Nicely formatted time string\n",
        "def hms_string(sec_elapsed):\n",
        "    h = int(sec_elapsed / (60 * 60))\n",
        "    m = int((sec_elapsed % (60 * 60)) / 60)\n",
        "    s = sec_elapsed % 60\n",
        "    return \"{}:{:>02}:{:>05.2f}\".format(h, m, s)\n",
        "\n",
        "\n",
        "# Regression chart.\n",
        "def chart_regression(pred,y,sort=True):\n",
        "    t = pd.DataFrame({'pred' : pred, 'y' : y.flatten()})\n",
        "    if sort:\n",
        "        t.sort_values(by=['y'],inplace=True)\n",
        "    a = plt.plot(t['y'].tolist(),label='expected')\n",
        "    b = plt.plot(t['pred'].tolist(),label='prediction')\n",
        "    plt.ylabel('output')\n",
        "    plt.legend()\n",
        "    plt.show()\n",
        "\n",
        "# Remove all rows where the specified column is +/- sd standard deviations\n",
        "def remove_outliers(df, name, sd):\n",
        "    drop_rows = df.index[(np.abs(df[name] - df[name].mean()) >= (sd * df[name].std()))]\n",
        "    df.drop(drop_rows, axis=0, inplace=True)\n",
        "\n",
        "\n",
        "# Encode a column to a range between normalized_low and normalized_high.\n",
        "def encode_numeric_range(df, name, normalized_low=-1, normalized_high=1,\n",
        "                         data_low=None, data_high=None):\n",
        "    if data_low is None:\n",
        "        data_low = min(df[name])\n",
        "        data_high = max(df[name])\n",
        "\n",
        "    df[name] = ((df[name] - data_low) / (data_high - data_low)) * (normalized_high - normalized_low) + normalized_low\n",
        "\n",
        "# Plot a confusion matrix.\n",
        "# cm is the confusion matrix, names are the names of the classes.\n",
        "def plot_confusion_matrix(cm, names, title='Confusion matrix', cmap=plt.cm.Blues):\n",
        "    plt.imshow(cm, interpolation='nearest', cmap=cmap)\n",
        "    plt.title(title)\n",
        "    plt.colorbar()\n",
        "    tick_marks = np.arange(len(names))\n",
        "    plt.xticks(tick_marks, names, rotation=45)\n",
        "    plt.yticks(tick_marks, names)\n",
        "    plt.tight_layout()\n",
        "    plt.ylabel('True label')\n",
        "    plt.xlabel('Predicted label')\n",
        "    \n",
        "\n",
        "# Plot an ROC. pred - the predictions, y - the expected output.\n",
        "def plot_roc(pred,y):\n",
        "    fpr, tpr, thresholds = roc_curve(y, pred)\n",
        "    roc_auc = auc(fpr, tpr)\n",
        "\n",
        "    plt.figure()\n",
        "    plt.plot(fpr, tpr, label='ROC curve (area = %0.2f)' % roc_auc)\n",
        "    plt.plot([0, 1], [0, 1], 'k--')\n",
        "    plt.xlim([0.0, 1.0])\n",
        "    plt.ylim([0.0, 1.05])\n",
        "    plt.xlabel('False Positive Rate')\n",
        "    plt.ylabel('True Positive Rate')\n",
        "    plt.title('Receiver Operating Characteristic (ROC)')\n",
        "    plt.legend(loc=\"lower right\")\n",
        "    plt.show()\n",
        "\n",
        "def to_sequences(seq_size, data):\n",
        "    x = []\n",
        "    y = []\n",
        "\n",
        "    for i in range(len(data)-SEQUENCE_SIZE-1):\n",
        "        #print(i)\n",
        "        window = data[i:(i+SEQUENCE_SIZE)]\n",
        "        after_window = data[i+SEQUENCE_SIZE]\n",
        "        window = [[x] for x in window]\n",
        "        #print(\"{} - {}\".format(window,after_window))\n",
        "        x.append(window)\n",
        "        y.append(after_window)\n",
        "        \n",
        "    return np.array(x),np.array(y)\n",
        "\n",
        "print('Python {}'.format(sys.version))\n",
        "print('Pandas {}'.format(pd.__version__))\n",
        "print('Numpy {}'.format(np.__version__))\n",
        "print('Scikit-Learn {}'.format(sk.__version__))\n",
        "print()\n",
        "print('Tensor Flow {}'.format(tf.__version__))\n",
        "print('Keras {}'.format(tf.keras.__version__))\n",
        "print('Imblearn {}'.format(imblearn.__version__))\n",
        "\n",
        "\n",
        "#Function for the Scatterplot\n",
        "def display_closestwords_tsnescatterplot(model, word):\n",
        "    \n",
        "    arr = np.empty((0,300), dtype='f')\n",
        "    word_labels = [word]\n",
        "\n",
        "    # get close words\n",
        "    close_words = model.wv.similar_by_word(word)\n",
        "    \n",
        "    # add the vector for each of the closest words to the array\n",
        "    arr = np.append(arr, np.array([model.wv[word]]), axis=0)\n",
        "    for wrd_score in close_words:\n",
        "        wrd_vector = model.wv[wrd_score[0]]\n",
        "        word_labels.append(wrd_score[0])\n",
        "        arr = np.append(arr, np.array([wrd_vector]), axis=0)\n",
        "        \n",
        "    # find tsne coords for 2 dimensions\n",
        "    tsne = TSNE(n_components=2, perplexity= 10, random_state=0)\n",
        "    np.set_printoptions(suppress=True)\n",
        "    Y = tsne.fit_transform(arr)\n",
        "\n",
        "    x_coords = Y[:, 0]\n",
        "    y_coords = Y[:, 1]\n",
        "    # display scatter plot\n",
        "    plt.scatter(x_coords, y_coords)\n",
        "\n",
        "    for label, x, y in zip(word_labels, x_coords, y_coords):\n",
        "        plt.annotate(label, xy=(x, y), xytext=(0, 0), textcoords='offset points')\n",
        "    plt.xlim(x_coords.min()+0.00005, x_coords.max()+0.00005)\n",
        "    plt.ylim(y_coords.min()+0.00005, y_coords.max()+0.00005)\n",
        "    plt.show()\n",
        "\n",
        "#Remove any files in the log folder for tensorboard\n",
        "!rm -rf \"/content/drive/MyDrive/Colab Notebooks/logs/\"\n",
        "\n",
        "#Define the log folder for tensorboard\n",
        "log_dir = \"/content/drive/MyDrive/Colab Notebooks/logs/\" + datetime.datetime.now().strftime(\"%Y%m%d-%H%M%S\")\n"
      ],
      "metadata": {
        "id": "2XpJ0os0N56Z",
        "colab": {
          "base_uri": "https://localhost:8080/"
        },
        "outputId": "e652ae09-03b5-4c90-9810-2ecee49553a1"
      },
      "execution_count": 3,
      "outputs": [
        {
          "output_type": "stream",
          "name": "stdout",
          "text": [
            "Python 3.9.16 (main, Dec  7 2022, 01:11:51) \n",
            "[GCC 9.4.0]\n",
            "Pandas 1.4.4\n",
            "Numpy 1.22.4\n",
            "Scikit-Learn 1.2.2\n",
            "\n",
            "Tensor Flow 2.11.0\n",
            "Keras 2.11.0\n",
            "Imblearn 0.10.1\n"
          ]
        }
      ]
    },
    {
      "cell_type": "markdown",
      "source": [
        "#Training Data Preprocessing\n",
        "\n",
        "Takes training data and produces tweets_train array."
      ],
      "metadata": {
        "id": "siX9NF2ohU5H"
      }
    },
    {
      "cell_type": "code",
      "source": [
        "#Read the tweets.txt file from training folder\n",
        "filename_read = \"/content/drive/MyDrive/Colab Notebooks/data/devset/tweets.txt\"\n",
        "df_train = pd.read_csv(filename_read, sep='\\t', header=0)\n",
        "df_train"
      ],
      "metadata": {
        "id": "jawEoKCiiJM1",
        "colab": {
          "base_uri": "https://localhost:8080/",
          "height": 424
        },
        "outputId": "1b368a3c-9dab-41a7-bdb6-cdfbe528b0b8"
      },
      "execution_count": 4,
      "outputs": [
        {
          "output_type": "execute_result",
          "data": {
            "text/plain": [
              "                  tweetId                                          tweetText  \\\n",
              "0      263046056240115712  ¿Se acuerdan de la película: “El día después d...   \n",
              "1      262995061304852481  @milenagimon: Miren a Sandy en NY!  Tremenda i...   \n",
              "2      262979898002534400  Buena la foto del Huracán Sandy, me recuerda a...   \n",
              "3      262996108400271360     Scary shit #hurricane #NY http://t.co/e4JLBUfH   \n",
              "4      263018881839411200  My fave place in the world #nyc #hurricane #sa...   \n",
              "...                   ...                                                ...   \n",
              "14272  443231991593304064  @BobombDom *slaps TweetDeck with the PigFish h...   \n",
              "14273  443086239127076865  New Species of Fish found in Brazil or just Re...   \n",
              "14274  442978105238753280  What do we call this? #pigFISH http: \\/\\/t.co\\...   \n",
              "14275  442753479782989824  Pigfish ? E dopo il pescecane c'è il pesce mai...   \n",
              "14276  442700377860104192  For those who can't decide between fish or mea...   \n",
              "\n",
              "           userId      imageId(s)         username  \\\n",
              "0        21226711  sandyA_fake_46          iAnnieM   \n",
              "1       192378571  sandyA_fake_09   CarlosVerareal   \n",
              "2       132303095  sandyA_fake_09      LucasPalape   \n",
              "3       241995902  sandyA_fake_29      Haaaaarryyy   \n",
              "4       250315890  sandyA_fake_15   princess__natt   \n",
              "...           ...             ...              ...   \n",
              "14272  2179310905      pigFish_01  Da_Vault_Hunter   \n",
              "14273   254843101      pigFish_01   DjSituation_RC   \n",
              "14274  2367553228      pigFish_01        Vivo1Vuyo   \n",
              "14275   603120231      pigFish_01      CosimoTarta   \n",
              "14276    25086784      pigFish_01         johnszim   \n",
              "\n",
              "                              timestamp label  \n",
              "0        Mon Oct 29 22:34:01 +0000 2012  fake  \n",
              "1        Mon Oct 29 19:11:23 +0000 2012  fake  \n",
              "2        Mon Oct 29 18:11:08 +0000 2012  fake  \n",
              "3        Mon Oct 29 19:15:33 +0000 2012  fake  \n",
              "4        Mon Oct 29 20:46:02 +0000 2012  fake  \n",
              "...                                 ...   ...  \n",
              "14272  Tue Mar 11 03: 48: 36 +0000 2014  fake  \n",
              "14273  Mon Mar 10 18: 09: 26 +0000 2014  fake  \n",
              "14274  Mon Mar 10 10: 59: 45 +0000 2014  fake  \n",
              "14275  Sun Mar 09 20: 07: 10 +0000 2014  fake  \n",
              "14276  Sun Mar 09 16: 36: 09 +0000 2014  fake  \n",
              "\n",
              "[14277 rows x 7 columns]"
            ],
            "text/html": [
              "\n",
              "  <div id=\"df-a65ac0c8-32cd-432e-a814-f19ab69bb60e\">\n",
              "    <div class=\"colab-df-container\">\n",
              "      <div>\n",
              "<style scoped>\n",
              "    .dataframe tbody tr th:only-of-type {\n",
              "        vertical-align: middle;\n",
              "    }\n",
              "\n",
              "    .dataframe tbody tr th {\n",
              "        vertical-align: top;\n",
              "    }\n",
              "\n",
              "    .dataframe thead th {\n",
              "        text-align: right;\n",
              "    }\n",
              "</style>\n",
              "<table border=\"1\" class=\"dataframe\">\n",
              "  <thead>\n",
              "    <tr style=\"text-align: right;\">\n",
              "      <th></th>\n",
              "      <th>tweetId</th>\n",
              "      <th>tweetText</th>\n",
              "      <th>userId</th>\n",
              "      <th>imageId(s)</th>\n",
              "      <th>username</th>\n",
              "      <th>timestamp</th>\n",
              "      <th>label</th>\n",
              "    </tr>\n",
              "  </thead>\n",
              "  <tbody>\n",
              "    <tr>\n",
              "      <th>0</th>\n",
              "      <td>263046056240115712</td>\n",
              "      <td>¿Se acuerdan de la película: “El día después d...</td>\n",
              "      <td>21226711</td>\n",
              "      <td>sandyA_fake_46</td>\n",
              "      <td>iAnnieM</td>\n",
              "      <td>Mon Oct 29 22:34:01 +0000 2012</td>\n",
              "      <td>fake</td>\n",
              "    </tr>\n",
              "    <tr>\n",
              "      <th>1</th>\n",
              "      <td>262995061304852481</td>\n",
              "      <td>@milenagimon: Miren a Sandy en NY!  Tremenda i...</td>\n",
              "      <td>192378571</td>\n",
              "      <td>sandyA_fake_09</td>\n",
              "      <td>CarlosVerareal</td>\n",
              "      <td>Mon Oct 29 19:11:23 +0000 2012</td>\n",
              "      <td>fake</td>\n",
              "    </tr>\n",
              "    <tr>\n",
              "      <th>2</th>\n",
              "      <td>262979898002534400</td>\n",
              "      <td>Buena la foto del Huracán Sandy, me recuerda a...</td>\n",
              "      <td>132303095</td>\n",
              "      <td>sandyA_fake_09</td>\n",
              "      <td>LucasPalape</td>\n",
              "      <td>Mon Oct 29 18:11:08 +0000 2012</td>\n",
              "      <td>fake</td>\n",
              "    </tr>\n",
              "    <tr>\n",
              "      <th>3</th>\n",
              "      <td>262996108400271360</td>\n",
              "      <td>Scary shit #hurricane #NY http://t.co/e4JLBUfH</td>\n",
              "      <td>241995902</td>\n",
              "      <td>sandyA_fake_29</td>\n",
              "      <td>Haaaaarryyy</td>\n",
              "      <td>Mon Oct 29 19:15:33 +0000 2012</td>\n",
              "      <td>fake</td>\n",
              "    </tr>\n",
              "    <tr>\n",
              "      <th>4</th>\n",
              "      <td>263018881839411200</td>\n",
              "      <td>My fave place in the world #nyc #hurricane #sa...</td>\n",
              "      <td>250315890</td>\n",
              "      <td>sandyA_fake_15</td>\n",
              "      <td>princess__natt</td>\n",
              "      <td>Mon Oct 29 20:46:02 +0000 2012</td>\n",
              "      <td>fake</td>\n",
              "    </tr>\n",
              "    <tr>\n",
              "      <th>...</th>\n",
              "      <td>...</td>\n",
              "      <td>...</td>\n",
              "      <td>...</td>\n",
              "      <td>...</td>\n",
              "      <td>...</td>\n",
              "      <td>...</td>\n",
              "      <td>...</td>\n",
              "    </tr>\n",
              "    <tr>\n",
              "      <th>14272</th>\n",
              "      <td>443231991593304064</td>\n",
              "      <td>@BobombDom *slaps TweetDeck with the PigFish h...</td>\n",
              "      <td>2179310905</td>\n",
              "      <td>pigFish_01</td>\n",
              "      <td>Da_Vault_Hunter</td>\n",
              "      <td>Tue Mar 11 03: 48: 36 +0000 2014</td>\n",
              "      <td>fake</td>\n",
              "    </tr>\n",
              "    <tr>\n",
              "      <th>14273</th>\n",
              "      <td>443086239127076865</td>\n",
              "      <td>New Species of Fish found in Brazil or just Re...</td>\n",
              "      <td>254843101</td>\n",
              "      <td>pigFish_01</td>\n",
              "      <td>DjSituation_RC</td>\n",
              "      <td>Mon Mar 10 18: 09: 26 +0000 2014</td>\n",
              "      <td>fake</td>\n",
              "    </tr>\n",
              "    <tr>\n",
              "      <th>14274</th>\n",
              "      <td>442978105238753280</td>\n",
              "      <td>What do we call this? #pigFISH http: \\/\\/t.co\\...</td>\n",
              "      <td>2367553228</td>\n",
              "      <td>pigFish_01</td>\n",
              "      <td>Vivo1Vuyo</td>\n",
              "      <td>Mon Mar 10 10: 59: 45 +0000 2014</td>\n",
              "      <td>fake</td>\n",
              "    </tr>\n",
              "    <tr>\n",
              "      <th>14275</th>\n",
              "      <td>442753479782989824</td>\n",
              "      <td>Pigfish ? E dopo il pescecane c'è il pesce mai...</td>\n",
              "      <td>603120231</td>\n",
              "      <td>pigFish_01</td>\n",
              "      <td>CosimoTarta</td>\n",
              "      <td>Sun Mar 09 20: 07: 10 +0000 2014</td>\n",
              "      <td>fake</td>\n",
              "    </tr>\n",
              "    <tr>\n",
              "      <th>14276</th>\n",
              "      <td>442700377860104192</td>\n",
              "      <td>For those who can't decide between fish or mea...</td>\n",
              "      <td>25086784</td>\n",
              "      <td>pigFish_01</td>\n",
              "      <td>johnszim</td>\n",
              "      <td>Sun Mar 09 16: 36: 09 +0000 2014</td>\n",
              "      <td>fake</td>\n",
              "    </tr>\n",
              "  </tbody>\n",
              "</table>\n",
              "<p>14277 rows × 7 columns</p>\n",
              "</div>\n",
              "      <button class=\"colab-df-convert\" onclick=\"convertToInteractive('df-a65ac0c8-32cd-432e-a814-f19ab69bb60e')\"\n",
              "              title=\"Convert this dataframe to an interactive table.\"\n",
              "              style=\"display:none;\">\n",
              "        \n",
              "  <svg xmlns=\"http://www.w3.org/2000/svg\" height=\"24px\"viewBox=\"0 0 24 24\"\n",
              "       width=\"24px\">\n",
              "    <path d=\"M0 0h24v24H0V0z\" fill=\"none\"/>\n",
              "    <path d=\"M18.56 5.44l.94 2.06.94-2.06 2.06-.94-2.06-.94-.94-2.06-.94 2.06-2.06.94zm-11 1L8.5 8.5l.94-2.06 2.06-.94-2.06-.94L8.5 2.5l-.94 2.06-2.06.94zm10 10l.94 2.06.94-2.06 2.06-.94-2.06-.94-.94-2.06-.94 2.06-2.06.94z\"/><path d=\"M17.41 7.96l-1.37-1.37c-.4-.4-.92-.59-1.43-.59-.52 0-1.04.2-1.43.59L10.3 9.45l-7.72 7.72c-.78.78-.78 2.05 0 2.83L4 21.41c.39.39.9.59 1.41.59.51 0 1.02-.2 1.41-.59l7.78-7.78 2.81-2.81c.8-.78.8-2.07 0-2.86zM5.41 20L4 18.59l7.72-7.72 1.47 1.35L5.41 20z\"/>\n",
              "  </svg>\n",
              "      </button>\n",
              "      \n",
              "  <style>\n",
              "    .colab-df-container {\n",
              "      display:flex;\n",
              "      flex-wrap:wrap;\n",
              "      gap: 12px;\n",
              "    }\n",
              "\n",
              "    .colab-df-convert {\n",
              "      background-color: #E8F0FE;\n",
              "      border: none;\n",
              "      border-radius: 50%;\n",
              "      cursor: pointer;\n",
              "      display: none;\n",
              "      fill: #1967D2;\n",
              "      height: 32px;\n",
              "      padding: 0 0 0 0;\n",
              "      width: 32px;\n",
              "    }\n",
              "\n",
              "    .colab-df-convert:hover {\n",
              "      background-color: #E2EBFA;\n",
              "      box-shadow: 0px 1px 2px rgba(60, 64, 67, 0.3), 0px 1px 3px 1px rgba(60, 64, 67, 0.15);\n",
              "      fill: #174EA6;\n",
              "    }\n",
              "\n",
              "    [theme=dark] .colab-df-convert {\n",
              "      background-color: #3B4455;\n",
              "      fill: #D2E3FC;\n",
              "    }\n",
              "\n",
              "    [theme=dark] .colab-df-convert:hover {\n",
              "      background-color: #434B5C;\n",
              "      box-shadow: 0px 1px 3px 1px rgba(0, 0, 0, 0.15);\n",
              "      filter: drop-shadow(0px 1px 2px rgba(0, 0, 0, 0.3));\n",
              "      fill: #FFFFFF;\n",
              "    }\n",
              "  </style>\n",
              "\n",
              "      <script>\n",
              "        const buttonEl =\n",
              "          document.querySelector('#df-a65ac0c8-32cd-432e-a814-f19ab69bb60e button.colab-df-convert');\n",
              "        buttonEl.style.display =\n",
              "          google.colab.kernel.accessAllowed ? 'block' : 'none';\n",
              "\n",
              "        async function convertToInteractive(key) {\n",
              "          const element = document.querySelector('#df-a65ac0c8-32cd-432e-a814-f19ab69bb60e');\n",
              "          const dataTable =\n",
              "            await google.colab.kernel.invokeFunction('convertToInteractive',\n",
              "                                                     [key], {});\n",
              "          if (!dataTable) return;\n",
              "\n",
              "          const docLinkHtml = 'Like what you see? Visit the ' +\n",
              "            '<a target=\"_blank\" href=https://colab.research.google.com/notebooks/data_table.ipynb>data table notebook</a>'\n",
              "            + ' to learn more about interactive tables.';\n",
              "          element.innerHTML = '';\n",
              "          dataTable['output_type'] = 'display_data';\n",
              "          await google.colab.output.renderOutput(dataTable, element);\n",
              "          const docLink = document.createElement('div');\n",
              "          docLink.innerHTML = docLinkHtml;\n",
              "          element.appendChild(docLink);\n",
              "        }\n",
              "      </script>\n",
              "    </div>\n",
              "  </div>\n",
              "  "
            ]
          },
          "metadata": {},
          "execution_count": 4
        }
      ]
    },
    {
      "cell_type": "code",
      "source": [
        "print(\"Training data shape: \" + str(df_train.shape))"
      ],
      "metadata": {
        "colab": {
          "base_uri": "https://localhost:8080/"
        },
        "id": "lSawBtdbi6Da",
        "outputId": "2415afdc-6d7b-4a62-fff6-7cb97b395f8b"
      },
      "execution_count": 5,
      "outputs": [
        {
          "output_type": "stream",
          "name": "stdout",
          "text": [
            "Training data shape: (14277, 7)\n"
          ]
        }
      ]
    },
    {
      "cell_type": "code",
      "source": [
        "#Remove humor label because we only want real/fake tweets\n",
        "df_train = df_train[df_train[\"label\"] != \"humor\"]\n",
        "print(\"Training data shape after humor removed: \" + str(df_train.shape))"
      ],
      "metadata": {
        "id": "nGBQjpTljGGS",
        "colab": {
          "base_uri": "https://localhost:8080/"
        },
        "outputId": "353eca05-0fd4-4f56-d547-d15b0de0f798"
      },
      "execution_count": 6,
      "outputs": [
        {
          "output_type": "stream",
          "name": "stdout",
          "text": [
            "Training data shape after humor removed: (11663, 7)\n"
          ]
        }
      ]
    },
    {
      "cell_type": "code",
      "source": [
        "#Remove any tweets with no corresponding images\n",
        "df_train = df_train[df_train[\"imageId(s)\"] != \"\"]\n",
        "print(\"Training data shape after empty images removed: \" + str(df_train.shape))"
      ],
      "metadata": {
        "id": "2qzpH5jyjK2k",
        "colab": {
          "base_uri": "https://localhost:8080/"
        },
        "outputId": "c84efa19-e60c-4084-c35b-5253e76dad56"
      },
      "execution_count": 7,
      "outputs": [
        {
          "output_type": "stream",
          "name": "stdout",
          "text": [
            "Training data shape after empty images removed: (11663, 7)\n"
          ]
        }
      ]
    },
    {
      "cell_type": "code",
      "source": [
        "df_train.to_csv(\"/content/drive/MyDrive/Colab Notebooks/data/devset/tweets_dataframe.csv\", index=False)"
      ],
      "metadata": {
        "id": "kMCWoiYsqzmk"
      },
      "execution_count": 8,
      "outputs": []
    },
    {
      "cell_type": "code",
      "source": [
        "#Tokenize the tweets to get individual words per row.\n",
        "tkr = RegexpTokenizer(\"[a-zA-Záéíóúñ']+\")\n",
        "df_train['tokenized'] = df_train['tweetText'].apply(lambda row: [t.lower() for t in tkr.tokenize(row)])\n",
        "df_train['tokenized']"
      ],
      "metadata": {
        "id": "919A7EuYkRnm",
        "colab": {
          "base_uri": "https://localhost:8080/"
        },
        "outputId": "658d5f96-d418-4e19-fec1-2f551c72f8a7"
      },
      "execution_count": 9,
      "outputs": [
        {
          "output_type": "execute_result",
          "data": {
            "text/plain": [
              "0        [se, acuerdan, de, la, película, el, día, desp...\n",
              "1        [milenagimon, miren, a, sandy, en, ny, tremend...\n",
              "2        [buena, la, foto, del, huracán, sandy, me, rec...\n",
              "3        [scary, shit, hurricane, ny, http, t, co, e, j...\n",
              "4        [my, fave, place, in, the, world, nyc, hurrica...\n",
              "                               ...                        \n",
              "14272    [bobombdom, slaps, tweetdeck, with, the, pigfi...\n",
              "14273    [new, species, of, fish, found, in, brazil, or...\n",
              "14274    [what, do, we, call, this, pigfish, http, t, c...\n",
              "14275    [pigfish, e, dopo, il, pescecane, c', il, pesc...\n",
              "14276    [for, those, who, can't, decide, between, fish...\n",
              "Name: tokenized, Length: 11663, dtype: object"
            ]
          },
          "metadata": {},
          "execution_count": 9
        }
      ]
    },
    {
      "cell_type": "code",
      "source": [
        "#create an array of each row tokenized\n",
        "tweets_train = df_train['tokenized']\n",
        "print(tweets_train[0])"
      ],
      "metadata": {
        "colab": {
          "base_uri": "https://localhost:8080/"
        },
        "id": "laKKi9hpkhKc",
        "outputId": "454b77cb-e425-417f-82b4-7bfd0a2c072f"
      },
      "execution_count": 10,
      "outputs": [
        {
          "output_type": "stream",
          "name": "stdout",
          "text": [
            "['se', 'acuerdan', 'de', 'la', 'película', 'el', 'día', 'después', 'de', 'mañana', 'me', 'recuerda', 'a', 'lo', 'que', 'está', 'pasando', 'con', 'el', 'huracán', 'sandy', 'http', 't', 'co', 'jqqerpwn']\n"
          ]
        }
      ]
    },
    {
      "cell_type": "markdown",
      "source": [
        "#Testing Data Preprocessing\n",
        "\n",
        "Takes test data and produces tweets_train array."
      ],
      "metadata": {
        "id": "9qsmmhX7pluZ"
      }
    },
    {
      "cell_type": "code",
      "source": [
        "#Read the tweets_test.txt file from test folder\n",
        "filename_read = \"/content/drive/MyDrive/Colab Notebooks/data/devset/tweets_test.txt\"\n",
        "df_test = pd.read_csv(filename_read, sep='\\t', header=0)\n",
        "df_test"
      ],
      "metadata": {
        "id": "DzCfaaGRprhR"
      },
      "execution_count": null,
      "outputs": []
    },
    {
      "cell_type": "code",
      "source": [
        "print(\"Test data shape: \" + str(df_test.shape))"
      ],
      "metadata": {
        "colab": {
          "base_uri": "https://localhost:8080/"
        },
        "id": "Nv-AoLZJuXfQ",
        "outputId": "8ee5b8f3-9631-4c11-f1ac-677179a66bc8"
      },
      "execution_count": 12,
      "outputs": [
        {
          "output_type": "stream",
          "name": "stdout",
          "text": [
            "Test data shape: (3755, 7)\n"
          ]
        }
      ]
    },
    {
      "cell_type": "code",
      "source": [
        "#Remove humor label because we only want real/fake tweets\n",
        "df_test = df_test[df_test[\"label\"] != \"humor\"]\n",
        "print(\"Test data shape after humor removed: \" + str(df_test.shape))"
      ],
      "metadata": {
        "colab": {
          "base_uri": "https://localhost:8080/"
        },
        "id": "KpXJPkK2uXo0",
        "outputId": "f4ed5d1e-bee0-476e-87ae-c242d3d53903"
      },
      "execution_count": 13,
      "outputs": [
        {
          "output_type": "stream",
          "name": "stdout",
          "text": [
            "Test data shape after humor removed: (3755, 7)\n"
          ]
        }
      ]
    },
    {
      "cell_type": "code",
      "source": [
        "#Remove any tweets with no corresponding images\n",
        "df_test = df_test[df_test[\"imageId(s)\"] != \"\"]\n",
        "print(\"Test data shape after empty images removed: \" + str(df_test.shape))"
      ],
      "metadata": {
        "colab": {
          "base_uri": "https://localhost:8080/"
        },
        "id": "9Eh1rjwkuXus",
        "outputId": "3029e606-d0b9-4c3f-a066-609ee371e8c6"
      },
      "execution_count": 14,
      "outputs": [
        {
          "output_type": "stream",
          "name": "stdout",
          "text": [
            "Test data shape after empty images removed: (3755, 7)\n"
          ]
        }
      ]
    },
    {
      "cell_type": "code",
      "source": [
        "df_test.to_csv(\"/content/drive/MyDrive/Colab Notebooks/data/devset/tweets_test_dataframe.csv\", index=False)"
      ],
      "metadata": {
        "id": "oRJlOkmAuXzH"
      },
      "execution_count": 15,
      "outputs": []
    },
    {
      "cell_type": "code",
      "source": [
        "#Tokenize the tweets to get individual words per row.\n",
        "tkr = RegexpTokenizer(\"[a-zA-Záéíóúñ']+\")\n",
        "df_test['tokenized'] = df_test['tweetText'].apply(lambda row: [t.lower() for t in tkr.tokenize(row)])\n",
        "df_test['tokenized']"
      ],
      "metadata": {
        "colab": {
          "base_uri": "https://localhost:8080/"
        },
        "id": "sGGqjiAvuxGY",
        "outputId": "5337932b-8138-48ea-e22e-4e66024322b6"
      },
      "execution_count": 16,
      "outputs": [
        {
          "output_type": "execute_result",
          "data": {
            "text/plain": [
              "0       [kereeen, rt, shyman, eclipse, from, iss, http...\n",
              "1       [absolutely, beautiful, rt, shyman, eclipse, f...\n",
              "2       [shyman, eclipse, from, iss, http, t, co, c, v...\n",
              "3            [eclipse, from, iss, http, t, co, en, otvsu]\n",
              "4       [ebonfigli, clipse, vue, de, l'iss, autre, cho...\n",
              "                              ...                        \n",
              "3750    [un, présentateur, de, la, zdf, confesse, avoi...\n",
              "3751    [oh, les, kleine, menteurs, corinebarella, un,...\n",
              "3752    [este, es, el, programa, de, zdf, en, el, que,...\n",
              "3753    [wir, haben, fast, mittag, riesen, verwirrung,...\n",
              "3754    [sorry, yanisvaroufakis, https, t, co, bskyrbi...\n",
              "Name: tokenized, Length: 3755, dtype: object"
            ]
          },
          "metadata": {},
          "execution_count": 16
        }
      ]
    },
    {
      "cell_type": "code",
      "source": [
        "#create an array of each row tokenized\n",
        "tweets_test = df_test['tokenized']\n",
        "print(tweets_test[0])"
      ],
      "metadata": {
        "colab": {
          "base_uri": "https://localhost:8080/"
        },
        "id": "D_bSWZqEuxSe",
        "outputId": "11abb2d7-8401-4a9d-9692-3ac07b2db9c5"
      },
      "execution_count": 17,
      "outputs": [
        {
          "output_type": "stream",
          "name": "stdout",
          "text": [
            "['kereeen', 'rt', 'shyman', 'eclipse', 'from', 'iss', 'http', 't', 'co', 'je', 'hcfpvfn']\n"
          ]
        }
      ]
    },
    {
      "cell_type": "markdown",
      "source": [
        "# Word2Vec Transfer Learning (Training Set)\n",
        "Using google's model on our vocabulary for our Training set.\n",
        "\n"
      ],
      "metadata": {
        "id": "mg6-1g2yvVGb"
      }
    },
    {
      "cell_type": "code",
      "source": [
        "#Word2vec model for our TRAINING dataset\n",
        "# size option needs to be set to 300 to be the same as Google's pre-trained model \n",
        "word2vec_model_train = Word2Vec(vector_size=300, min_count=5, sg=1, window=5, epochs=300)\n",
        "\n",
        "word2vec_model_train.build_vocab(tweets_train)\n",
        "\n",
        "word2vec_model_train.wv.vectors_lockf = np.ones(len(word2vec_model_train.wv))\n",
        "\n",
        "# assign the vectors to the vocabs that are in Google's pre-trained model and your sentences defined above.\n",
        "# lockf needs to be set to 1.0 to allow continued training.\n",
        "word2vec_model_train.wv.intersect_word2vec_format('/content/drive/MyDrive/Colab Notebooks/data/GoogleNews-vectors-negative300.bin.gz', lockf=1.0, binary=True)"
      ],
      "metadata": {
        "id": "c9junQgc1zPv"
      },
      "execution_count": 18,
      "outputs": []
    },
    {
      "cell_type": "code",
      "source": [
        "#This will update existing weights based off our vocabulary.\n",
        "word2vec_model_train.train(tweets_train,  # Our training dataset \n",
        "                     total_examples=11663,          #might have to change this     \n",
        "                     epochs = 5)"
      ],
      "metadata": {
        "colab": {
          "base_uri": "https://localhost:8080/"
        },
        "id": "k5fQw3_e2HpU",
        "outputId": "0c4e0efc-15ee-4713-9c9a-508cd9f8ae3b"
      },
      "execution_count": 19,
      "outputs": [
        {
          "output_type": "execute_result",
          "data": {
            "text/plain": [
              "(512710, 929535)"
            ]
          },
          "metadata": {},
          "execution_count": 19
        }
      ]
    },
    {
      "cell_type": "code",
      "source": [
        "#Save the model and load it for faster processing\n",
        "word2vec_model_train.save('word2vec_model_transfer')\n",
        "word2vec_model_train = Word2Vec.load('word2vec_model_transfer')\n"
      ],
      "metadata": {
        "id": "vQikdFks3Dih"
      },
      "execution_count": 20,
      "outputs": []
    },
    {
      "cell_type": "code",
      "source": [
        "#Display similar data to chosen word\n",
        "word2vec_model_train.wv.most_similar(positive=['boston'], topn=20)"
      ],
      "metadata": {
        "id": "oGODLC2CmYqM",
        "colab": {
          "base_uri": "https://localhost:8080/"
        },
        "outputId": "39442da8-d1eb-4b6f-b903-6ae059882a81"
      },
      "execution_count": 21,
      "outputs": [
        {
          "output_type": "execute_result",
          "data": {
            "text/plain": [
              "[('nyc', 0.6515336036682129),\n",
              " ('bostonmarathon', 0.6178013682365417),\n",
              " ('cambridge', 0.6028695106506348),\n",
              " ('brooklyn', 0.5580998063087463),\n",
              " ('connecticut', 0.5555818676948547),\n",
              " ('bostonstrong', 0.5446690320968628),\n",
              " ('maryland', 0.5439403653144836),\n",
              " (\"id'd\", 0.5419262647628784),\n",
              " ('louisiana', 0.5401884317398071),\n",
              " ('virginia', 0.5396131277084351),\n",
              " ('york', 0.5340389609336853),\n",
              " ('nbc', 0.5297824740409851),\n",
              " ('tj', 0.5285606980323792),\n",
              " ('france', 0.5189995765686035),\n",
              " ('usa', 0.5113814473152161),\n",
              " ('nw', 0.5079752802848816),\n",
              " ('kc', 0.5045082569122314),\n",
              " ('plymouth', 0.5031690001487732),\n",
              " ('aj', 0.4939384460449219),\n",
              " ('tho', 0.4885568916797638)]"
            ]
          },
          "metadata": {},
          "execution_count": 21
        }
      ]
    },
    {
      "cell_type": "code",
      "source": [
        "#Visualize the similar words on a scatter plot\n",
        "display_closestwords_tsnescatterplot(word2vec_model_train,'boston')"
      ],
      "metadata": {
        "id": "0iRvhzk13Mr2",
        "colab": {
          "base_uri": "https://localhost:8080/",
          "height": 273
        },
        "outputId": "a3274d73-9647-419d-c8bc-4367fc812b05"
      },
      "execution_count": 22,
      "outputs": [
        {
          "output_type": "display_data",
          "data": {
            "text/plain": [
              "<Figure size 432x288 with 1 Axes>"
            ],
            "image/png": "[encoded data removed]"
          },
          "metadata": {
            "needs_background": "light"
          }
        }
      ]
    },
    {
      "cell_type": "code",
      "source": [
        "#Display the vector for the word boston.\n",
        "word2vec_model_train.wv['boston']"
      ],
      "metadata": {
        "id": "wHscKNh33Ty7",
        "colab": {
          "base_uri": "https://localhost:8080/"
        },
        "outputId": "8a234352-27c1-4e7c-b826-d4127be1da38"
      },
      "execution_count": 23,
      "outputs": [
        {
          "output_type": "execute_result",
          "data": {
            "text/plain": [
              "array([-0.51171875, -0.08544922, -0.06054688,  0.43359375,  0.19433594,\n",
              "       -0.18457031, -0.12792969, -0.30859375, -0.09716797, -0.02734375,\n",
              "       -0.5859375 , -0.5       , -0.41796875, -0.13574219,  0.30664062,\n",
              "        0.24414062,  0.11621094, -0.35546875,  0.3125    , -0.25585938,\n",
              "       -0.15917969,  0.00506592,  0.15917969, -0.05786133, -0.44726562,\n",
              "        0.18652344, -0.27148438,  0.24902344, -0.42773438,  0.08398438,\n",
              "        0.07373047,  0.09521484, -0.06445312, -0.14355469, -0.12011719,\n",
              "       -0.00128937, -0.11425781,  0.07763672,  0.2578125 , -0.03173828,\n",
              "        0.03442383, -0.08349609,  0.08496094, -0.09179688, -0.09277344,\n",
              "        0.06884766, -0.00053787, -0.33789062, -0.09228516,  0.10888672,\n",
              "        0.10986328,  0.15917969,  0.05615234,  0.20507812, -0.01647949,\n",
              "       -0.04321289, -0.15527344, -0.10986328, -0.10009766,  0.0480957 ,\n",
              "       -0.0402832 , -0.04370117, -0.08984375, -0.14941406,  0.06005859,\n",
              "       -0.671875  , -0.10839844,  0.07714844,  0.09912109,  0.15917969,\n",
              "        0.4140625 ,  0.53515625,  0.1484375 , -0.06884766, -0.44335938,\n",
              "        0.10400391,  0.15429688,  0.05029297, -0.41601562, -0.13574219,\n",
              "        0.17382812,  0.34179688,  0.1328125 , -0.52734375,  0.1875    ,\n",
              "        0.09814453,  0.02392578,  0.00976562,  0.22753906, -0.10400391,\n",
              "       -0.0559082 ,  0.05639648, -0.14648438, -0.16503906, -0.265625  ,\n",
              "        0.3046875 ,  0.04296875, -0.27734375,  0.28320312,  0.26367188,\n",
              "       -0.07226562, -0.06591797,  0.08154297,  0.12597656, -0.09033203,\n",
              "        0.01544189, -0.26171875,  0.07421875,  0.06152344, -0.06591797,\n",
              "       -0.30078125, -0.1171875 , -0.12597656,  0.06103516,  0.25585938,\n",
              "        0.05224609,  0.02905273, -0.32421875,  0.18359375,  0.15136719,\n",
              "       -0.28125   , -0.16210938, -0.02197266, -0.20410156,  0.43359375,\n",
              "       -0.08984375, -0.01184082,  0.2265625 ,  0.10986328, -0.15820312,\n",
              "       -0.296875  ,  0.05297852,  0.08740234,  0.17578125, -0.10644531,\n",
              "        0.11865234, -0.01818848,  0.05786133, -0.06298828, -0.06030273,\n",
              "        0.27929688,  0.05029297, -0.08642578, -0.36328125,  0.16210938,\n",
              "        0.0267334 , -0.21777344, -0.11279297,  0.04199219, -0.09863281,\n",
              "        0.421875  , -0.14257812, -0.46289062,  0.24121094, -0.14648438,\n",
              "       -0.3984375 ,  0.22460938,  0.31054688, -0.37109375,  0.0133667 ,\n",
              "       -0.18945312, -0.08447266,  0.10498047,  0.04785156,  0.23828125,\n",
              "       -0.31640625,  0.09033203, -0.21289062, -0.29296875,  0.08496094,\n",
              "       -0.5234375 , -0.18261719,  0.18261719, -0.18652344, -0.13183594,\n",
              "        0.2734375 ,  0.02612305, -0.39257812,  0.37890625,  0.08984375,\n",
              "        0.13476562, -0.20605469, -0.19824219, -0.1640625 , -0.10791016,\n",
              "        0.140625  , -0.06079102, -0.02185059,  0.515625  , -0.23535156,\n",
              "        0.26367188,  0.06640625, -0.34960938, -0.21191406,  0.04443359,\n",
              "        0.19140625, -0.26367188,  0.12792969, -0.20800781, -0.26953125,\n",
              "       -0.5625    , -0.04858398,  0.19628906, -0.10253906, -0.16015625,\n",
              "       -0.14257812,  0.2578125 , -0.39257812, -0.1484375 ,  0.33789062,\n",
              "        0.09814453,  0.14648438, -0.49023438, -0.18945312, -0.02905273,\n",
              "        0.22265625,  0.20898438, -0.13867188,  0.02990723, -0.07470703,\n",
              "        0.18457031, -0.13964844,  0.30078125, -0.00482178, -0.33789062,\n",
              "       -0.33789062,  0.07666016,  0.11035156, -0.18945312, -0.35351562,\n",
              "        0.40625   , -0.15917969, -0.08935547,  0.15917969, -0.06542969,\n",
              "        0.06591797,  0.10302734, -0.16503906,  0.11962891, -0.20117188,\n",
              "        0.34375   ,  0.17480469,  0.07373047,  0.24121094, -0.1953125 ,\n",
              "        0.06835938, -0.11474609,  0.26367188,  0.04882812, -0.1015625 ,\n",
              "        0.29296875,  0.34570312,  0.15234375,  0.08789062,  0.01611328,\n",
              "       -0.40625   , -0.00976562, -0.06225586, -0.04125977, -0.00167847,\n",
              "        0.13867188,  0.12255859,  0.4609375 , -0.06640625, -0.00094223,\n",
              "        0.03955078, -0.08691406, -0.12353516,  0.20703125, -0.24023438,\n",
              "       -0.34570312,  0.14355469,  0.08740234,  0.22558594, -0.0703125 ,\n",
              "       -0.33984375, -0.15625   ,  0.00358582, -0.09375   ,  0.49414062,\n",
              "       -0.12890625,  0.16308594,  0.33203125,  0.15429688, -0.06835938,\n",
              "       -0.04003906,  0.15527344,  0.07080078, -0.06054688, -0.21289062,\n",
              "        0.34570312,  0.07080078,  0.29296875,  0.09228516,  0.10351562,\n",
              "       -0.05615234, -0.3125    , -0.3828125 , -0.14257812,  0.18066406],\n",
              "      dtype=float32)"
            ]
          },
          "metadata": {},
          "execution_count": 23
        }
      ]
    },
    {
      "cell_type": "code",
      "source": [
        "word2vec_model_train.wv[0]"
      ],
      "metadata": {
        "id": "WTkydzWL3Xtm",
        "colab": {
          "base_uri": "https://localhost:8080/"
        },
        "outputId": "2fbc9fe5-02e7-485a-cfb5-dec693895f16"
      },
      "execution_count": 24,
      "outputs": [
        {
          "output_type": "execute_result",
          "data": {
            "text/plain": [
              "array([-0.33789062,  0.19824219, -0.296875  ,  0.1484375 , -0.21777344,\n",
              "       -0.03686523, -0.00582886, -0.12109375,  0.14257812, -0.05053711,\n",
              "       -0.05908203, -0.07421875, -0.25195312, -0.06835938, -0.12255859,\n",
              "        0.16308594,  0.00274658,  0.36132812, -0.00567627, -0.12597656,\n",
              "       -0.29101562, -0.11279297,  0.2578125 , -0.07177734,  0.02368164,\n",
              "       -0.07519531, -0.3671875 ,  0.02783203, -0.24414062, -0.00830078,\n",
              "        0.12304688,  0.12060547,  0.00933838,  0.0088501 , -0.10058594,\n",
              "        0.19824219, -0.4921875 ,  0.14746094,  0.15234375,  0.125     ,\n",
              "       -0.08300781, -0.15234375,  0.17578125, -0.05541992,  0.00439453,\n",
              "       -0.03369141,  0.07080078, -0.05371094, -0.12451172,  0.234375  ,\n",
              "       -0.140625  ,  0.23632812, -0.15332031,  0.61328125,  0.29492188,\n",
              "       -0.09521484,  0.06494141, -0.15722656, -0.16210938, -0.125     ,\n",
              "       -0.15527344,  0.05517578, -0.04516602, -0.09423828, -0.00479126,\n",
              "       -0.27539062, -0.23046875,  0.01477051,  0.0168457 ,  0.11083984,\n",
              "        0.05078125, -0.07177734, -0.0267334 , -0.08642578, -0.18652344,\n",
              "       -0.05053711,  0.2578125 ,  0.12451172, -0.02929688, -0.11279297,\n",
              "       -0.28320312,  0.01953125, -0.32226562,  0.09716797,  0.12890625,\n",
              "        0.09130859,  0.10351562,  0.25585938, -0.18261719, -0.14355469,\n",
              "       -0.09912109,  0.23046875, -0.04125977, -0.4375    ,  0.06030273,\n",
              "        0.06933594, -0.31445312,  0.06176758,  0.38867188,  0.11572266,\n",
              "       -0.21875   , -0.16015625, -0.17773438,  0.03466797, -0.06103516,\n",
              "        0.22460938, -0.01989746,  0.04663086, -0.17285156,  0.05932617,\n",
              "       -0.23144531, -0.29101562, -0.02661133,  0.06225586,  0.23632812,\n",
              "        0.26171875,  0.04150391, -0.14355469, -0.11328125,  0.15527344,\n",
              "        0.01806641,  0.24316406,  0.05200195,  0.15234375,  0.07470703,\n",
              "       -0.3046875 , -0.16308594, -0.28710938, -0.18457031, -0.11425781,\n",
              "       -0.21386719, -0.00805664,  0.01519775, -0.15429688, -0.25585938,\n",
              "        0.00127411, -0.07421875,  0.13085938,  0.34960938,  0.20507812,\n",
              "        0.171875  , -0.15429688,  0.27734375,  0.08984375, -0.07519531,\n",
              "        0.04077148, -0.01696777,  0.10205078, -0.03466797, -0.07666016,\n",
              "        0.00939941, -0.5234375 , -0.08105469, -0.20019531, -0.02746582,\n",
              "       -0.01940918,  0.00994873,  0.33007812, -0.18847656, -0.04077148,\n",
              "        0.05957031,  0.17480469, -0.07373047,  0.01843262,  0.02844238,\n",
              "       -0.06542969,  0.21289062,  0.24023438, -0.03833008,  0.25195312,\n",
              "       -0.21972656,  0.14746094, -0.07714844, -0.03015137,  0.08984375,\n",
              "       -0.01977539,  0.18164062, -0.16308594, -0.20996094, -0.19140625,\n",
              "       -0.07177734,  0.15820312,  0.07958984,  0.07568359,  0.1796875 ,\n",
              "        0.02172852, -0.06445312,  0.19824219, -0.15917969,  0.234375  ,\n",
              "        0.25976562,  0.03173828, -0.26367188,  0.00680542,  0.17480469,\n",
              "       -0.22949219, -0.01708984, -0.03759766,  0.06884766,  0.03857422,\n",
              "       -0.09375   , -0.04492188, -0.3359375 , -0.14355469,  0.22070312,\n",
              "       -0.05322266, -0.01696777,  0.06787109,  0.00114441,  0.11181641,\n",
              "        0.12402344,  0.26757812, -0.15234375, -0.15429688, -0.25390625,\n",
              "       -0.12792969,  0.203125  , -0.20019531, -0.14941406,  0.11425781,\n",
              "       -0.19921875,  0.25585938, -0.02587891,  0.10009766,  0.05786133,\n",
              "       -0.15820312,  0.25585938,  0.30273438, -0.1640625 , -0.12792969,\n",
              "        0.04785156, -0.19238281, -0.22558594,  0.01428223,  0.05883789,\n",
              "       -0.00046349, -0.14160156,  0.09472656,  0.06640625,  0.17480469,\n",
              "        0.17480469, -0.07080078,  0.4140625 , -0.0546875 ,  0.09912109,\n",
              "        0.28125   , -0.15429688,  0.01116943,  0.12304688, -0.19238281,\n",
              "        0.39257812, -0.11279297,  0.14941406,  0.00363159,  0.01977539,\n",
              "       -0.1875    ,  0.06347656,  0.18554688, -0.10351562,  0.06640625,\n",
              "        0.17773438, -0.00305176,  0.0625    , -0.04907227,  0.02612305,\n",
              "       -0.11425781, -0.05224609, -0.00466919, -0.00793457, -0.1640625 ,\n",
              "        0.03613281,  0.04003906,  0.3359375 ,  0.02160645,  0.23242188,\n",
              "        0.01324463, -0.06030273, -0.11181641, -0.09521484, -0.02355957,\n",
              "       -0.2734375 ,  0.2734375 ,  0.03613281,  0.1484375 , -0.00245667,\n",
              "        0.08789062, -0.17675781, -0.26953125, -0.05566406,  0.02954102,\n",
              "       -0.10693359,  0.02600098,  0.00747681,  0.14257812,  0.02197266,\n",
              "       -0.22070312, -0.05102539, -0.15917969,  0.03417969,  0.09179688],\n",
              "      dtype=float32)"
            ]
          },
          "metadata": {},
          "execution_count": 24
        }
      ]
    },
    {
      "cell_type": "code",
      "source": [
        "word2vec_model_train.wv[0].shape"
      ],
      "metadata": {
        "colab": {
          "base_uri": "https://localhost:8080/"
        },
        "id": "KnvwFaxh3sQ3",
        "outputId": "c720cc5b-f522-447c-83c0-ef88320e2cab"
      },
      "execution_count": 25,
      "outputs": [
        {
          "output_type": "execute_result",
          "data": {
            "text/plain": [
              "(300,)"
            ]
          },
          "metadata": {},
          "execution_count": 25
        }
      ]
    },
    {
      "cell_type": "markdown",
      "source": [
        "#Word2Vec Transfer Learning (Test Set)\n",
        "\n",
        "Using google's model on our vocabulary for our Test Set.\n"
      ],
      "metadata": {
        "id": "RNAjgNd1B5S3"
      }
    },
    {
      "cell_type": "code",
      "source": [
        "word2vec_model_test = Word2Vec(vector_size=300, min_count=5, sg=1, window=5, epochs=300)\n",
        "\n",
        "word2vec_model_test.build_vocab(tweets_test)\n",
        "\n",
        "word2vec_model_test.wv.vectors_lockf = np.ones(len(word2vec_model_test.wv))\n",
        "\n",
        "word2vec_model_test.wv.intersect_word2vec_format('/content/drive/MyDrive/Colab Notebooks/data/GoogleNews-vectors-negative300.bin.gz', lockf=1.0, binary=True)"
      ],
      "metadata": {
        "id": "t_4IejvACBF-"
      },
      "execution_count": 26,
      "outputs": []
    },
    {
      "cell_type": "code",
      "source": [
        "word2vec_model_test.train(tweets_test,   # Our training dataset \n",
        "                     total_examples=3755, #might have to change this     \n",
        "                     epochs = 5)"
      ],
      "metadata": {
        "colab": {
          "base_uri": "https://localhost:8080/"
        },
        "id": "IwDtiieRCXfg",
        "outputId": "31b1232e-31ea-4141-b85d-78576d4091c6"
      },
      "execution_count": 27,
      "outputs": [
        {
          "output_type": "execute_result",
          "data": {
            "text/plain": [
              "(122852, 327195)"
            ]
          },
          "metadata": {},
          "execution_count": 27
        }
      ]
    },
    {
      "cell_type": "code",
      "source": [
        "word2vec_model_test.save('word2vec_model_transfer2')\n",
        "word2vec_model_test = Word2Vec.load('word2vec_model_transfer2')"
      ],
      "metadata": {
        "id": "kjnjmbkUCr-g"
      },
      "execution_count": 28,
      "outputs": []
    },
    {
      "cell_type": "code",
      "source": [
        "#Display similar data to chosen word\n",
        "word2vec_model_test.wv.most_similar(positive=['day'], topn=20)"
      ],
      "metadata": {
        "colab": {
          "base_uri": "https://localhost:8080/"
        },
        "id": "VX85KDmqC4J6",
        "outputId": "e1b8fa56-f8ee-44fb-9233-ce06ca8c1c46"
      },
      "execution_count": 31,
      "outputs": [
        {
          "output_type": "execute_result",
          "data": {
            "text/plain": [
              "[('week', 0.6592847108840942),\n",
              " ('time', 0.512919008731842),\n",
              " ('today', 0.40076982975006104),\n",
              " ('years', 0.393409788608551),\n",
              " ('year', 0.38970518112182617),\n",
              " ('when', 0.37142327427864075),\n",
              " ('moment', 0.3623729646205902),\n",
              " ('during', 0.3459227979183197),\n",
              " ('one', 0.34247705340385437),\n",
              " ('after', 0.33487382531166077),\n",
              " ('on', 0.3150891661643982),\n",
              " ('holiday', 0.3094046115875244),\n",
              " ('assad', 0.30893540382385254),\n",
              " ('here', 0.30712082982063293),\n",
              " ('life', 0.30237942934036255),\n",
              " ('at', 0.2961806654930115),\n",
              " ('four', 0.29069674015045166),\n",
              " ('start', 0.2874959111213684),\n",
              " ('where', 0.2817683219909668),\n",
              " ('while', 0.2793140113353729)]"
            ]
          },
          "metadata": {},
          "execution_count": 31
        }
      ]
    },
    {
      "cell_type": "code",
      "source": [
        "#Visualize the similar words on a scatter plot\n",
        "display_closestwords_tsnescatterplot(word2vec_model_test,'day')"
      ],
      "metadata": {
        "colab": {
          "base_uri": "https://localhost:8080/",
          "height": 273
        },
        "id": "Y4e7EdXZC8tT",
        "outputId": "198988da-c6b4-4f96-bd08-4c592e323ef7"
      },
      "execution_count": 32,
      "outputs": [
        {
          "output_type": "display_data",
          "data": {
            "text/plain": [
              "<Figure size 432x288 with 1 Axes>"
            ],
            "image/png": "[encoded data removed]"
          },
          "metadata": {
            "needs_background": "light"
          }
        }
      ]
    },
    {
      "cell_type": "code",
      "source": [
        "#Display the vector for the word boston.\n",
        "word2vec_model_test.wv['day']"
      ],
      "metadata": {
        "colab": {
          "base_uri": "https://localhost:8080/"
        },
        "id": "vro6JJFbDALi",
        "outputId": "790d8ce2-2a6f-49b8-a574-97f97e8c8d00"
      },
      "execution_count": 34,
      "outputs": [
        {
          "output_type": "execute_result",
          "data": {
            "text/plain": [
              "array([-0.15039062,  0.07226562,  0.03051758,  0.04150391,  0.01806641,\n",
              "       -0.03686523,  0.16894531, -0.125     ,  0.21875   ,  0.04589844,\n",
              "        0.07958984, -0.06347656,  0.15332031, -0.03466797,  0.06054688,\n",
              "        0.13085938, -0.11914062,  0.03515625,  0.15917969, -0.09277344,\n",
              "       -0.12353516,  0.00430298,  0.04980469, -0.12109375, -0.08984375,\n",
              "        0.08789062,  0.11181641,  0.125     ,  0.12402344,  0.07421875,\n",
              "       -0.04150391,  0.05444336,  0.08007812,  0.0234375 , -0.11230469,\n",
              "       -0.0168457 , -0.08789062, -0.10644531, -0.08251953,  0.0612793 ,\n",
              "        0.05981445, -0.0246582 ,  0.23730469,  0.05126953, -0.05297852,\n",
              "       -0.05249023, -0.10302734,  0.1328125 , -0.07617188,  0.04223633,\n",
              "        0.02783203, -0.08935547, -0.02734375,  0.09375   ,  0.07128906,\n",
              "        0.02600098,  0.00552368, -0.01446533,  0.08300781, -0.15234375,\n",
              "       -0.08203125,  0.09179688, -0.00102997, -0.10205078,  0.10888672,\n",
              "       -0.012146  , -0.04638672, -0.04150391,  0.0456543 ,  0.04248047,\n",
              "        0.06445312,  0.03491211, -0.03039551,  0.11181641,  0.09521484,\n",
              "       -0.11328125,  0.07226562,  0.03759766, -0.00396729,  0.06591797,\n",
              "       -0.00488281, -0.09912109,  0.00592041, -0.06396484,  0.04882812,\n",
              "        0.01904297, -0.11474609, -0.08007812,  0.14257812,  0.16210938,\n",
              "        0.24121094,  0.21386719, -0.06347656, -0.24804688, -0.375     ,\n",
              "       -0.00854492,  0.13085938,  0.07861328,  0.06396484, -0.046875  ,\n",
              "        0.16210938, -0.16113281, -0.11865234, -0.01483154, -0.10986328,\n",
              "       -0.21777344, -0.04321289, -0.01025391, -0.10644531,  0.01422119,\n",
              "        0.16308594,  0.03344727,  0.04492188, -0.00170135,  0.2578125 ,\n",
              "       -0.02966309,  0.14453125, -0.02001953,  0.02563477,  0.11083984,\n",
              "       -0.11572266, -0.09130859,  0.0255127 ,  0.0625    ,  0.0002861 ,\n",
              "        0.01025391,  0.15625   , -0.02905273,  0.00086594,  0.04736328,\n",
              "       -0.10498047, -0.18359375, -0.01507568, -0.08447266, -0.15722656,\n",
              "       -0.18847656,  0.00378418,  0.04296875, -0.09912109, -0.07568359,\n",
              "        0.19335938, -0.12890625,  0.04736328, -0.12353516, -0.1484375 ,\n",
              "        0.06835938,  0.03442383, -0.18261719, -0.00866699, -0.07470703,\n",
              "        0.08496094,  0.1875    , -0.14941406, -0.0098877 ,  0.06591797,\n",
              "       -0.11181641, -0.05786133, -0.25      , -0.17285156,  0.07470703,\n",
              "       -0.09277344,  0.0390625 ,  0.12109375,  0.12695312, -0.01123047,\n",
              "        0.04614258,  0.03979492, -0.09277344,  0.09912109, -0.11816406,\n",
              "       -0.10644531,  0.06689453, -0.01013184, -0.23925781, -0.06933594,\n",
              "       -0.1796875 ,  0.01434326,  0.03613281, -0.01806641, -0.01086426,\n",
              "       -0.18066406,  0.04956055,  0.0177002 ,  0.04785156,  0.19140625,\n",
              "        0.03564453,  0.1875    , -0.06591797,  0.19042969, -0.01385498,\n",
              "        0.02319336,  0.09521484, -0.12890625,  0.02490234, -0.20703125,\n",
              "        0.07470703, -0.04980469,  0.10791016, -0.296875  ,  0.02441406,\n",
              "        0.0189209 ,  0.00708008, -0.10351562, -0.06347656,  0.22851562,\n",
              "       -0.00430298, -0.18066406,  0.14648438,  0.07226562, -0.15722656,\n",
              "        0.09082031,  0.05981445, -0.14941406, -0.03613281, -0.10498047,\n",
              "        0.02587891, -0.02197266,  0.02746582, -0.265625  ,  0.06542969,\n",
              "        0.16992188,  0.17773438,  0.18652344, -0.14746094, -0.05419922,\n",
              "       -0.12988281,  0.03271484, -0.00476074, -0.05322266, -0.03955078,\n",
              "        0.18261719,  0.02990723,  0.03662109, -0.01599121, -0.00000572,\n",
              "       -0.02868652, -0.03710938,  0.13867188,  0.05053711, -0.10107422,\n",
              "        0.18066406,  0.05029297, -0.08935547, -0.23144531,  0.01153564,\n",
              "       -0.08544922, -0.11035156, -0.06835938,  0.02844238,  0.0030365 ,\n",
              "       -0.10449219,  0.10791016,  0.07177734, -0.0213623 ,  0.01544189,\n",
              "        0.0045166 ,  0.10058594,  0.05566406, -0.00656128, -0.06298828,\n",
              "        0.03100586, -0.08349609,  0.13671875, -0.01782227,  0.17089844,\n",
              "        0.10107422,  0.21582031,  0.203125  , -0.13476562,  0.15039062,\n",
              "        0.10253906,  0.0007515 ,  0.14160156,  0.14746094,  0.20214844,\n",
              "       -0.06494141, -0.12890625, -0.02502441,  0.08154297, -0.05639648,\n",
              "        0.01818848,  0.01867676, -0.07617188,  0.1484375 , -0.00537109,\n",
              "       -0.1328125 , -0.140625  ,  0.18457031,  0.07275391,  0.15722656,\n",
              "        0.10986328, -0.04199219, -0.16894531, -0.07421875, -0.04272461,\n",
              "       -0.05712891, -0.20703125,  0.13183594,  0.08447266,  0.01867676],\n",
              "      dtype=float32)"
            ]
          },
          "metadata": {},
          "execution_count": 34
        }
      ]
    },
    {
      "cell_type": "code",
      "source": [
        "word2vec_model_test.wv[0]"
      ],
      "metadata": {
        "colab": {
          "base_uri": "https://localhost:8080/"
        },
        "id": "req6t_RmDDYz",
        "outputId": "32e61696-e2e8-481d-8bf9-e975a9006902"
      },
      "execution_count": 35,
      "outputs": [
        {
          "output_type": "execute_result",
          "data": {
            "text/plain": [
              "array([-0.33789062,  0.19824219, -0.296875  ,  0.1484375 , -0.21777344,\n",
              "       -0.03686523, -0.00582886, -0.12109375,  0.14257812, -0.05053711,\n",
              "       -0.05908203, -0.07421875, -0.25195312, -0.06835938, -0.12255859,\n",
              "        0.16308594,  0.00274658,  0.36132812, -0.00567627, -0.12597656,\n",
              "       -0.29101562, -0.11279297,  0.2578125 , -0.07177734,  0.02368164,\n",
              "       -0.07519531, -0.3671875 ,  0.02783203, -0.24414062, -0.00830078,\n",
              "        0.12304688,  0.12060547,  0.00933838,  0.0088501 , -0.10058594,\n",
              "        0.19824219, -0.4921875 ,  0.14746094,  0.15234375,  0.125     ,\n",
              "       -0.08300781, -0.15234375,  0.17578125, -0.05541992,  0.00439453,\n",
              "       -0.03369141,  0.07080078, -0.05371094, -0.12451172,  0.234375  ,\n",
              "       -0.140625  ,  0.23632812, -0.15332031,  0.61328125,  0.29492188,\n",
              "       -0.09521484,  0.06494141, -0.15722656, -0.16210938, -0.125     ,\n",
              "       -0.15527344,  0.05517578, -0.04516602, -0.09423828, -0.00479126,\n",
              "       -0.27539062, -0.23046875,  0.01477051,  0.0168457 ,  0.11083984,\n",
              "        0.05078125, -0.07177734, -0.0267334 , -0.08642578, -0.18652344,\n",
              "       -0.05053711,  0.2578125 ,  0.12451172, -0.02929688, -0.11279297,\n",
              "       -0.28320312,  0.01953125, -0.32226562,  0.09716797,  0.12890625,\n",
              "        0.09130859,  0.10351562,  0.25585938, -0.18261719, -0.14355469,\n",
              "       -0.09912109,  0.23046875, -0.04125977, -0.4375    ,  0.06030273,\n",
              "        0.06933594, -0.31445312,  0.06176758,  0.38867188,  0.11572266,\n",
              "       -0.21875   , -0.16015625, -0.17773438,  0.03466797, -0.06103516,\n",
              "        0.22460938, -0.01989746,  0.04663086, -0.17285156,  0.05932617,\n",
              "       -0.23144531, -0.29101562, -0.02661133,  0.06225586,  0.23632812,\n",
              "        0.26171875,  0.04150391, -0.14355469, -0.11328125,  0.15527344,\n",
              "        0.01806641,  0.24316406,  0.05200195,  0.15234375,  0.07470703,\n",
              "       -0.3046875 , -0.16308594, -0.28710938, -0.18457031, -0.11425781,\n",
              "       -0.21386719, -0.00805664,  0.01519775, -0.15429688, -0.25585938,\n",
              "        0.00127411, -0.07421875,  0.13085938,  0.34960938,  0.20507812,\n",
              "        0.171875  , -0.15429688,  0.27734375,  0.08984375, -0.07519531,\n",
              "        0.04077148, -0.01696777,  0.10205078, -0.03466797, -0.07666016,\n",
              "        0.00939941, -0.5234375 , -0.08105469, -0.20019531, -0.02746582,\n",
              "       -0.01940918,  0.00994873,  0.33007812, -0.18847656, -0.04077148,\n",
              "        0.05957031,  0.17480469, -0.07373047,  0.01843262,  0.02844238,\n",
              "       -0.06542969,  0.21289062,  0.24023438, -0.03833008,  0.25195312,\n",
              "       -0.21972656,  0.14746094, -0.07714844, -0.03015137,  0.08984375,\n",
              "       -0.01977539,  0.18164062, -0.16308594, -0.20996094, -0.19140625,\n",
              "       -0.07177734,  0.15820312,  0.07958984,  0.07568359,  0.1796875 ,\n",
              "        0.02172852, -0.06445312,  0.19824219, -0.15917969,  0.234375  ,\n",
              "        0.25976562,  0.03173828, -0.26367188,  0.00680542,  0.17480469,\n",
              "       -0.22949219, -0.01708984, -0.03759766,  0.06884766,  0.03857422,\n",
              "       -0.09375   , -0.04492188, -0.3359375 , -0.14355469,  0.22070312,\n",
              "       -0.05322266, -0.01696777,  0.06787109,  0.00114441,  0.11181641,\n",
              "        0.12402344,  0.26757812, -0.15234375, -0.15429688, -0.25390625,\n",
              "       -0.12792969,  0.203125  , -0.20019531, -0.14941406,  0.11425781,\n",
              "       -0.19921875,  0.25585938, -0.02587891,  0.10009766,  0.05786133,\n",
              "       -0.15820312,  0.25585938,  0.30273438, -0.1640625 , -0.12792969,\n",
              "        0.04785156, -0.19238281, -0.22558594,  0.01428223,  0.05883789,\n",
              "       -0.00046349, -0.14160156,  0.09472656,  0.06640625,  0.17480469,\n",
              "        0.17480469, -0.07080078,  0.4140625 , -0.0546875 ,  0.09912109,\n",
              "        0.28125   , -0.15429688,  0.01116943,  0.12304688, -0.19238281,\n",
              "        0.39257812, -0.11279297,  0.14941406,  0.00363159,  0.01977539,\n",
              "       -0.1875    ,  0.06347656,  0.18554688, -0.10351562,  0.06640625,\n",
              "        0.17773438, -0.00305176,  0.0625    , -0.04907227,  0.02612305,\n",
              "       -0.11425781, -0.05224609, -0.00466919, -0.00793457, -0.1640625 ,\n",
              "        0.03613281,  0.04003906,  0.3359375 ,  0.02160645,  0.23242188,\n",
              "        0.01324463, -0.06030273, -0.11181641, -0.09521484, -0.02355957,\n",
              "       -0.2734375 ,  0.2734375 ,  0.03613281,  0.1484375 , -0.00245667,\n",
              "        0.08789062, -0.17675781, -0.26953125, -0.05566406,  0.02954102,\n",
              "       -0.10693359,  0.02600098,  0.00747681,  0.14257812,  0.02197266,\n",
              "       -0.22070312, -0.05102539, -0.15917969,  0.03417969,  0.09179688],\n",
              "      dtype=float32)"
            ]
          },
          "metadata": {},
          "execution_count": 35
        }
      ]
    },
    {
      "cell_type": "code",
      "source": [
        "word2vec_model_test.wv[0].shape"
      ],
      "metadata": {
        "colab": {
          "base_uri": "https://localhost:8080/"
        },
        "id": "EOVMYoEaDF3b",
        "outputId": "c57ab6ad-b2d3-47ca-943e-bda5ef3d5c07"
      },
      "execution_count": 36,
      "outputs": [
        {
          "output_type": "execute_result",
          "data": {
            "text/plain": [
              "(300,)"
            ]
          },
          "metadata": {},
          "execution_count": 36
        }
      ]
    },
    {
      "cell_type": "markdown",
      "source": [
        "#Create Training and Test Sets\n",
        "Create the test and training sets for our X and Y.\n",
        "\n",
        "This is what will be fed into the functional model for the text portion.\n"
      ],
      "metadata": {
        "id": "P5acLfjUa2Jb"
      }
    },
    {
      "cell_type": "code",
      "source": [
        "### Create train and test sets\n",
        "### Gotta alter this for our model. Will finish at work.\n",
        "### NOTE: gotta do the same for the test data in the test folder. This is only for the Training set\n",
        "\n",
        "# Generate random indexes\n",
        "indexes = set(np.random.choice(num_of_tweets, num_of_tweets, replace=False))\n",
        "\n",
        "X = np.zeros((num_of_tweets, max_tweet_length, vector_size), dtype= np.float32)\n",
        "Y = np.zeros((num_of_tweets, 2), dtype= np.float32)\n",
        "\n",
        "for i, index in enumerate(indexes):\n",
        "    for t, token in enumerate(tweets[index]):\n",
        "        if t >= max_tweet_length:\n",
        "            break\n",
        "        \n",
        "        if token not in model.wv:\n",
        "            continue\n",
        "        \n",
        "        X[i, t, :] = model.wv[token]\n",
        "        \n",
        "            \n",
        "    Y[i, :] = [1.0, 0.0] if tweets[index] == 0 else [0.0, 1.0]    \n",
        "    \n",
        "    \n",
        "X_train, X_test, Y_train, Y_test = train_test_split(X, Y, test_size=0.2, random_state=1) "
      ],
      "metadata": {
        "id": "knx_P8us50do"
      },
      "execution_count": null,
      "outputs": []
    },
    {
      "cell_type": "markdown",
      "source": [
        "# Image preprocessing"
      ],
      "metadata": {
        "id": "LwX1lg_-_MqZ"
      }
    },
    {
      "cell_type": "markdown",
      "source": [
        "\"\"\"\n",
        "import string\n",
        "from pprint import pprint\n",
        "\n",
        "max_sentence_len = 200\n",
        "\n",
        "with open(\"/content/drive/MyDrive/Colab Notebooks/data/devset/tweets.txt\", encoding = 'utf-8') as file_:\n",
        "    docs = file_.readlines()\n",
        "    \n",
        "sentences = [[word for word in doc.lower().translate(str.maketrans('','',string.punctuation)).split()[:max_sentence_len]] for doc in docs]\n",
        "print('Num sentences:', len(sentences))\n",
        "\"\"\""
      ],
      "metadata": {
        "id": "7DvHmU2WQdDI"
      }
    },
    {
      "cell_type": "code",
      "source": [
        "image_file_read = \"/content/drive/MyDrive/Colab Notebooks/data/devset/images.txt\""
      ],
      "metadata": {
        "id": "A8Rogw44_Tux"
      },
      "execution_count": null,
      "outputs": []
    },
    {
      "cell_type": "code",
      "source": [
        "df_images = pd.read_csv(image_file_read,sep='\\s+', header=0)"
      ],
      "metadata": {
        "id": "VFcPy0A8m3wD"
      },
      "execution_count": null,
      "outputs": []
    },
    {
      "cell_type": "code",
      "source": [
        "df_images.loc[(df_images['annotation'] != \"fake\") & (df_images['annotation'] != \"real\"), 'event'] = df_images['annotation']\n",
        "df_images.loc[(df_images['annotation'] != \"fake\") & (df_images['annotation'] != \"real\"), 'annotation'] = 'fake'"
      ],
      "metadata": {
        "id": "_kpIFupum3zP"
      },
      "execution_count": null,
      "outputs": []
    },
    {
      "cell_type": "code",
      "source": [
        "df_images.to_csv(\"/content/drive/MyDrive/Colab Notebooks/data/devset/images_dataframe.csv\", index=False)"
      ],
      "metadata": {
        "id": "xRR6cng7m32R"
      },
      "execution_count": null,
      "outputs": []
    },
    {
      "cell_type": "code",
      "source": [],
      "metadata": {
        "id": "6tCBXrFwA5Qp"
      },
      "execution_count": null,
      "outputs": []
    },
    {
      "cell_type": "markdown",
      "source": [
        "#Functional Model\n",
        "\n",
        "Put everything together:\n",
        "\n",
        "word2vec_model = Neural Network\n",
        "\n",
        "Image data = CNN"
      ],
      "metadata": {
        "id": "NPHw-xpS4UpX"
      }
    },
    {
      "cell_type": "code",
      "source": [],
      "metadata": {
        "id": "ErYJ9-_U_M3j"
      },
      "execution_count": null,
      "outputs": []
    },
    {
      "cell_type": "code",
      "source": [],
      "metadata": {
        "id": "0ZaLV9AC_NUq"
      },
      "execution_count": null,
      "outputs": []
    },
    {
      "cell_type": "code",
      "source": [],
      "metadata": {
        "id": "OUvW-qLX_NXi"
      },
      "execution_count": null,
      "outputs": []
    },
    {
      "cell_type": "markdown",
      "source": [
        "#Word2Vec (No longer needed)\n",
        "\n",
        "Training our model\n",
        "NOTE: Come back and include test data\n",
        "\n",
        "REDUNDANT SECTION"
      ],
      "metadata": {
        "id": "_D945svjlEsV"
      }
    },
    {
      "cell_type": "code",
      "source": [
        "#Create a Word2Vec model for our training data.\n",
        "print('\\nTraining word2vec...')\n",
        "word_model_train = Word2Vec(tweets_train, vector_size=300, min_count=5, sg=1, window=5, epochs=100)\n",
        "pretrained_weights = word_model_train.wv.vectors\n",
        "vocab_size, emdedding_size = pretrained_weights.shape"
      ],
      "metadata": {
        "colab": {
          "base_uri": "https://localhost:8080/"
        },
        "id": "eHYHPpvwltnz",
        "outputId": "63315f0a-ac74-47fd-8e4e-953e566f42d4"
      },
      "execution_count": null,
      "outputs": [
        {
          "output_type": "stream",
          "name": "stdout",
          "text": [
            "\n",
            "Training word2vec...\n"
          ]
        }
      ]
    },
    {
      "cell_type": "code",
      "source": [
        "#Save model and load weights for faster speeds.\n",
        "word_model_train.save('word2vec_model_scratch')\n",
        "word_model_train = Word2Vec.load('word2vec_model_scratch')"
      ],
      "metadata": {
        "id": "hQQPHbz2rVtU"
      },
      "execution_count": null,
      "outputs": []
    },
    {
      "cell_type": "code",
      "source": [
        "#View similar words in the current vocabulary\n",
        "word_model_train.wv.similar_by_word('boston')"
      ],
      "metadata": {
        "colab": {
          "base_uri": "https://localhost:8080/"
        },
        "id": "NxIBZRlIrcq2",
        "outputId": "312a1683-b2e4-4581-9186-d2343130a22a"
      },
      "execution_count": null,
      "outputs": [
        {
          "output_type": "execute_result",
          "data": {
            "text/plain": [
              "[('suspect', 0.6627120971679688),\n",
              " ('bombing', 0.6022583246231079),\n",
              " ('marathon', 0.5265966653823853),\n",
              " ('zoom', 0.46663346886634827),\n",
              " ('bombings', 0.464824914932251),\n",
              " ('bomber', 0.4516785740852356),\n",
              " ('releases', 0.4490015506744385),\n",
              " ('fbi', 0.44374606013298035),\n",
              " ('custody', 0.4349137246608734),\n",
              " ('bomb', 0.43143191933631897)]"
            ]
          },
          "metadata": {},
          "execution_count": 115
        }
      ]
    },
    {
      "cell_type": "code",
      "source": [
        "#View similary words compared to two words\n",
        "word_model_train.wv.most_similar(positive=['sandy', 'boston'])"
      ],
      "metadata": {
        "colab": {
          "base_uri": "https://localhost:8080/"
        },
        "id": "i17b1dutr1Hn",
        "outputId": "ef34a8a7-a764-492f-a5aa-a76318bec1bd"
      },
      "execution_count": null,
      "outputs": [
        {
          "output_type": "execute_result",
          "data": {
            "text/plain": [
              "[('suspect', 0.4535013735294342),\n",
              " ('bombing', 0.4375600516796112),\n",
              " ('marathon', 0.3905838429927826),\n",
              " ('releases', 0.3534371256828308),\n",
              " ('zoom', 0.3406946659088135),\n",
              " ('fbi', 0.3402778208255768),\n",
              " ('gruber', 0.3320220708847046),\n",
              " ('exclusiva', 0.32944199442863464),\n",
              " ('pvgb', 0.32841557264328003),\n",
              " ('custody', 0.32718586921691895)]"
            ]
          },
          "metadata": {},
          "execution_count": 75
        }
      ]
    },
    {
      "cell_type": "code",
      "source": [
        "#Visualize words within a 2D space that are similar to the selected word.\n",
        "display_closestwords_tsnescatterplot(word_model_train,'boston')   "
      ],
      "metadata": {
        "colab": {
          "base_uri": "https://localhost:8080/",
          "height": 273
        },
        "id": "J_r2dvBOsEzS",
        "outputId": "4aae5292-ad5e-448b-c3a2-5dab52e219e1"
      },
      "execution_count": null,
      "outputs": [
        {
          "output_type": "display_data",
          "data": {
            "text/plain": [
              "<Figure size 432x288 with 1 Axes>"
            ],
            "image/png": "[encoded data removed]"
          },
          "metadata": {
            "needs_background": "light"
          }
        }
      ]
    },
    {
      "cell_type": "markdown",
      "source": [
        "# (OLD) Data Preprocessing\n",
        "\n",
        "Import dataset and preprocess it."
      ],
      "metadata": {
        "id": "VwglsWePPJkr"
      }
    },
    {
      "cell_type": "code",
      "source": [
        "\"\"\"\n",
        "del sentences[0]\n",
        "\"\"\""
      ],
      "metadata": {
        "id": "_kEJfyDHKX4K"
      },
      "execution_count": null,
      "outputs": []
    },
    {
      "cell_type": "code",
      "source": [
        "#tweets_df = pd.read_csv('/content/drive/MyDrive/Colab Notebooks/data/devset/tweet_features.csv', na_values = ['NA', '?'])\n",
        "#tweets_df"
      ],
      "metadata": {
        "id": "saCbJh8JLB8E"
      },
      "execution_count": null,
      "outputs": []
    },
    {
      "cell_type": "code",
      "source": [
        "\"\"\"\n",
        "i = 0\n",
        "tweets = []\n",
        "imageID = []\n",
        "dropped_rows = []\n",
        "for i in range(len(sentences)):\n",
        "  if(sentences[i][-1] != \"humor\"):\n",
        "    tweets.append(sentences[i][1:-10])\n",
        "    imageID.append(sentences[i][0:-8])\n",
        "  #else:\n",
        "    #tweets_df = tweets_df.drop([i])\n",
        "    \"\"\""
      ],
      "metadata": {
        "id": "K2TubbjMYGOh",
        "colab": {
          "base_uri": "https://localhost:8080/",
          "height": 72
        },
        "outputId": "9936afe4-64a7-43c1-d1a6-b022da19a9b3"
      },
      "execution_count": null,
      "outputs": [
        {
          "output_type": "execute_result",
          "data": {
            "text/plain": [
              "'\\ni = 0\\ntweets = []\\nimageID = []\\ndropped_rows = []\\nfor i in range(len(sentences)):\\n  if(sentences[i][-1] != \"humor\"):\\n    tweets.append(sentences[i][1:-10])\\n    imageID.append(sentences[i][0:-8])\\n  #else:\\n    #tweets_df = tweets_df.drop([i])\\n    '"
            ],
            "application/vnd.google.colaboratory.intrinsic+json": {
              "type": "string"
            }
          },
          "metadata": {},
          "execution_count": 61
        }
      ]
    },
    {
      "cell_type": "code",
      "source": [
        "\"\"\"\n",
        "for i in range(len(imageID)):\n",
        "  if('sandyafake' not in imageID[i]):\n",
        "    print(\"Tweet ID: \", imageID[i][0])\n",
        "    print(imageID[i][-1])\n",
        "#tweets\n",
        "\"\"\""
      ],
      "metadata": {
        "id": "eA2QBrN22BvK"
      },
      "execution_count": null,
      "outputs": []
    },
    {
      "cell_type": "code",
      "source": [
        "#tweets_df"
      ],
      "metadata": {
        "id": "V2yZK6dDvWPi"
      },
      "execution_count": null,
      "outputs": []
    },
    {
      "cell_type": "code",
      "source": [
        "\"\"\"\n",
        "print('Num sentences:', len(sentences))\n",
        "print('Num of sentence without humor:', len(tweets))\n",
        "#sentences[0][1:-11]\n",
        "\"\"\""
      ],
      "metadata": {
        "id": "YXTwuGu-KaN5",
        "colab": {
          "base_uri": "https://localhost:8080/"
        },
        "outputId": "cbeee34c-06fa-405d-9500-cdc159a8e8d6"
      },
      "execution_count": null,
      "outputs": [
        {
          "output_type": "stream",
          "name": "stdout",
          "text": [
            "Num sentences: 14483\n",
            "Num of sentence without humor: 11850\n"
          ]
        }
      ]
    },
    {
      "cell_type": "code",
      "source": [
        "#https://www.youtube.com/watch?v=ZrgVlfNduj8"
      ],
      "metadata": {
        "id": "gdA61AAbcSlk"
      },
      "execution_count": null,
      "outputs": []
    }
  ]
}